{
 "cells": [
  {
   "cell_type": "code",
   "execution_count": 40,
   "id": "d13fc938",
   "metadata": {},
   "outputs": [],
   "source": [
    "import pandas as pd\n",
    "\n",
    "df=pd.read_csv('data.csv')"
   ]
  },
  {
   "cell_type": "code",
   "execution_count": 41,
   "id": "73c3979c",
   "metadata": {},
   "outputs": [
    {
     "data": {
      "application/vnd.microsoft.datawrangler.viewer.v0+json": {
       "columns": [
        {
         "name": "index",
         "rawType": "int64",
         "type": "integer"
        },
        {
         "name": "Make",
         "rawType": "object",
         "type": "string"
        },
        {
         "name": "Model",
         "rawType": "object",
         "type": "string"
        },
        {
         "name": "Year",
         "rawType": "int64",
         "type": "integer"
        },
        {
         "name": "Engine Fuel Type",
         "rawType": "object",
         "type": "string"
        },
        {
         "name": "Engine HP",
         "rawType": "float64",
         "type": "float"
        },
        {
         "name": "Engine Cylinders",
         "rawType": "float64",
         "type": "float"
        },
        {
         "name": "Transmission Type",
         "rawType": "object",
         "type": "string"
        },
        {
         "name": "Driven_Wheels",
         "rawType": "object",
         "type": "string"
        },
        {
         "name": "Number of Doors",
         "rawType": "float64",
         "type": "float"
        },
        {
         "name": "Market Category",
         "rawType": "object",
         "type": "string"
        },
        {
         "name": "Vehicle Size",
         "rawType": "object",
         "type": "string"
        },
        {
         "name": "Vehicle Style",
         "rawType": "object",
         "type": "string"
        },
        {
         "name": "highway MPG",
         "rawType": "int64",
         "type": "integer"
        },
        {
         "name": "city mpg",
         "rawType": "int64",
         "type": "integer"
        },
        {
         "name": "Popularity",
         "rawType": "int64",
         "type": "integer"
        },
        {
         "name": "MSRP",
         "rawType": "int64",
         "type": "integer"
        }
       ],
       "ref": "c3058271-6336-4761-bb61-9a4b58d9535a",
       "rows": [
        [
         "0",
         "BMW",
         "1 Series M",
         "2011",
         "premium unleaded (required)",
         "335.0",
         "6.0",
         "MANUAL",
         "rear wheel drive",
         "2.0",
         "Factory Tuner,Luxury,High-Performance",
         "Compact",
         "Coupe",
         "26",
         "19",
         "3916",
         "46135"
        ],
        [
         "1",
         "BMW",
         "1 Series",
         "2011",
         "premium unleaded (required)",
         "300.0",
         "6.0",
         "MANUAL",
         "rear wheel drive",
         "2.0",
         "Luxury,Performance",
         "Compact",
         "Convertible",
         "28",
         "19",
         "3916",
         "40650"
        ],
        [
         "2",
         "BMW",
         "1 Series",
         "2011",
         "premium unleaded (required)",
         "300.0",
         "6.0",
         "MANUAL",
         "rear wheel drive",
         "2.0",
         "Luxury,High-Performance",
         "Compact",
         "Coupe",
         "28",
         "20",
         "3916",
         "36350"
        ],
        [
         "3",
         "BMW",
         "1 Series",
         "2011",
         "premium unleaded (required)",
         "230.0",
         "6.0",
         "MANUAL",
         "rear wheel drive",
         "2.0",
         "Luxury,Performance",
         "Compact",
         "Coupe",
         "28",
         "18",
         "3916",
         "29450"
        ],
        [
         "4",
         "BMW",
         "1 Series",
         "2011",
         "premium unleaded (required)",
         "230.0",
         "6.0",
         "MANUAL",
         "rear wheel drive",
         "2.0",
         "Luxury",
         "Compact",
         "Convertible",
         "28",
         "18",
         "3916",
         "34500"
        ]
       ],
       "shape": {
        "columns": 16,
        "rows": 5
       }
      },
      "text/html": [
       "<div>\n",
       "<style scoped>\n",
       "    .dataframe tbody tr th:only-of-type {\n",
       "        vertical-align: middle;\n",
       "    }\n",
       "\n",
       "    .dataframe tbody tr th {\n",
       "        vertical-align: top;\n",
       "    }\n",
       "\n",
       "    .dataframe thead th {\n",
       "        text-align: right;\n",
       "    }\n",
       "</style>\n",
       "<table border=\"1\" class=\"dataframe\">\n",
       "  <thead>\n",
       "    <tr style=\"text-align: right;\">\n",
       "      <th></th>\n",
       "      <th>Make</th>\n",
       "      <th>Model</th>\n",
       "      <th>Year</th>\n",
       "      <th>Engine Fuel Type</th>\n",
       "      <th>Engine HP</th>\n",
       "      <th>Engine Cylinders</th>\n",
       "      <th>Transmission Type</th>\n",
       "      <th>Driven_Wheels</th>\n",
       "      <th>Number of Doors</th>\n",
       "      <th>Market Category</th>\n",
       "      <th>Vehicle Size</th>\n",
       "      <th>Vehicle Style</th>\n",
       "      <th>highway MPG</th>\n",
       "      <th>city mpg</th>\n",
       "      <th>Popularity</th>\n",
       "      <th>MSRP</th>\n",
       "    </tr>\n",
       "  </thead>\n",
       "  <tbody>\n",
       "    <tr>\n",
       "      <th>0</th>\n",
       "      <td>BMW</td>\n",
       "      <td>1 Series M</td>\n",
       "      <td>2011</td>\n",
       "      <td>premium unleaded (required)</td>\n",
       "      <td>335.0</td>\n",
       "      <td>6.0</td>\n",
       "      <td>MANUAL</td>\n",
       "      <td>rear wheel drive</td>\n",
       "      <td>2.0</td>\n",
       "      <td>Factory Tuner,Luxury,High-Performance</td>\n",
       "      <td>Compact</td>\n",
       "      <td>Coupe</td>\n",
       "      <td>26</td>\n",
       "      <td>19</td>\n",
       "      <td>3916</td>\n",
       "      <td>46135</td>\n",
       "    </tr>\n",
       "    <tr>\n",
       "      <th>1</th>\n",
       "      <td>BMW</td>\n",
       "      <td>1 Series</td>\n",
       "      <td>2011</td>\n",
       "      <td>premium unleaded (required)</td>\n",
       "      <td>300.0</td>\n",
       "      <td>6.0</td>\n",
       "      <td>MANUAL</td>\n",
       "      <td>rear wheel drive</td>\n",
       "      <td>2.0</td>\n",
       "      <td>Luxury,Performance</td>\n",
       "      <td>Compact</td>\n",
       "      <td>Convertible</td>\n",
       "      <td>28</td>\n",
       "      <td>19</td>\n",
       "      <td>3916</td>\n",
       "      <td>40650</td>\n",
       "    </tr>\n",
       "    <tr>\n",
       "      <th>2</th>\n",
       "      <td>BMW</td>\n",
       "      <td>1 Series</td>\n",
       "      <td>2011</td>\n",
       "      <td>premium unleaded (required)</td>\n",
       "      <td>300.0</td>\n",
       "      <td>6.0</td>\n",
       "      <td>MANUAL</td>\n",
       "      <td>rear wheel drive</td>\n",
       "      <td>2.0</td>\n",
       "      <td>Luxury,High-Performance</td>\n",
       "      <td>Compact</td>\n",
       "      <td>Coupe</td>\n",
       "      <td>28</td>\n",
       "      <td>20</td>\n",
       "      <td>3916</td>\n",
       "      <td>36350</td>\n",
       "    </tr>\n",
       "    <tr>\n",
       "      <th>3</th>\n",
       "      <td>BMW</td>\n",
       "      <td>1 Series</td>\n",
       "      <td>2011</td>\n",
       "      <td>premium unleaded (required)</td>\n",
       "      <td>230.0</td>\n",
       "      <td>6.0</td>\n",
       "      <td>MANUAL</td>\n",
       "      <td>rear wheel drive</td>\n",
       "      <td>2.0</td>\n",
       "      <td>Luxury,Performance</td>\n",
       "      <td>Compact</td>\n",
       "      <td>Coupe</td>\n",
       "      <td>28</td>\n",
       "      <td>18</td>\n",
       "      <td>3916</td>\n",
       "      <td>29450</td>\n",
       "    </tr>\n",
       "    <tr>\n",
       "      <th>4</th>\n",
       "      <td>BMW</td>\n",
       "      <td>1 Series</td>\n",
       "      <td>2011</td>\n",
       "      <td>premium unleaded (required)</td>\n",
       "      <td>230.0</td>\n",
       "      <td>6.0</td>\n",
       "      <td>MANUAL</td>\n",
       "      <td>rear wheel drive</td>\n",
       "      <td>2.0</td>\n",
       "      <td>Luxury</td>\n",
       "      <td>Compact</td>\n",
       "      <td>Convertible</td>\n",
       "      <td>28</td>\n",
       "      <td>18</td>\n",
       "      <td>3916</td>\n",
       "      <td>34500</td>\n",
       "    </tr>\n",
       "  </tbody>\n",
       "</table>\n",
       "</div>"
      ],
      "text/plain": [
       "  Make       Model  Year             Engine Fuel Type  Engine HP  \\\n",
       "0  BMW  1 Series M  2011  premium unleaded (required)      335.0   \n",
       "1  BMW    1 Series  2011  premium unleaded (required)      300.0   \n",
       "2  BMW    1 Series  2011  premium unleaded (required)      300.0   \n",
       "3  BMW    1 Series  2011  premium unleaded (required)      230.0   \n",
       "4  BMW    1 Series  2011  premium unleaded (required)      230.0   \n",
       "\n",
       "   Engine Cylinders Transmission Type     Driven_Wheels  Number of Doors  \\\n",
       "0               6.0            MANUAL  rear wheel drive              2.0   \n",
       "1               6.0            MANUAL  rear wheel drive              2.0   \n",
       "2               6.0            MANUAL  rear wheel drive              2.0   \n",
       "3               6.0            MANUAL  rear wheel drive              2.0   \n",
       "4               6.0            MANUAL  rear wheel drive              2.0   \n",
       "\n",
       "                         Market Category Vehicle Size Vehicle Style  \\\n",
       "0  Factory Tuner,Luxury,High-Performance      Compact         Coupe   \n",
       "1                     Luxury,Performance      Compact   Convertible   \n",
       "2                Luxury,High-Performance      Compact         Coupe   \n",
       "3                     Luxury,Performance      Compact         Coupe   \n",
       "4                                 Luxury      Compact   Convertible   \n",
       "\n",
       "   highway MPG  city mpg  Popularity   MSRP  \n",
       "0           26        19        3916  46135  \n",
       "1           28        19        3916  40650  \n",
       "2           28        20        3916  36350  \n",
       "3           28        18        3916  29450  \n",
       "4           28        18        3916  34500  "
      ]
     },
     "execution_count": 41,
     "metadata": {},
     "output_type": "execute_result"
    }
   ],
   "source": [
    "df.head()"
   ]
  },
  {
   "cell_type": "markdown",
   "id": "13660060",
   "metadata": {},
   "source": [
    "# data cleaning and preprocessing\n",
    "\n",
    "- naming columns names uniform by coverting to lower and removing spaces \n",
    "- applying same cleaning on string values of data , making them in lower case and replacing space with underscore"
   ]
  },
  {
   "cell_type": "code",
   "execution_count": null,
   "id": "0335c8c6",
   "metadata": {},
   "outputs": [
    {
     "data": {
      "text/plain": [
       "Index(['Make', 'Model', 'Year', 'Engine Fuel Type', 'Engine HP',\n",
       "       'Engine Cylinders', 'Transmission Type', 'Driven_Wheels',\n",
       "       'Number of Doors', 'Market Category', 'Vehicle Size', 'Vehicle Style',\n",
       "       'highway MPG', 'city mpg', 'Popularity', 'MSRP'],\n",
       "      dtype='object')"
      ]
     },
     "execution_count": 4,
     "metadata": {},
     "output_type": "execute_result"
    }
   ],
   "source": [
    "df.columns"
   ]
  },
  {
   "cell_type": "code",
   "execution_count": 42,
   "id": "0e15e365",
   "metadata": {},
   "outputs": [
    {
     "data": {
      "text/plain": [
       "Index(['make', 'model', 'year', 'engine_fuel_type', 'engine_hp',\n",
       "       'engine_cylinders', 'transmission_type', 'driven_wheels',\n",
       "       'number_of_doors', 'market_category', 'vehicle_size', 'vehicle_style',\n",
       "       'highway_mpg', 'city_mpg', 'popularity', 'msrp'],\n",
       "      dtype='object')"
      ]
     },
     "execution_count": 42,
     "metadata": {},
     "output_type": "execute_result"
    }
   ],
   "source": [
    "df.columns.str.replace(' ','_').str.lower()"
   ]
  },
  {
   "cell_type": "code",
   "execution_count": 43,
   "id": "4066ae6c",
   "metadata": {},
   "outputs": [],
   "source": [
    "# applying changes to columns names\n",
    "df.columns=df.columns.str.replace(' ','_').str.lower()"
   ]
  },
  {
   "cell_type": "code",
   "execution_count": 44,
   "id": "9c4b7df5",
   "metadata": {},
   "outputs": [
    {
     "data": {
      "application/vnd.microsoft.datawrangler.viewer.v0+json": {
       "columns": [
        {
         "name": "index",
         "rawType": "int64",
         "type": "integer"
        },
        {
         "name": "make",
         "rawType": "object",
         "type": "string"
        },
        {
         "name": "model",
         "rawType": "object",
         "type": "string"
        },
        {
         "name": "year",
         "rawType": "int64",
         "type": "integer"
        },
        {
         "name": "engine_fuel_type",
         "rawType": "object",
         "type": "string"
        },
        {
         "name": "engine_hp",
         "rawType": "float64",
         "type": "float"
        },
        {
         "name": "engine_cylinders",
         "rawType": "float64",
         "type": "float"
        },
        {
         "name": "transmission_type",
         "rawType": "object",
         "type": "string"
        },
        {
         "name": "driven_wheels",
         "rawType": "object",
         "type": "string"
        },
        {
         "name": "number_of_doors",
         "rawType": "float64",
         "type": "float"
        },
        {
         "name": "market_category",
         "rawType": "object",
         "type": "string"
        },
        {
         "name": "vehicle_size",
         "rawType": "object",
         "type": "string"
        },
        {
         "name": "vehicle_style",
         "rawType": "object",
         "type": "string"
        },
        {
         "name": "highway_mpg",
         "rawType": "int64",
         "type": "integer"
        },
        {
         "name": "city_mpg",
         "rawType": "int64",
         "type": "integer"
        },
        {
         "name": "popularity",
         "rawType": "int64",
         "type": "integer"
        },
        {
         "name": "msrp",
         "rawType": "int64",
         "type": "integer"
        }
       ],
       "ref": "0b607edf-7c6d-4064-9672-06799fe1e7cb",
       "rows": [
        [
         "0",
         "BMW",
         "1 Series M",
         "2011",
         "premium unleaded (required)",
         "335.0",
         "6.0",
         "MANUAL",
         "rear wheel drive",
         "2.0",
         "Factory Tuner,Luxury,High-Performance",
         "Compact",
         "Coupe",
         "26",
         "19",
         "3916",
         "46135"
        ],
        [
         "1",
         "BMW",
         "1 Series",
         "2011",
         "premium unleaded (required)",
         "300.0",
         "6.0",
         "MANUAL",
         "rear wheel drive",
         "2.0",
         "Luxury,Performance",
         "Compact",
         "Convertible",
         "28",
         "19",
         "3916",
         "40650"
        ],
        [
         "2",
         "BMW",
         "1 Series",
         "2011",
         "premium unleaded (required)",
         "300.0",
         "6.0",
         "MANUAL",
         "rear wheel drive",
         "2.0",
         "Luxury,High-Performance",
         "Compact",
         "Coupe",
         "28",
         "20",
         "3916",
         "36350"
        ],
        [
         "3",
         "BMW",
         "1 Series",
         "2011",
         "premium unleaded (required)",
         "230.0",
         "6.0",
         "MANUAL",
         "rear wheel drive",
         "2.0",
         "Luxury,Performance",
         "Compact",
         "Coupe",
         "28",
         "18",
         "3916",
         "29450"
        ],
        [
         "4",
         "BMW",
         "1 Series",
         "2011",
         "premium unleaded (required)",
         "230.0",
         "6.0",
         "MANUAL",
         "rear wheel drive",
         "2.0",
         "Luxury",
         "Compact",
         "Convertible",
         "28",
         "18",
         "3916",
         "34500"
        ]
       ],
       "shape": {
        "columns": 16,
        "rows": 5
       }
      },
      "text/html": [
       "<div>\n",
       "<style scoped>\n",
       "    .dataframe tbody tr th:only-of-type {\n",
       "        vertical-align: middle;\n",
       "    }\n",
       "\n",
       "    .dataframe tbody tr th {\n",
       "        vertical-align: top;\n",
       "    }\n",
       "\n",
       "    .dataframe thead th {\n",
       "        text-align: right;\n",
       "    }\n",
       "</style>\n",
       "<table border=\"1\" class=\"dataframe\">\n",
       "  <thead>\n",
       "    <tr style=\"text-align: right;\">\n",
       "      <th></th>\n",
       "      <th>make</th>\n",
       "      <th>model</th>\n",
       "      <th>year</th>\n",
       "      <th>engine_fuel_type</th>\n",
       "      <th>engine_hp</th>\n",
       "      <th>engine_cylinders</th>\n",
       "      <th>transmission_type</th>\n",
       "      <th>driven_wheels</th>\n",
       "      <th>number_of_doors</th>\n",
       "      <th>market_category</th>\n",
       "      <th>vehicle_size</th>\n",
       "      <th>vehicle_style</th>\n",
       "      <th>highway_mpg</th>\n",
       "      <th>city_mpg</th>\n",
       "      <th>popularity</th>\n",
       "      <th>msrp</th>\n",
       "    </tr>\n",
       "  </thead>\n",
       "  <tbody>\n",
       "    <tr>\n",
       "      <th>0</th>\n",
       "      <td>BMW</td>\n",
       "      <td>1 Series M</td>\n",
       "      <td>2011</td>\n",
       "      <td>premium unleaded (required)</td>\n",
       "      <td>335.0</td>\n",
       "      <td>6.0</td>\n",
       "      <td>MANUAL</td>\n",
       "      <td>rear wheel drive</td>\n",
       "      <td>2.0</td>\n",
       "      <td>Factory Tuner,Luxury,High-Performance</td>\n",
       "      <td>Compact</td>\n",
       "      <td>Coupe</td>\n",
       "      <td>26</td>\n",
       "      <td>19</td>\n",
       "      <td>3916</td>\n",
       "      <td>46135</td>\n",
       "    </tr>\n",
       "    <tr>\n",
       "      <th>1</th>\n",
       "      <td>BMW</td>\n",
       "      <td>1 Series</td>\n",
       "      <td>2011</td>\n",
       "      <td>premium unleaded (required)</td>\n",
       "      <td>300.0</td>\n",
       "      <td>6.0</td>\n",
       "      <td>MANUAL</td>\n",
       "      <td>rear wheel drive</td>\n",
       "      <td>2.0</td>\n",
       "      <td>Luxury,Performance</td>\n",
       "      <td>Compact</td>\n",
       "      <td>Convertible</td>\n",
       "      <td>28</td>\n",
       "      <td>19</td>\n",
       "      <td>3916</td>\n",
       "      <td>40650</td>\n",
       "    </tr>\n",
       "    <tr>\n",
       "      <th>2</th>\n",
       "      <td>BMW</td>\n",
       "      <td>1 Series</td>\n",
       "      <td>2011</td>\n",
       "      <td>premium unleaded (required)</td>\n",
       "      <td>300.0</td>\n",
       "      <td>6.0</td>\n",
       "      <td>MANUAL</td>\n",
       "      <td>rear wheel drive</td>\n",
       "      <td>2.0</td>\n",
       "      <td>Luxury,High-Performance</td>\n",
       "      <td>Compact</td>\n",
       "      <td>Coupe</td>\n",
       "      <td>28</td>\n",
       "      <td>20</td>\n",
       "      <td>3916</td>\n",
       "      <td>36350</td>\n",
       "    </tr>\n",
       "    <tr>\n",
       "      <th>3</th>\n",
       "      <td>BMW</td>\n",
       "      <td>1 Series</td>\n",
       "      <td>2011</td>\n",
       "      <td>premium unleaded (required)</td>\n",
       "      <td>230.0</td>\n",
       "      <td>6.0</td>\n",
       "      <td>MANUAL</td>\n",
       "      <td>rear wheel drive</td>\n",
       "      <td>2.0</td>\n",
       "      <td>Luxury,Performance</td>\n",
       "      <td>Compact</td>\n",
       "      <td>Coupe</td>\n",
       "      <td>28</td>\n",
       "      <td>18</td>\n",
       "      <td>3916</td>\n",
       "      <td>29450</td>\n",
       "    </tr>\n",
       "    <tr>\n",
       "      <th>4</th>\n",
       "      <td>BMW</td>\n",
       "      <td>1 Series</td>\n",
       "      <td>2011</td>\n",
       "      <td>premium unleaded (required)</td>\n",
       "      <td>230.0</td>\n",
       "      <td>6.0</td>\n",
       "      <td>MANUAL</td>\n",
       "      <td>rear wheel drive</td>\n",
       "      <td>2.0</td>\n",
       "      <td>Luxury</td>\n",
       "      <td>Compact</td>\n",
       "      <td>Convertible</td>\n",
       "      <td>28</td>\n",
       "      <td>18</td>\n",
       "      <td>3916</td>\n",
       "      <td>34500</td>\n",
       "    </tr>\n",
       "  </tbody>\n",
       "</table>\n",
       "</div>"
      ],
      "text/plain": [
       "  make       model  year             engine_fuel_type  engine_hp  \\\n",
       "0  BMW  1 Series M  2011  premium unleaded (required)      335.0   \n",
       "1  BMW    1 Series  2011  premium unleaded (required)      300.0   \n",
       "2  BMW    1 Series  2011  premium unleaded (required)      300.0   \n",
       "3  BMW    1 Series  2011  premium unleaded (required)      230.0   \n",
       "4  BMW    1 Series  2011  premium unleaded (required)      230.0   \n",
       "\n",
       "   engine_cylinders transmission_type     driven_wheels  number_of_doors  \\\n",
       "0               6.0            MANUAL  rear wheel drive              2.0   \n",
       "1               6.0            MANUAL  rear wheel drive              2.0   \n",
       "2               6.0            MANUAL  rear wheel drive              2.0   \n",
       "3               6.0            MANUAL  rear wheel drive              2.0   \n",
       "4               6.0            MANUAL  rear wheel drive              2.0   \n",
       "\n",
       "                         market_category vehicle_size vehicle_style  \\\n",
       "0  Factory Tuner,Luxury,High-Performance      Compact         Coupe   \n",
       "1                     Luxury,Performance      Compact   Convertible   \n",
       "2                Luxury,High-Performance      Compact         Coupe   \n",
       "3                     Luxury,Performance      Compact         Coupe   \n",
       "4                                 Luxury      Compact   Convertible   \n",
       "\n",
       "   highway_mpg  city_mpg  popularity   msrp  \n",
       "0           26        19        3916  46135  \n",
       "1           28        19        3916  40650  \n",
       "2           28        20        3916  36350  \n",
       "3           28        18        3916  29450  \n",
       "4           28        18        3916  34500  "
      ]
     },
     "execution_count": 44,
     "metadata": {},
     "output_type": "execute_result"
    }
   ],
   "source": [
    "df.head()"
   ]
  },
  {
   "cell_type": "code",
   "execution_count": 8,
   "id": "433b5608",
   "metadata": {},
   "outputs": [
    {
     "data": {
      "application/vnd.microsoft.datawrangler.viewer.v0+json": {
       "columns": [
        {
         "name": "index",
         "rawType": "object",
         "type": "string"
        },
        {
         "name": "0",
         "rawType": "object",
         "type": "unknown"
        }
       ],
       "ref": "f37911c1-2d9b-4917-b783-2809700a4074",
       "rows": [
        [
         "make",
         "object"
        ],
        [
         "model",
         "object"
        ],
        [
         "year",
         "int64"
        ],
        [
         "engine_fuel_type",
         "object"
        ],
        [
         "engine_hp",
         "float64"
        ],
        [
         "engine_cylinders",
         "float64"
        ],
        [
         "transmission_type",
         "object"
        ],
        [
         "driven_wheels",
         "object"
        ],
        [
         "number_of_doors",
         "float64"
        ],
        [
         "market_category",
         "object"
        ],
        [
         "vehicle_size",
         "object"
        ],
        [
         "vehicle_style",
         "object"
        ],
        [
         "highway_mpg",
         "int64"
        ],
        [
         "city_mpg",
         "int64"
        ],
        [
         "popularity",
         "int64"
        ],
        [
         "msrp",
         "int64"
        ]
       ],
       "shape": {
        "columns": 1,
        "rows": 16
       }
      },
      "text/plain": [
       "make                  object\n",
       "model                 object\n",
       "year                   int64\n",
       "engine_fuel_type      object\n",
       "engine_hp            float64\n",
       "engine_cylinders     float64\n",
       "transmission_type     object\n",
       "driven_wheels         object\n",
       "number_of_doors      float64\n",
       "market_category       object\n",
       "vehicle_size          object\n",
       "vehicle_style         object\n",
       "highway_mpg            int64\n",
       "city_mpg               int64\n",
       "popularity             int64\n",
       "msrp                   int64\n",
       "dtype: object"
      ]
     },
     "execution_count": 8,
     "metadata": {},
     "output_type": "execute_result"
    }
   ],
   "source": [
    "df.dtypes"
   ]
  },
  {
   "cell_type": "code",
   "execution_count": 10,
   "id": "04447f49",
   "metadata": {},
   "outputs": [
    {
     "data": {
      "application/vnd.microsoft.datawrangler.viewer.v0+json": {
       "columns": [
        {
         "name": "index",
         "rawType": "object",
         "type": "string"
        },
        {
         "name": "0",
         "rawType": "bool",
         "type": "boolean"
        }
       ],
       "ref": "e959d0e3-c7de-4489-99f2-7c10d4dbc3d4",
       "rows": [
        [
         "make",
         "True"
        ],
        [
         "model",
         "True"
        ],
        [
         "year",
         "False"
        ],
        [
         "engine_fuel_type",
         "True"
        ],
        [
         "engine_hp",
         "False"
        ],
        [
         "engine_cylinders",
         "False"
        ],
        [
         "transmission_type",
         "True"
        ],
        [
         "driven_wheels",
         "True"
        ],
        [
         "number_of_doors",
         "False"
        ],
        [
         "market_category",
         "True"
        ],
        [
         "vehicle_size",
         "True"
        ],
        [
         "vehicle_style",
         "True"
        ],
        [
         "highway_mpg",
         "False"
        ],
        [
         "city_mpg",
         "False"
        ],
        [
         "popularity",
         "False"
        ],
        [
         "msrp",
         "False"
        ]
       ],
       "shape": {
        "columns": 1,
        "rows": 16
       }
      },
      "text/plain": [
       "make                  True\n",
       "model                 True\n",
       "year                 False\n",
       "engine_fuel_type      True\n",
       "engine_hp            False\n",
       "engine_cylinders     False\n",
       "transmission_type     True\n",
       "driven_wheels         True\n",
       "number_of_doors      False\n",
       "market_category       True\n",
       "vehicle_size          True\n",
       "vehicle_style         True\n",
       "highway_mpg          False\n",
       "city_mpg             False\n",
       "popularity           False\n",
       "msrp                 False\n",
       "dtype: bool"
      ]
     },
     "execution_count": 10,
     "metadata": {},
     "output_type": "execute_result"
    }
   ],
   "source": [
    "# fetch only columns which are of str types\n",
    "\n",
    "df.dtypes == 'object'"
   ]
  },
  {
   "cell_type": "code",
   "execution_count": 46,
   "id": "9a613c34",
   "metadata": {},
   "outputs": [
    {
     "data": {
      "text/plain": [
       "['make',\n",
       " 'model',\n",
       " 'engine_fuel_type',\n",
       " 'transmission_type',\n",
       " 'driven_wheels',\n",
       " 'market_category',\n",
       " 'vehicle_size',\n",
       " 'vehicle_style']"
      ]
     },
     "execution_count": 46,
     "metadata": {},
     "output_type": "execute_result"
    }
   ],
   "source": [
    "strings=list(df.dtypes[df.dtypes == 'object'].index)\n",
    "strings"
   ]
  },
  {
   "cell_type": "code",
   "execution_count": null,
   "id": "bd187b42",
   "metadata": {},
   "outputs": [],
   "source": [
    "strings=list(df.dtypes[df.dtypes == 'object'].index)\n",
    "\n",
    "for col in strings:\n",
    "    df[col]=df[col].str.lower().str.replace(' ','_')"
   ]
  },
  {
   "cell_type": "code",
   "execution_count": 15,
   "id": "6d42a5a1",
   "metadata": {},
   "outputs": [
    {
     "data": {
      "application/vnd.microsoft.datawrangler.viewer.v0+json": {
       "columns": [
        {
         "name": "index",
         "rawType": "int64",
         "type": "integer"
        },
        {
         "name": "make",
         "rawType": "object",
         "type": "string"
        },
        {
         "name": "model",
         "rawType": "object",
         "type": "string"
        },
        {
         "name": "year",
         "rawType": "int64",
         "type": "integer"
        },
        {
         "name": "engine_fuel_type",
         "rawType": "object",
         "type": "string"
        },
        {
         "name": "engine_hp",
         "rawType": "float64",
         "type": "float"
        },
        {
         "name": "engine_cylinders",
         "rawType": "float64",
         "type": "float"
        },
        {
         "name": "transmission_type",
         "rawType": "object",
         "type": "string"
        },
        {
         "name": "driven_wheels",
         "rawType": "object",
         "type": "string"
        },
        {
         "name": "number_of_doors",
         "rawType": "float64",
         "type": "float"
        },
        {
         "name": "market_category",
         "rawType": "object",
         "type": "string"
        },
        {
         "name": "vehicle_size",
         "rawType": "object",
         "type": "string"
        },
        {
         "name": "vehicle_style",
         "rawType": "object",
         "type": "string"
        },
        {
         "name": "highway_mpg",
         "rawType": "int64",
         "type": "integer"
        },
        {
         "name": "city_mpg",
         "rawType": "int64",
         "type": "integer"
        },
        {
         "name": "popularity",
         "rawType": "int64",
         "type": "integer"
        },
        {
         "name": "msrp",
         "rawType": "int64",
         "type": "integer"
        }
       ],
       "ref": "fa8a9342-66fc-47a1-8b72-c9df67a303f4",
       "rows": [
        [
         "0",
         "bmw",
         "1_series_m",
         "2011",
         "premium_unleaded_(required)",
         "335.0",
         "6.0",
         "manual",
         "rear_wheel_drive",
         "2.0",
         "factory_tuner,luxury,high-performance",
         "compact",
         "coupe",
         "26",
         "19",
         "3916",
         "46135"
        ],
        [
         "1",
         "bmw",
         "1_series",
         "2011",
         "premium_unleaded_(required)",
         "300.0",
         "6.0",
         "manual",
         "rear_wheel_drive",
         "2.0",
         "luxury,performance",
         "compact",
         "convertible",
         "28",
         "19",
         "3916",
         "40650"
        ],
        [
         "2",
         "bmw",
         "1_series",
         "2011",
         "premium_unleaded_(required)",
         "300.0",
         "6.0",
         "manual",
         "rear_wheel_drive",
         "2.0",
         "luxury,high-performance",
         "compact",
         "coupe",
         "28",
         "20",
         "3916",
         "36350"
        ],
        [
         "3",
         "bmw",
         "1_series",
         "2011",
         "premium_unleaded_(required)",
         "230.0",
         "6.0",
         "manual",
         "rear_wheel_drive",
         "2.0",
         "luxury,performance",
         "compact",
         "coupe",
         "28",
         "18",
         "3916",
         "29450"
        ],
        [
         "4",
         "bmw",
         "1_series",
         "2011",
         "premium_unleaded_(required)",
         "230.0",
         "6.0",
         "manual",
         "rear_wheel_drive",
         "2.0",
         "luxury",
         "compact",
         "convertible",
         "28",
         "18",
         "3916",
         "34500"
        ]
       ],
       "shape": {
        "columns": 16,
        "rows": 5
       }
      },
      "text/html": [
       "<div>\n",
       "<style scoped>\n",
       "    .dataframe tbody tr th:only-of-type {\n",
       "        vertical-align: middle;\n",
       "    }\n",
       "\n",
       "    .dataframe tbody tr th {\n",
       "        vertical-align: top;\n",
       "    }\n",
       "\n",
       "    .dataframe thead th {\n",
       "        text-align: right;\n",
       "    }\n",
       "</style>\n",
       "<table border=\"1\" class=\"dataframe\">\n",
       "  <thead>\n",
       "    <tr style=\"text-align: right;\">\n",
       "      <th></th>\n",
       "      <th>make</th>\n",
       "      <th>model</th>\n",
       "      <th>year</th>\n",
       "      <th>engine_fuel_type</th>\n",
       "      <th>engine_hp</th>\n",
       "      <th>engine_cylinders</th>\n",
       "      <th>transmission_type</th>\n",
       "      <th>driven_wheels</th>\n",
       "      <th>number_of_doors</th>\n",
       "      <th>market_category</th>\n",
       "      <th>vehicle_size</th>\n",
       "      <th>vehicle_style</th>\n",
       "      <th>highway_mpg</th>\n",
       "      <th>city_mpg</th>\n",
       "      <th>popularity</th>\n",
       "      <th>msrp</th>\n",
       "    </tr>\n",
       "  </thead>\n",
       "  <tbody>\n",
       "    <tr>\n",
       "      <th>0</th>\n",
       "      <td>bmw</td>\n",
       "      <td>1_series_m</td>\n",
       "      <td>2011</td>\n",
       "      <td>premium_unleaded_(required)</td>\n",
       "      <td>335.0</td>\n",
       "      <td>6.0</td>\n",
       "      <td>manual</td>\n",
       "      <td>rear_wheel_drive</td>\n",
       "      <td>2.0</td>\n",
       "      <td>factory_tuner,luxury,high-performance</td>\n",
       "      <td>compact</td>\n",
       "      <td>coupe</td>\n",
       "      <td>26</td>\n",
       "      <td>19</td>\n",
       "      <td>3916</td>\n",
       "      <td>46135</td>\n",
       "    </tr>\n",
       "    <tr>\n",
       "      <th>1</th>\n",
       "      <td>bmw</td>\n",
       "      <td>1_series</td>\n",
       "      <td>2011</td>\n",
       "      <td>premium_unleaded_(required)</td>\n",
       "      <td>300.0</td>\n",
       "      <td>6.0</td>\n",
       "      <td>manual</td>\n",
       "      <td>rear_wheel_drive</td>\n",
       "      <td>2.0</td>\n",
       "      <td>luxury,performance</td>\n",
       "      <td>compact</td>\n",
       "      <td>convertible</td>\n",
       "      <td>28</td>\n",
       "      <td>19</td>\n",
       "      <td>3916</td>\n",
       "      <td>40650</td>\n",
       "    </tr>\n",
       "    <tr>\n",
       "      <th>2</th>\n",
       "      <td>bmw</td>\n",
       "      <td>1_series</td>\n",
       "      <td>2011</td>\n",
       "      <td>premium_unleaded_(required)</td>\n",
       "      <td>300.0</td>\n",
       "      <td>6.0</td>\n",
       "      <td>manual</td>\n",
       "      <td>rear_wheel_drive</td>\n",
       "      <td>2.0</td>\n",
       "      <td>luxury,high-performance</td>\n",
       "      <td>compact</td>\n",
       "      <td>coupe</td>\n",
       "      <td>28</td>\n",
       "      <td>20</td>\n",
       "      <td>3916</td>\n",
       "      <td>36350</td>\n",
       "    </tr>\n",
       "    <tr>\n",
       "      <th>3</th>\n",
       "      <td>bmw</td>\n",
       "      <td>1_series</td>\n",
       "      <td>2011</td>\n",
       "      <td>premium_unleaded_(required)</td>\n",
       "      <td>230.0</td>\n",
       "      <td>6.0</td>\n",
       "      <td>manual</td>\n",
       "      <td>rear_wheel_drive</td>\n",
       "      <td>2.0</td>\n",
       "      <td>luxury,performance</td>\n",
       "      <td>compact</td>\n",
       "      <td>coupe</td>\n",
       "      <td>28</td>\n",
       "      <td>18</td>\n",
       "      <td>3916</td>\n",
       "      <td>29450</td>\n",
       "    </tr>\n",
       "    <tr>\n",
       "      <th>4</th>\n",
       "      <td>bmw</td>\n",
       "      <td>1_series</td>\n",
       "      <td>2011</td>\n",
       "      <td>premium_unleaded_(required)</td>\n",
       "      <td>230.0</td>\n",
       "      <td>6.0</td>\n",
       "      <td>manual</td>\n",
       "      <td>rear_wheel_drive</td>\n",
       "      <td>2.0</td>\n",
       "      <td>luxury</td>\n",
       "      <td>compact</td>\n",
       "      <td>convertible</td>\n",
       "      <td>28</td>\n",
       "      <td>18</td>\n",
       "      <td>3916</td>\n",
       "      <td>34500</td>\n",
       "    </tr>\n",
       "  </tbody>\n",
       "</table>\n",
       "</div>"
      ],
      "text/plain": [
       "  make       model  year             engine_fuel_type  engine_hp  \\\n",
       "0  bmw  1_series_m  2011  premium_unleaded_(required)      335.0   \n",
       "1  bmw    1_series  2011  premium_unleaded_(required)      300.0   \n",
       "2  bmw    1_series  2011  premium_unleaded_(required)      300.0   \n",
       "3  bmw    1_series  2011  premium_unleaded_(required)      230.0   \n",
       "4  bmw    1_series  2011  premium_unleaded_(required)      230.0   \n",
       "\n",
       "   engine_cylinders transmission_type     driven_wheels  number_of_doors  \\\n",
       "0               6.0            manual  rear_wheel_drive              2.0   \n",
       "1               6.0            manual  rear_wheel_drive              2.0   \n",
       "2               6.0            manual  rear_wheel_drive              2.0   \n",
       "3               6.0            manual  rear_wheel_drive              2.0   \n",
       "4               6.0            manual  rear_wheel_drive              2.0   \n",
       "\n",
       "                         market_category vehicle_size vehicle_style  \\\n",
       "0  factory_tuner,luxury,high-performance      compact         coupe   \n",
       "1                     luxury,performance      compact   convertible   \n",
       "2                luxury,high-performance      compact         coupe   \n",
       "3                     luxury,performance      compact         coupe   \n",
       "4                                 luxury      compact   convertible   \n",
       "\n",
       "   highway_mpg  city_mpg  popularity   msrp  \n",
       "0           26        19        3916  46135  \n",
       "1           28        19        3916  40650  \n",
       "2           28        20        3916  36350  \n",
       "3           28        18        3916  29450  \n",
       "4           28        18        3916  34500  "
      ]
     },
     "execution_count": 15,
     "metadata": {},
     "output_type": "execute_result"
    }
   ],
   "source": [
    "df.head()"
   ]
  },
  {
   "cell_type": "markdown",
   "id": "57d0560b",
   "metadata": {},
   "source": [
    "# Data Exploration"
   ]
  },
  {
   "cell_type": "code",
   "execution_count": 48,
   "id": "e75a3902",
   "metadata": {},
   "outputs": [
    {
     "data": {
      "application/vnd.microsoft.datawrangler.viewer.v0+json": {
       "columns": [
        {
         "name": "index",
         "rawType": "object",
         "type": "string"
        },
        {
         "name": "0",
         "rawType": "object",
         "type": "unknown"
        }
       ],
       "ref": "9d3d138e-c4bd-437b-ac3c-b2b5084a4c34",
       "rows": [
        [
         "make",
         "object"
        ],
        [
         "model",
         "object"
        ],
        [
         "year",
         "int64"
        ],
        [
         "engine_fuel_type",
         "object"
        ],
        [
         "engine_hp",
         "float64"
        ],
        [
         "engine_cylinders",
         "float64"
        ],
        [
         "transmission_type",
         "object"
        ],
        [
         "driven_wheels",
         "object"
        ],
        [
         "number_of_doors",
         "float64"
        ],
        [
         "market_category",
         "object"
        ],
        [
         "vehicle_size",
         "object"
        ],
        [
         "vehicle_style",
         "object"
        ],
        [
         "highway_mpg",
         "int64"
        ],
        [
         "city_mpg",
         "int64"
        ],
        [
         "popularity",
         "int64"
        ],
        [
         "msrp",
         "int64"
        ]
       ],
       "shape": {
        "columns": 1,
        "rows": 16
       }
      },
      "text/plain": [
       "make                  object\n",
       "model                 object\n",
       "year                   int64\n",
       "engine_fuel_type      object\n",
       "engine_hp            float64\n",
       "engine_cylinders     float64\n",
       "transmission_type     object\n",
       "driven_wheels         object\n",
       "number_of_doors      float64\n",
       "market_category       object\n",
       "vehicle_size          object\n",
       "vehicle_style         object\n",
       "highway_mpg            int64\n",
       "city_mpg               int64\n",
       "popularity             int64\n",
       "msrp                   int64\n",
       "dtype: object"
      ]
     },
     "execution_count": 48,
     "metadata": {},
     "output_type": "execute_result"
    }
   ],
   "source": [
    "df.dtypes"
   ]
  },
  {
   "cell_type": "code",
   "execution_count": 49,
   "id": "063a32e9",
   "metadata": {},
   "outputs": [
    {
     "name": "stdout",
     "output_type": "stream",
     "text": [
      "Column: make\n",
      "['bmw' 'audi' 'fiat' 'mercedes-benz' 'chrysler']\n",
      "48\n",
      "****************************************\n",
      "Column: model\n",
      "['1_series_m' '1_series' '100' '124_spider' '190-class']\n",
      "914\n",
      "****************************************\n",
      "Column: year\n",
      "[2011 2012 2013 1992 1993]\n",
      "28\n",
      "****************************************\n",
      "Column: engine_fuel_type\n",
      "['premium_unleaded_(required)' 'regular_unleaded'\n",
      " 'premium_unleaded_(recommended)' 'flex-fuel_(unleaded/e85)' 'diesel']\n",
      "10\n",
      "****************************************\n",
      "Column: engine_hp\n",
      "[335. 300. 230. 320. 172.]\n",
      "356\n",
      "****************************************\n",
      "Column: engine_cylinders\n",
      "[ 6.  4.  5.  8. 12.]\n",
      "9\n",
      "****************************************\n",
      "Column: transmission_type\n",
      "['manual' 'automatic' 'automated_manual' 'direct_drive' 'unknown']\n",
      "5\n",
      "****************************************\n",
      "Column: driven_wheels\n",
      "['rear_wheel_drive' 'front_wheel_drive' 'all_wheel_drive'\n",
      " 'four_wheel_drive']\n",
      "4\n",
      "****************************************\n",
      "Column: number_of_doors\n",
      "[ 2.  4.  3. nan]\n",
      "3\n",
      "****************************************\n",
      "Column: market_category\n",
      "['factory_tuner,luxury,high-performance' 'luxury,performance'\n",
      " 'luxury,high-performance' 'luxury' 'performance']\n",
      "71\n",
      "****************************************\n",
      "Column: vehicle_size\n",
      "['compact' 'midsize' 'large']\n",
      "3\n",
      "****************************************\n",
      "Column: vehicle_style\n",
      "['coupe' 'convertible' 'sedan' 'wagon' '4dr_hatchback']\n",
      "16\n",
      "****************************************\n",
      "Column: highway_mpg\n",
      "[26 28 27 25 24]\n",
      "59\n",
      "****************************************\n",
      "Column: city_mpg\n",
      "[19 20 18 17 16]\n",
      "69\n",
      "****************************************\n",
      "Column: popularity\n",
      "[3916 3105  819  617 1013]\n",
      "48\n",
      "****************************************\n",
      "Column: msrp\n",
      "[46135 40650 36350 29450 34500]\n",
      "6049\n",
      "****************************************\n"
     ]
    }
   ],
   "source": [
    "for col in df.columns:\n",
    "    print(f\"Column: {col}\")\n",
    "    print( df[col].unique()[:5]) # 5 unique values from a list\n",
    "    print( df[col].nunique()) # number of unique values for a column\n",
    "    print('********'* 5)"
   ]
  },
  {
   "cell_type": "code",
   "execution_count": 21,
   "id": "520dde4d",
   "metadata": {},
   "outputs": [
    {
     "name": "stderr",
     "output_type": "stream",
     "text": [
      "Matplotlib is building the font cache; this may take a moment.\n"
     ]
    }
   ],
   "source": [
    "import matplotlib.pyplot as plt\n",
    "import seaborn as sns"
   ]
  },
  {
   "cell_type": "code",
   "execution_count": null,
   "id": "960479ed",
   "metadata": {},
   "outputs": [],
   "source": [
    "%matplotlib inline # to show plots inline in notebook\n"
   ]
  },
  {
   "cell_type": "code",
   "execution_count": null,
   "id": "b3e323c8",
   "metadata": {},
   "outputs": [
    {
     "data": {
      "text/plain": [
       "<Axes: xlabel='msrp', ylabel='Count'>"
      ]
     },
     "execution_count": 23,
     "metadata": {},
     "output_type": "execute_result"
    },
    {
     "data": {
      "image/png": "[encoded data removed]",
      "text/plain": [
       "<Figure size 640x480 with 1 Axes>"
      ]
     },
     "metadata": {},
     "output_type": "display_data"
    }
   ],
   "source": [
    "sns.histplot(df.msrp,bins=50)\n",
    "#long tail distribution\n",
    "# outliers present\n",
    "#Long right tails often confuse regression models by forcing \n",
    "# them to trade off between fitting the bulk of common prices and \n",
    "# rare but extreme values. \\\n",
    "# A standard remedy is to log-transform the target:"
   ]
  },
  {
   "cell_type": "code",
   "execution_count": null,
   "id": "686936d0",
   "metadata": {},
   "outputs": [
    {
     "data": {
      "text/plain": [
       "<Axes: xlabel='msrp', ylabel='Count'>"
      ]
     },
     "execution_count": 26,
     "metadata": {},
     "output_type": "execute_result"
    },
    {
     "data": {
      "image/png": "[encoded data removed]",
      "text/plain": [
       "<Figure size 640x480 with 1 Axes>"
      ]
     },
     "metadata": {},
     "output_type": "display_data"
    }
   ],
   "source": [
    "sns.histplot(df.msrp[df.msrp< 100000],bins=50)\n",
    "#zoomed in plot to see better distribution"
   ]
  },
  {
   "cell_type": "code",
   "execution_count": 27,
   "id": "ca0e8362",
   "metadata": {},
   "outputs": [
    {
     "data": {
      "text/plain": [
       "<Axes: xlabel='msrp', ylabel='Count'>"
      ]
     },
     "execution_count": 27,
     "metadata": {},
     "output_type": "execute_result"
    },
    {
     "data": {
      "image/png": "[encoded data removed]",
      "text/plain": [
       "<Figure size 640x480 with 1 Axes>"
      ]
     },
     "metadata": {},
     "output_type": "display_data"
    }
   ],
   "source": [
    "sns.histplot(df.msrp[df.msrp> 100000],bins=50)\n"
   ]
  },
  {
   "cell_type": "code",
   "execution_count": null,
   "id": "ec14cca5",
   "metadata": {},
   "outputs": [],
   "source": [
    "# to train the model we should remove outliers.\n",
    "# apply logrithmic transformation to make distribution more normal\n",
    "\n",
    "import numpy as np\n",
    "price_logs=np.log1p(df.msrp)\n",
    "#no.log(1+x) # to avoid log(0) issue shortcut np.log1p (log one plus)\n"
   ]
  },
  {
   "cell_type": "code",
   "execution_count": null,
   "id": "b1786a8a",
   "metadata": {},
   "outputs": [
    {
     "data": {
      "text/plain": [
       "<Axes: xlabel='msrp', ylabel='Count'>"
      ]
     },
     "execution_count": 30,
     "metadata": {},
     "output_type": "execute_result"
    },
    {
     "data": {
      "image/png": "[encoded data removed]",
      "text/plain": [
       "<Figure size 640x480 with 1 Axes>"
      ]
     },
     "metadata": {},
     "output_type": "display_data"
    }
   ],
   "source": [
    "sns.histplot(price_logs,bins=50)\n",
    "#normal distribution achieved.\n",
    "#ideal for regresion model training.\n",
    "#long tail distribution confuse models \n",
    "\n",
    "# What changes:\n",
    "\n",
    "# The right tail collapses, and the histogram looks more\n",
    "# bell-shaped (closer to normal).\n",
    "# This typically makes linear models happier and \n",
    "# reduces sensitivity to outliers."
   ]
  },
  {
   "cell_type": "code",
   "execution_count": null,
   "id": "81f7a0a5",
   "metadata": {},
   "outputs": [
    {
     "data": {
      "application/vnd.microsoft.datawrangler.viewer.v0+json": {
       "columns": [
        {
         "name": "index",
         "rawType": "object",
         "type": "string"
        },
        {
         "name": "0",
         "rawType": "int64",
         "type": "integer"
        }
       ],
       "ref": "03f4859b-88ab-4ee6-908e-ea5196aeaec3",
       "rows": [
        [
         "make",
         "0"
        ],
        [
         "model",
         "0"
        ],
        [
         "year",
         "0"
        ],
        [
         "engine_fuel_type",
         "3"
        ],
        [
         "engine_hp",
         "69"
        ],
        [
         "engine_cylinders",
         "30"
        ],
        [
         "transmission_type",
         "0"
        ],
        [
         "driven_wheels",
         "0"
        ],
        [
         "number_of_doors",
         "6"
        ],
        [
         "market_category",
         "3742"
        ],
        [
         "vehicle_size",
         "0"
        ],
        [
         "vehicle_style",
         "0"
        ],
        [
         "highway_mpg",
         "0"
        ],
        [
         "city_mpg",
         "0"
        ],
        [
         "popularity",
         "0"
        ],
        [
         "msrp",
         "0"
        ]
       ],
       "shape": {
        "columns": 1,
        "rows": 16
       }
      },
      "text/plain": [
       "make                    0\n",
       "model                   0\n",
       "year                    0\n",
       "engine_fuel_type        3\n",
       "engine_hp              69\n",
       "engine_cylinders       30\n",
       "transmission_type       0\n",
       "driven_wheels           0\n",
       "number_of_doors         6\n",
       "market_category      3742\n",
       "vehicle_size            0\n",
       "vehicle_style           0\n",
       "highway_mpg             0\n",
       "city_mpg                0\n",
       "popularity              0\n",
       "msrp                    0\n",
       "dtype: int64"
      ]
     },
     "execution_count": 31,
     "metadata": {},
     "output_type": "execute_result"
    }
   ],
   "source": [
    "df.isnull().sum()\n",
    "#how many missing values are ther in each columns\n",
    "# we need to keep in mind while training the models."
   ]
  },
  {
   "cell_type": "markdown",
   "id": "e9a25549",
   "metadata": {},
   "source": [
    "# Setting up validation framework"
   ]
  },
  {
   "cell_type": "code",
   "execution_count": 34,
   "id": "f713bd7b",
   "metadata": {},
   "outputs": [],
   "source": [
    "# train XtYt | validation | test - 60|20|20\n",
    "# split dataset into 3 parts\n",
    "# feature matrics x and target vector y"
   ]
  },
  {
   "cell_type": "code",
   "execution_count": 51,
   "id": "d65e2cf7",
   "metadata": {},
   "outputs": [
    {
     "data": {
      "text/plain": [
       "11914"
      ]
     },
     "execution_count": 51,
     "metadata": {},
     "output_type": "execute_result"
    }
   ],
   "source": [
    "n=len(df)\n",
    "n"
   ]
  },
  {
   "cell_type": "code",
   "execution_count": 52,
   "id": "a9aee8e6",
   "metadata": {},
   "outputs": [
    {
     "name": "stdout",
     "output_type": "stream",
     "text": [
      "11914 11914\n"
     ]
    }
   ],
   "source": [
    "n_val=int(n * 0.2)\n",
    "n_test=int(n * 0.2)\n",
    "n_train= n - n_val - n_test\n",
    "print(n,n_val + n_test + n_train)"
   ]
  },
  {
   "cell_type": "code",
   "execution_count": null,
   "id": "4adc591c",
   "metadata": {},
   "outputs": [
    {
     "name": "stdout",
     "output_type": "stream",
     "text": [
      "2382 2382 7150\n"
     ]
    }
   ],
   "source": [
    "print(n_val , n_test , n_train)"
   ]
  },
  {
   "cell_type": "code",
   "execution_count": null,
   "id": "da8b34f5",
   "metadata": {},
   "outputs": [],
   "source": [
    "#use iloc to split the data \n",
    "n_val=int(n * 0.2)\n",
    "n_test=int(n * 0.2)\n",
    "n_train= n - n_val - n_test\n",
    "print(n,n_val + n_test + n_train)\n",
    "\n",
    "df_train=df.iloc[:n_train]\n",
    "df_val=df.iloc[n_train:n_train+n_val]\n",
    "df_test=df.iloc[n_train+n_val:]\n"
   ]
  },
  {
   "cell_type": "code",
   "execution_count": null,
   "id": "7d6caa62",
   "metadata": {},
   "outputs": [
    {
     "data": {
      "text/plain": [
       "array([2735, 6720, 5878, ..., 6637, 2575, 7336], shape=(11914,))"
      ]
     },
     "execution_count": 54,
     "metadata": {},
     "output_type": "execute_result"
    }
   ],
   "source": [
    "# shuffle data before splitting to evenly distribute the categories of data \n",
    "# if there is some order in the data , we should shuffle the data\n",
    "n=len(df)\n",
    "\n",
    "idx=np.arange(n)\n",
    "np.random.seed(2)\n",
    "np.random.shuffle(idx)\n",
    "idx"
   ]
  },
  {
   "cell_type": "code",
   "execution_count": 55,
   "id": "52e89b1f",
   "metadata": {},
   "outputs": [
    {
     "data": {
      "text/plain": [
       "array([2735, 6720, 5878, ..., 9334, 5284, 2420], shape=(7150,))"
      ]
     },
     "execution_count": 55,
     "metadata": {},
     "output_type": "execute_result"
    }
   ],
   "source": [
    "idx[:n_train]"
   ]
  },
  {
   "cell_type": "code",
   "execution_count": 56,
   "id": "1d5ac3cc",
   "metadata": {},
   "outputs": [],
   "source": [
    "df_train=df.iloc[idx[:n_train]]\n",
    "df_val=df.iloc[idx[n_train:n_train+n_val]]\n",
    "df_test=df.iloc[idx[n_train+n_val:]]"
   ]
  },
  {
   "cell_type": "code",
   "execution_count": 56,
   "id": "be66c008",
   "metadata": {},
   "outputs": [
    {
     "data": {
      "application/vnd.microsoft.datawrangler.viewer.v0+json": {
       "columns": [
        {
         "name": "index",
         "rawType": "int64",
         "type": "integer"
        },
        {
         "name": "make",
         "rawType": "object",
         "type": "string"
        },
        {
         "name": "model",
         "rawType": "object",
         "type": "string"
        },
        {
         "name": "year",
         "rawType": "int64",
         "type": "integer"
        },
        {
         "name": "engine_fuel_type",
         "rawType": "object",
         "type": "string"
        },
        {
         "name": "engine_hp",
         "rawType": "float64",
         "type": "float"
        },
        {
         "name": "engine_cylinders",
         "rawType": "float64",
         "type": "float"
        },
        {
         "name": "transmission_type",
         "rawType": "object",
         "type": "string"
        },
        {
         "name": "driven_wheels",
         "rawType": "object",
         "type": "string"
        },
        {
         "name": "number_of_doors",
         "rawType": "float64",
         "type": "float"
        },
        {
         "name": "market_category",
         "rawType": "object",
         "type": "unknown"
        },
        {
         "name": "vehicle_size",
         "rawType": "object",
         "type": "string"
        },
        {
         "name": "vehicle_style",
         "rawType": "object",
         "type": "string"
        },
        {
         "name": "highway_mpg",
         "rawType": "int64",
         "type": "integer"
        },
        {
         "name": "city_mpg",
         "rawType": "int64",
         "type": "integer"
        },
        {
         "name": "popularity",
         "rawType": "int64",
         "type": "integer"
        },
        {
         "name": "msrp",
         "rawType": "int64",
         "type": "integer"
        }
       ],
       "ref": "49d8a4b5-3760-4dfb-8046-d1f9bed9346b",
       "rows": [
        [
         "2735",
         "chevrolet",
         "cobalt",
         "2008",
         "regular_unleaded",
         "148.0",
         "4.0",
         "manual",
         "front_wheel_drive",
         "2.0",
         null,
         "compact",
         "coupe",
         "33",
         "24",
         "1385",
         "14410"
        ],
        [
         "6720",
         "toyota",
         "matrix",
         "2012",
         "regular_unleaded",
         "132.0",
         "4.0",
         "automatic",
         "front_wheel_drive",
         "4.0",
         "hatchback",
         "compact",
         "4dr_hatchback",
         "32",
         "25",
         "2031",
         "19685"
        ],
        [
         "5878",
         "subaru",
         "impreza",
         "2016",
         "regular_unleaded",
         "148.0",
         "4.0",
         "automatic",
         "all_wheel_drive",
         "4.0",
         "hatchback",
         "compact",
         "4dr_hatchback",
         "37",
         "28",
         "640",
         "19795"
        ],
        [
         "11190",
         "volkswagen",
         "vanagon",
         "1991",
         "regular_unleaded",
         "90.0",
         "4.0",
         "manual",
         "rear_wheel_drive",
         "3.0",
         null,
         "large",
         "passenger_minivan",
         "18",
         "16",
         "873",
         "2000"
        ],
        [
         "4554",
         "ford",
         "f-150",
         "2017",
         "flex-fuel_(unleaded/e85)",
         "385.0",
         "8.0",
         "automatic",
         "four_wheel_drive",
         "4.0",
         "flex_fuel",
         "large",
         "crew_cab_pickup",
         "21",
         "15",
         "5657",
         "56260"
        ]
       ],
       "shape": {
        "columns": 16,
        "rows": 5
       }
      },
      "text/html": [
       "<div>\n",
       "<style scoped>\n",
       "    .dataframe tbody tr th:only-of-type {\n",
       "        vertical-align: middle;\n",
       "    }\n",
       "\n",
       "    .dataframe tbody tr th {\n",
       "        vertical-align: top;\n",
       "    }\n",
       "\n",
       "    .dataframe thead th {\n",
       "        text-align: right;\n",
       "    }\n",
       "</style>\n",
       "<table border=\"1\" class=\"dataframe\">\n",
       "  <thead>\n",
       "    <tr style=\"text-align: right;\">\n",
       "      <th></th>\n",
       "      <th>make</th>\n",
       "      <th>model</th>\n",
       "      <th>year</th>\n",
       "      <th>engine_fuel_type</th>\n",
       "      <th>engine_hp</th>\n",
       "      <th>engine_cylinders</th>\n",
       "      <th>transmission_type</th>\n",
       "      <th>driven_wheels</th>\n",
       "      <th>number_of_doors</th>\n",
       "      <th>market_category</th>\n",
       "      <th>vehicle_size</th>\n",
       "      <th>vehicle_style</th>\n",
       "      <th>highway_mpg</th>\n",
       "      <th>city_mpg</th>\n",
       "      <th>popularity</th>\n",
       "      <th>msrp</th>\n",
       "    </tr>\n",
       "  </thead>\n",
       "  <tbody>\n",
       "    <tr>\n",
       "      <th>2735</th>\n",
       "      <td>chevrolet</td>\n",
       "      <td>cobalt</td>\n",
       "      <td>2008</td>\n",
       "      <td>regular_unleaded</td>\n",
       "      <td>148.0</td>\n",
       "      <td>4.0</td>\n",
       "      <td>manual</td>\n",
       "      <td>front_wheel_drive</td>\n",
       "      <td>2.0</td>\n",
       "      <td>NaN</td>\n",
       "      <td>compact</td>\n",
       "      <td>coupe</td>\n",
       "      <td>33</td>\n",
       "      <td>24</td>\n",
       "      <td>1385</td>\n",
       "      <td>14410</td>\n",
       "    </tr>\n",
       "    <tr>\n",
       "      <th>6720</th>\n",
       "      <td>toyota</td>\n",
       "      <td>matrix</td>\n",
       "      <td>2012</td>\n",
       "      <td>regular_unleaded</td>\n",
       "      <td>132.0</td>\n",
       "      <td>4.0</td>\n",
       "      <td>automatic</td>\n",
       "      <td>front_wheel_drive</td>\n",
       "      <td>4.0</td>\n",
       "      <td>hatchback</td>\n",
       "      <td>compact</td>\n",
       "      <td>4dr_hatchback</td>\n",
       "      <td>32</td>\n",
       "      <td>25</td>\n",
       "      <td>2031</td>\n",
       "      <td>19685</td>\n",
       "    </tr>\n",
       "    <tr>\n",
       "      <th>5878</th>\n",
       "      <td>subaru</td>\n",
       "      <td>impreza</td>\n",
       "      <td>2016</td>\n",
       "      <td>regular_unleaded</td>\n",
       "      <td>148.0</td>\n",
       "      <td>4.0</td>\n",
       "      <td>automatic</td>\n",
       "      <td>all_wheel_drive</td>\n",
       "      <td>4.0</td>\n",
       "      <td>hatchback</td>\n",
       "      <td>compact</td>\n",
       "      <td>4dr_hatchback</td>\n",
       "      <td>37</td>\n",
       "      <td>28</td>\n",
       "      <td>640</td>\n",
       "      <td>19795</td>\n",
       "    </tr>\n",
       "    <tr>\n",
       "      <th>11190</th>\n",
       "      <td>volkswagen</td>\n",
       "      <td>vanagon</td>\n",
       "      <td>1991</td>\n",
       "      <td>regular_unleaded</td>\n",
       "      <td>90.0</td>\n",
       "      <td>4.0</td>\n",
       "      <td>manual</td>\n",
       "      <td>rear_wheel_drive</td>\n",
       "      <td>3.0</td>\n",
       "      <td>NaN</td>\n",
       "      <td>large</td>\n",
       "      <td>passenger_minivan</td>\n",
       "      <td>18</td>\n",
       "      <td>16</td>\n",
       "      <td>873</td>\n",
       "      <td>2000</td>\n",
       "    </tr>\n",
       "    <tr>\n",
       "      <th>4554</th>\n",
       "      <td>ford</td>\n",
       "      <td>f-150</td>\n",
       "      <td>2017</td>\n",
       "      <td>flex-fuel_(unleaded/e85)</td>\n",
       "      <td>385.0</td>\n",
       "      <td>8.0</td>\n",
       "      <td>automatic</td>\n",
       "      <td>four_wheel_drive</td>\n",
       "      <td>4.0</td>\n",
       "      <td>flex_fuel</td>\n",
       "      <td>large</td>\n",
       "      <td>crew_cab_pickup</td>\n",
       "      <td>21</td>\n",
       "      <td>15</td>\n",
       "      <td>5657</td>\n",
       "      <td>56260</td>\n",
       "    </tr>\n",
       "  </tbody>\n",
       "</table>\n",
       "</div>"
      ],
      "text/plain": [
       "             make    model  year          engine_fuel_type  engine_hp  \\\n",
       "2735    chevrolet   cobalt  2008          regular_unleaded      148.0   \n",
       "6720       toyota   matrix  2012          regular_unleaded      132.0   \n",
       "5878       subaru  impreza  2016          regular_unleaded      148.0   \n",
       "11190  volkswagen  vanagon  1991          regular_unleaded       90.0   \n",
       "4554         ford    f-150  2017  flex-fuel_(unleaded/e85)      385.0   \n",
       "\n",
       "       engine_cylinders transmission_type      driven_wheels  number_of_doors  \\\n",
       "2735                4.0            manual  front_wheel_drive              2.0   \n",
       "6720                4.0         automatic  front_wheel_drive              4.0   \n",
       "5878                4.0         automatic    all_wheel_drive              4.0   \n",
       "11190               4.0            manual   rear_wheel_drive              3.0   \n",
       "4554                8.0         automatic   four_wheel_drive              4.0   \n",
       "\n",
       "      market_category vehicle_size      vehicle_style  highway_mpg  city_mpg  \\\n",
       "2735              NaN      compact              coupe           33        24   \n",
       "6720        hatchback      compact      4dr_hatchback           32        25   \n",
       "5878        hatchback      compact      4dr_hatchback           37        28   \n",
       "11190             NaN        large  passenger_minivan           18        16   \n",
       "4554        flex_fuel        large    crew_cab_pickup           21        15   \n",
       "\n",
       "       popularity   msrp  \n",
       "2735         1385  14410  \n",
       "6720         2031  19685  \n",
       "5878          640  19795  \n",
       "11190         873   2000  \n",
       "4554         5657  56260  "
      ]
     },
     "execution_count": 56,
     "metadata": {},
     "output_type": "execute_result"
    }
   ],
   "source": [
    "df_train.head()\n",
    "# with different version of numpy the output will be different"
   ]
  },
  {
   "cell_type": "code",
   "execution_count": 57,
   "id": "8e6687f8",
   "metadata": {},
   "outputs": [
    {
     "data": {
      "text/plain": [
       "'2.3.3'"
      ]
     },
     "execution_count": 57,
     "metadata": {},
     "output_type": "execute_result"
    }
   ],
   "source": [
    "np.__version__"
   ]
  },
  {
   "cell_type": "code",
   "execution_count": 57,
   "id": "a3a67c0d",
   "metadata": {},
   "outputs": [],
   "source": [
    "df_train=df_train.reset_index(drop=True)\n",
    "df_test=df_test.reset_index(drop=True)\n",
    "df_val=df_val.reset_index(drop=True)"
   ]
  },
  {
   "cell_type": "code",
   "execution_count": 58,
   "id": "552fdd17",
   "metadata": {},
   "outputs": [],
   "source": [
    "y_train=np.log1p(df_train.msrp.values)\n",
    "y_val=np.log1p(df_val.msrp.values)\n",
    "y_test=np.log1p(df_test.msrp.values)\n",
    "# target variable Y\n",
    "# log transformed"
   ]
  },
  {
   "cell_type": "code",
   "execution_count": 59,
   "id": "09a6d392",
   "metadata": {},
   "outputs": [],
   "source": [
    "#remove target variable from dataframes\n",
    "del df_train['msrp']\n",
    "del df_test['msrp']\n",
    "del df_val['msrp']"
   ]
  },
  {
   "cell_type": "code",
   "execution_count": 64,
   "id": "505b9070",
   "metadata": {},
   "outputs": [
    {
     "data": {
      "text/plain": [
       "Index(['make', 'model', 'year', 'engine_fuel_type', 'engine_hp',\n",
       "       'engine_cylinders', 'transmission_type', 'driven_wheels',\n",
       "       'number_of_doors', 'market_category', 'vehicle_size', 'vehicle_style',\n",
       "       'highway_mpg', 'city_mpg', 'popularity'],\n",
       "      dtype='object')"
      ]
     },
     "execution_count": 64,
     "metadata": {},
     "output_type": "execute_result"
    }
   ],
   "source": [
    "df_train.columns\n",
    "# We now have:\n",
    "\n",
    "# df_train, df_val, df_test — feature tables\n",
    "# y_train, y_val, y_test — log-transformed targets\n",
    "# A reproducible 60/20/20 split with a fixed seed\n",
    "# No target leakage in features"
   ]
  },
  {
   "cell_type": "markdown",
   "id": "90efe769",
   "metadata": {},
   "source": [
    "# Linear Regression\n",
    "- Training model with train dataset"
   ]
  },
  {
   "cell_type": "code",
   "execution_count": null,
   "id": "fd870db4",
   "metadata": {},
   "outputs": [],
   "source": [
    "# model to solve regression problem\n",
    "# output of a model is a continuous value or number\n",
    "# in this scenraio we will predict car prices msrp\n",
    "\n",
    "# # g(X) ~ y\n",
    "# g -> linear regression Model\n",
    "# X is the feature matrix\n",
    "# Y is the target variable"
   ]
  },
  {
   "cell_type": "code",
   "execution_count": 67,
   "id": "f89aac49",
   "metadata": {},
   "outputs": [
    {
     "data": {
      "application/vnd.microsoft.datawrangler.viewer.v0+json": {
       "columns": [
        {
         "name": "index",
         "rawType": "object",
         "type": "string"
        },
        {
         "name": "10",
         "rawType": "object",
         "type": "unknown"
        }
       ],
       "ref": "b816581e-e636-431a-9243-4976e6042f94",
       "rows": [
        [
         "make",
         "rolls-royce"
        ],
        [
         "model",
         "phantom_drophead_coupe"
        ],
        [
         "year",
         "2015"
        ],
        [
         "engine_fuel_type",
         "premium_unleaded_(required)"
        ],
        [
         "engine_hp",
         "453.0"
        ],
        [
         "engine_cylinders",
         "12.0"
        ],
        [
         "transmission_type",
         "automatic"
        ],
        [
         "driven_wheels",
         "rear_wheel_drive"
        ],
        [
         "number_of_doors",
         "2.0"
        ],
        [
         "market_category",
         "exotic,luxury,performance"
        ],
        [
         "vehicle_size",
         "large"
        ],
        [
         "vehicle_style",
         "convertible"
        ],
        [
         "highway_mpg",
         "19"
        ],
        [
         "city_mpg",
         "11"
        ],
        [
         "popularity",
         "86"
        ]
       ],
       "shape": {
        "columns": 1,
        "rows": 15
       }
      },
      "text/plain": [
       "make                                 rolls-royce\n",
       "model                     phantom_drophead_coupe\n",
       "year                                        2015\n",
       "engine_fuel_type     premium_unleaded_(required)\n",
       "engine_hp                                  453.0\n",
       "engine_cylinders                            12.0\n",
       "transmission_type                      automatic\n",
       "driven_wheels                   rear_wheel_drive\n",
       "number_of_doors                              2.0\n",
       "market_category        exotic,luxury,performance\n",
       "vehicle_size                               large\n",
       "vehicle_style                        convertible\n",
       "highway_mpg                                   19\n",
       "city_mpg                                      11\n",
       "popularity                                    86\n",
       "Name: 10, dtype: object"
      ]
     },
     "execution_count": 67,
     "metadata": {},
     "output_type": "execute_result"
    }
   ],
   "source": [
    "df_train.iloc[10]"
   ]
  },
  {
   "cell_type": "code",
   "execution_count": 66,
   "id": "f5109d10",
   "metadata": {},
   "outputs": [
    {
     "data": {
      "text/plain": [
       "Index(['make', 'model', 'year', 'engine_fuel_type', 'engine_hp',\n",
       "       'engine_cylinders', 'transmission_type', 'driven_wheels',\n",
       "       'number_of_doors', 'market_category', 'vehicle_size', 'vehicle_style',\n",
       "       'highway_mpg', 'city_mpg', 'popularity', 'msrp'],\n",
       "      dtype='object')"
      ]
     },
     "execution_count": 66,
     "metadata": {},
     "output_type": "execute_result"
    }
   ],
   "source": [
    "df.columns"
   ]
  },
  {
   "cell_type": "code",
   "execution_count": 86,
   "id": "a713b6f0",
   "metadata": {},
   "outputs": [],
   "source": [
    "# picking only 3 features for now \n",
    "# horsepower, mileage , popularity\n",
    "xi=[453,11,86]\n",
    "\n",
    "w0 =7.17\n",
    "w =[0.01,0.04,0.002]\n",
    "\n",
    "def linear_regression(xi):\n",
    "    pred=w0\n",
    "    for i in range(len(w)):\n",
    "        print(f\"w{i}: {w[i]}, xi{i}: {xi[i]}\")\n",
    "        pred= pred + xi[i]*w[i]\n",
    "\n",
    "    return pred"
   ]
  },
  {
   "cell_type": "code",
   "execution_count": 93,
   "id": "14dda160",
   "metadata": {},
   "outputs": [
    {
     "name": "stdout",
     "output_type": "stream",
     "text": [
      "w0: 0.01, xi0: 453\n",
      "w1: 0.04, xi1: 11\n",
      "w2: 0.002, xi2: 86\n"
     ]
    },
    {
     "data": {
      "text/plain": [
       "12.312"
      ]
     },
     "execution_count": 93,
     "metadata": {},
     "output_type": "execute_result"
    }
   ],
   "source": [
    "res_g=linear_regression(xi)\n",
    "res_g"
   ]
  },
  {
   "cell_type": "code",
   "execution_count": 88,
   "id": "ec4d6056",
   "metadata": {},
   "outputs": [
    {
     "data": {
      "text/plain": [
       "np.float64(222347.2221101062)"
      ]
     },
     "execution_count": 88,
     "metadata": {},
     "output_type": "execute_result"
    }
   ],
   "source": [
    "np.expm1(res_g) # inverse of log1p"
   ]
  },
  {
   "cell_type": "markdown",
   "id": "0d53cb99",
   "metadata": {},
   "source": [
    "# Linear Regression vector form"
   ]
  },
  {
   "cell_type": "code",
   "execution_count": 79,
   "id": "157561bd",
   "metadata": {},
   "outputs": [],
   "source": [
    "def dot(xi,w):\n",
    "    res=0\n",
    "    for i in range(len(xi)):\n",
    "        res += xi[i]*w[i]\n",
    "    return res"
   ]
  },
  {
   "cell_type": "code",
   "execution_count": 80,
   "id": "384a2da3",
   "metadata": {},
   "outputs": [],
   "source": [
    "def linear_Regression(xi):\n",
    "    return w0 + dot(xi,w)"
   ]
  },
  {
   "cell_type": "code",
   "execution_count": 91,
   "id": "7ad47cc5",
   "metadata": {},
   "outputs": [
    {
     "data": {
      "text/plain": [
       "[7.17, 0.01, 0.04, 0.002]"
      ]
     },
     "execution_count": 91,
     "metadata": {},
     "output_type": "execute_result"
    }
   ],
   "source": [
    "w_new= [w0] + w\n",
    "w_new"
   ]
  },
  {
   "cell_type": "code",
   "execution_count": 92,
   "id": "81fa2b81",
   "metadata": {},
   "outputs": [
    {
     "data": {
      "text/plain": [
       "12.312"
      ]
     },
     "execution_count": 92,
     "metadata": {},
     "output_type": "execute_result"
    }
   ],
   "source": [
    "def linear_Regression(xi):\n",
    "    xi=[1] + xi\n",
    "    return dot(xi,w_new)\n",
    "\n",
    "linear_Regression(xi)"
   ]
  },
  {
   "cell_type": "code",
   "execution_count": 98,
   "id": "a91a66df",
   "metadata": {},
   "outputs": [
    {
     "name": "stdout",
     "output_type": "stream",
     "text": [
      "[[1, 148, 24, 1385], [1, 132, 25, 2031], [1, 453, 11, 86]]\n"
     ]
    }
   ],
   "source": [
    "xi=[453,11,86] \n",
    "\n",
    "w0 =7.17\n",
    "w =[0.01,0.04,0.002]\n",
    "w_new= [w0] + w\n",
    "x1= [1,148,24,1385]\n",
    "x2=[1,132,25,2031]\n",
    "x10=[1,453,11,86]\n",
    "x =  [x1,x2,x10]\n",
    "\n",
    "print(x)"
   ]
  },
  {
   "cell_type": "code",
   "execution_count": 99,
   "id": "9f3f4207",
   "metadata": {},
   "outputs": [
    {
     "data": {
      "text/plain": [
       "array([[   1,  148,   24, 1385],\n",
       "       [   1,  132,   25, 2031],\n",
       "       [   1,  453,   11,   86]])"
      ]
     },
     "execution_count": 99,
     "metadata": {},
     "output_type": "execute_result"
    }
   ],
   "source": [
    "X=np.array(x) # matrix of features\n",
    "X"
   ]
  },
  {
   "cell_type": "code",
   "execution_count": 101,
   "id": "33a23f4a",
   "metadata": {},
   "outputs": [
    {
     "data": {
      "text/plain": [
       "array([12.38 , 13.552, 12.312])"
      ]
     },
     "execution_count": 101,
     "metadata": {},
     "output_type": "execute_result"
    }
   ],
   "source": [
    "def linear_regression(X):\n",
    "    return X.dot(w_new)\n",
    "\n",
    "linear_regression(X)"
   ]
  },
  {
   "cell_type": "markdown",
   "id": "316aa23d",
   "metadata": {},
   "source": [
    "# Training a linear regression Model"
   ]
  },
  {
   "cell_type": "code",
   "execution_count": null,
   "id": "28a6a457",
   "metadata": {},
   "outputs": [],
   "source": [
    "XTX=np.dot(X.T,X)\n",
    "XTX_inv=np.linalg.inv(XTX)\n",
    "XTX_inv.dot(X.T).dot(y) # w_new\n",
    "\n",
    "ones=np.ones(X.shape[0])\n",
    "X=np.column_stack((ones,X))\n",
    "# adding bias term to feature matrix\n",
    "\n",
    "w_full=XTX_inv.dot(X.T).dot(y_train)\n",
    "# w_full[0], w_full[1:] # w_full[0] is bias term w0\n",
    "\n",
    "# negatives values in w_full[1:] means that feature \n",
    "# is inversely proportional to target variable\n",
    "# it will reduce the target variable from the bias term\n"
   ]
  },
  {
   "cell_type": "code",
   "execution_count": 105,
   "id": "70d4522d",
   "metadata": {},
   "outputs": [
    {
     "data": {
      "text/plain": [
       "Index(['make', 'model', 'year', 'engine_fuel_type', 'engine_hp',\n",
       "       'engine_cylinders', 'transmission_type', 'driven_wheels',\n",
       "       'number_of_doors', 'market_category', 'vehicle_size', 'vehicle_style',\n",
       "       'highway_mpg', 'city_mpg', 'popularity'],\n",
       "      dtype='object')"
      ]
     },
     "execution_count": 105,
     "metadata": {},
     "output_type": "execute_result"
    }
   ],
   "source": [
    "df_train.columns"
   ]
  },
  {
   "cell_type": "code",
   "execution_count": 119,
   "id": "c7452e3a",
   "metadata": {},
   "outputs": [],
   "source": [
    "columns=['engine_hp','engine_cylinders','highway_mpg', 'city_mpg', 'popularity']\n",
    "x_train=df_train[columns]\n",
    "x_train=x_train.fillna(0) # filling missing values with 0\n",
    "#if a features is missing model will assume its value to 0 and ignore it"
   ]
  },
  {
   "cell_type": "code",
   "execution_count": 120,
   "id": "fd88788a",
   "metadata": {},
   "outputs": [
    {
     "data": {
      "text/plain": [
       "array([[ 148.,    4.,   33.,   24., 1385.],\n",
       "       [ 132.,    4.,   32.,   25., 2031.],\n",
       "       [ 148.,    4.,   37.,   28.,  640.],\n",
       "       ...,\n",
       "       [ 285.,    6.,   22.,   17.,  549.],\n",
       "       [ 563.,   12.,   21.,   13.,   86.],\n",
       "       [ 200.,    4.,   31.,   22.,  873.]], shape=(7150, 5))"
      ]
     },
     "execution_count": 120,
     "metadata": {},
     "output_type": "execute_result"
    }
   ],
   "source": [
    "x_train=x_train.values\n",
    "x_train"
   ]
  },
  {
   "cell_type": "code",
   "execution_count": null,
   "id": "eb6d8ba7",
   "metadata": {},
   "outputs": [],
   "source": [
    "def train_linear_regression(X,y):\n",
    "\n",
    "    ones=np.ones(X.shape[0])\n",
    "    X=np.column_stack((ones,X))\n",
    "    # adding bias term to feature matrix\n",
    "\n",
    "    XTX=np.dot(X.T,X)\n",
    "    XTX_inv=np.linalg.inv(XTX)\n",
    "    XTX_inv.dot(X.T).dot(y) # w_new\n",
    "    #w = (X^T X)^(-1) X^T y\n",
    "    # adding bias term to feature matrix\n",
    "\n",
    "    w_full=XTX_inv.dot(X.T).dot(y)\n",
    "    return w_full[0],w_full[1:]"
   ]
  },
  {
   "cell_type": "code",
   "execution_count": null,
   "id": "1e1efd67",
   "metadata": {},
   "outputs": [
    {
     "data": {
      "text/plain": [
       "(np.float64(nan), array([nan, nan, nan, nan, nan]))"
      ]
     },
     "execution_count": 109,
     "metadata": {},
     "output_type": "execute_result"
    }
   ],
   "source": [
    "train_linear_regression(x_train,y_train)\n",
    "# null because features have missing values"
   ]
  },
  {
   "cell_type": "code",
   "execution_count": 123,
   "id": "dc827cc7",
   "metadata": {},
   "outputs": [
    {
     "name": "stdout",
     "output_type": "stream",
     "text": [
      "7.927257388069986 [ 9.70589522e-03 -1.59103494e-01  1.43792133e-02  1.49441072e-02\n",
      " -9.06908672e-06]\n"
     ]
    }
   ],
   "source": [
    "w0,w=train_linear_regression(x_train,y_train)\n",
    "# after handling missing values\n",
    "print(w0,w)"
   ]
  },
  {
   "cell_type": "code",
   "execution_count": null,
   "id": "bb23c3f7",
   "metadata": {},
   "outputs": [
    {
     "data": {
      "text/plain": [
       "array([ 9.54792783,  9.38733977,  9.67197758, ..., 10.30423015,\n",
       "       11.9778914 ,  9.99863111], shape=(7150,))"
      ]
     },
     "execution_count": 124,
     "metadata": {},
     "output_type": "execute_result"
    }
   ],
   "source": [
    "predictions= w0 + x_train.dot(w) \n",
    "#y = Xw\n",
    "predictions"
   ]
  },
  {
   "cell_type": "code",
   "execution_count": null,
   "id": "e849d7e9",
   "metadata": {},
   "outputs": [
    {
     "data": {
      "text/plain": [
       "<Axes: ylabel='Count'>"
      ]
     },
     "execution_count": 127,
     "metadata": {},
     "output_type": "execute_result"
    },
    {
     "data": {
      "image/png": "[encoded data removed]",
      "text/plain": [
       "<Figure size 640x480 with 1 Axes>"
      ]
     },
     "metadata": {},
     "output_type": "display_data"
    }
   ],
   "source": [
    "sns.histplot(predictions,bins=50,alpha=0.5,color='red') # predicted\n",
    "sns.histplot(y_train,bins=50,alpha=0.5,color='green') # target\n",
    "\n",
    "#The peak positions of predicted vs true distributions don’t align perfectly.\n",
    "# Predictions can be shifted lower (systematic underestimation), \n",
    "# reflecting that the feature set is small and \n",
    "# we haven’t used categorical signals (e.g., make, model) or\n",
    "# better imputations yet."
   ]
  },
  {
   "cell_type": "markdown",
   "id": "337d7d16",
   "metadata": {},
   "source": [
    "# Root Mean Squared Error (RMSE)\n",
    "- Evaluating a model\n",
    "- Error in prediction\n",
    "- lower the better"
   ]
  },
  {
   "cell_type": "code",
   "execution_count": null,
   "id": "bec003fa",
   "metadata": {},
   "outputs": [
    {
     "data": {
      "text/plain": [
       "np.float64(0.7554192603920132)"
      ]
     },
     "execution_count": 128,
     "metadata": {},
     "output_type": "execute_result"
    }
   ],
   "source": [
    "def rmse(y,y_pred):\n",
    "\n",
    "    se=(y - y_pred)**2\n",
    "    mse=se.mean()\n",
    "    return np.sqrt(mse)\n",
    "\n",
    "rmse(y_train,predictions)\n",
    "\n",
    "# 0.75 rmse mean +- 75 in actual log value"
   ]
  },
  {
   "cell_type": "markdown",
   "id": "031d4f72",
   "metadata": {},
   "source": [
    "# Validating Model"
   ]
  },
  {
   "cell_type": "code",
   "execution_count": 131,
   "id": "60ac55f8",
   "metadata": {},
   "outputs": [],
   "source": [
    "base=['engine_hp','engine_cylinders','highway_mpg', 'city_mpg', 'popularity']\n",
    "\n",
    "def prepare_X(df):\n",
    "    df_num=df[base]\n",
    "    df_num=df_num.fillna(0)\n",
    "    X=df_num.values\n",
    "    return X"
   ]
  },
  {
   "cell_type": "code",
   "execution_count": 137,
   "id": "e67670e3",
   "metadata": {},
   "outputs": [
    {
     "data": {
      "text/plain": [
       "array([ 9.54792783,  9.38733977,  9.67197758, ..., 10.30423015,\n",
       "       11.9778914 ,  9.99863111], shape=(7150,))"
      ]
     },
     "execution_count": 137,
     "metadata": {},
     "output_type": "execute_result"
    }
   ],
   "source": [
    "X_train=prepare_X(df_train)\n",
    "w0,w=train_linear_regression(X_train,y_train)\n",
    "y_pred= w0+ X_train.dot(w)\n",
    "y_pred"
   ]
  },
  {
   "cell_type": "code",
   "execution_count": null,
   "id": "db2d5b49",
   "metadata": {},
   "outputs": [
    {
     "data": {
      "text/plain": [
       "array([ 9.86288014, 10.37013608,  9.69868129, ..., 10.4916625 ,\n",
       "        9.57091361, 10.40022147], shape=(2382,))"
      ]
     },
     "execution_count": 138,
     "metadata": {},
     "output_type": "execute_result"
    }
   ],
   "source": [
    "X_val=prepare_X(df_val)\n",
    "y_pred= w0+ X_val.dot(w)\n",
    "# use same baseline , generated through trained dataset\n",
    "y_pred"
   ]
  },
  {
   "cell_type": "code",
   "execution_count": null,
   "id": "eca4190f",
   "metadata": {},
   "outputs": [
    {
     "data": {
      "text/plain": [
       "np.float64(0.761653099130156)"
      ]
     },
     "execution_count": 139,
     "metadata": {},
     "output_type": "execute_result"
    }
   ],
   "source": [
    "rmse(y_val,y_pred)\n",
    "# prediction error"
   ]
  },
  {
   "cell_type": "markdown",
   "id": "5fb4e2b5",
   "metadata": {},
   "source": [
    "# Simple Feature Engineering "
   ]
  },
  {
   "cell_type": "code",
   "execution_count": 145,
   "id": "fa1da835",
   "metadata": {},
   "outputs": [],
   "source": [
    "base=['engine_hp','engine_cylinders','highway_mpg', 'city_mpg', 'popularity']\n",
    "\n",
    "def prepare_X(df):\n",
    "    df = df.copy() # avoid overwriting df\n",
    "    df['age']= 2017 - df.year\n",
    "    features= base + ['age']\n",
    "    df_num=df[features]\n",
    "    df_num=df_num.fillna(0)\n",
    "    X=df_num.values\n",
    "    return X"
   ]
  },
  {
   "cell_type": "code",
   "execution_count": null,
   "id": "cbab013c",
   "metadata": {},
   "outputs": [],
   "source": [
    "def train_linear_regression(X,y):\n",
    "\n",
    "    ones=np.ones(X.shape[0])\n",
    "    X=np.column_stack((ones,X))\n",
    "    # adding bias term to feature matrix\n",
    "\n",
    "    XTX=np.dot(X.T,X)\n",
    "    XTX_inv=np.linalg.inv(XTX)\n",
    "    # w = (X^T X)^(-1) X^T y\n",
    "    # adding bias term to feature matrix\n",
    "\n",
    "    w_full=XTX_inv.dot(X.T).dot(y)\n",
    "    return w_full[0],w_full[1:]"
   ]
  },
  {
   "cell_type": "code",
   "execution_count": 147,
   "id": "86758f5e",
   "metadata": {},
   "outputs": [
    {
     "data": {
      "text/plain": [
       "np.float64(0.5172055461058299)"
      ]
     },
     "execution_count": 147,
     "metadata": {},
     "output_type": "execute_result"
    }
   ],
   "source": [
    "X_train=prepare_X(df_train)\n",
    "w0,w=train_linear_regression(X_train,y_train)\n",
    "\n",
    "X_val=prepare_X(df_val)\n",
    "y_pred= w0+ X_val.dot(w)\n",
    "\n",
    "rmse(y_val,y_pred)\n",
    "\n",
    "# improved rmse by adding a age feature to feature matrix\n",
    "# from 0.761653099130156 to  0.5172055461058299"
   ]
  },
  {
   "cell_type": "code",
   "execution_count": 144,
   "id": "3d854bd5",
   "metadata": {},
   "outputs": [
    {
     "data": {
      "text/plain": [
       "<Axes: ylabel='Count'>"
      ]
     },
     "execution_count": 144,
     "metadata": {},
     "output_type": "execute_result"
    },
    {
     "data": {
      "image/png": "[encoded data removed]",
      "text/plain": [
       "<Figure size 640x480 with 1 Axes>"
      ]
     },
     "metadata": {},
     "output_type": "display_data"
    }
   ],
   "source": [
    "sns.histplot(y_pred,bins=50,alpha=0.5,color='red') # predicted\n",
    "sns.histplot(y_val,bins=50,alpha=0.5,color='green') # target\n",
    "\n",
    "# much better then before\n",
    "# shape of distribution more aligned.\n"
   ]
  },
  {
   "cell_type": "markdown",
   "id": "b338b69c",
   "metadata": {},
   "source": [
    "# Categorical Variables\n",
    "- string values or objects\n",
    "- Columns whose values are names/labels rather than magnitudes: make, model, engine_fuel_type, transmission_type, driven_wheels, vehicle_size, vehicle_style, market_category, etc."
   ]
  },
  {
   "cell_type": "code",
   "execution_count": 148,
   "id": "78e51d4e",
   "metadata": {},
   "outputs": [
    {
     "data": {
      "application/vnd.microsoft.datawrangler.viewer.v0+json": {
       "columns": [
        {
         "name": "index",
         "rawType": "int64",
         "type": "integer"
        },
        {
         "name": "make",
         "rawType": "object",
         "type": "string"
        },
        {
         "name": "model",
         "rawType": "object",
         "type": "string"
        },
        {
         "name": "year",
         "rawType": "int64",
         "type": "integer"
        },
        {
         "name": "engine_fuel_type",
         "rawType": "object",
         "type": "unknown"
        },
        {
         "name": "engine_hp",
         "rawType": "float64",
         "type": "float"
        },
        {
         "name": "engine_cylinders",
         "rawType": "float64",
         "type": "float"
        },
        {
         "name": "transmission_type",
         "rawType": "object",
         "type": "string"
        },
        {
         "name": "driven_wheels",
         "rawType": "object",
         "type": "string"
        },
        {
         "name": "number_of_doors",
         "rawType": "float64",
         "type": "float"
        },
        {
         "name": "market_category",
         "rawType": "object",
         "type": "unknown"
        },
        {
         "name": "vehicle_size",
         "rawType": "object",
         "type": "string"
        },
        {
         "name": "vehicle_style",
         "rawType": "object",
         "type": "string"
        },
        {
         "name": "highway_mpg",
         "rawType": "int64",
         "type": "integer"
        },
        {
         "name": "city_mpg",
         "rawType": "int64",
         "type": "integer"
        },
        {
         "name": "popularity",
         "rawType": "int64",
         "type": "integer"
        }
       ],
       "ref": "230ae50a-127f-4ef2-bee8-f941546c3819",
       "rows": [
        [
         "0",
         "chevrolet",
         "cobalt",
         "2008",
         "regular_unleaded",
         "148.0",
         "4.0",
         "manual",
         "front_wheel_drive",
         "2.0",
         null,
         "compact",
         "coupe",
         "33",
         "24",
         "1385"
        ],
        [
         "1",
         "toyota",
         "matrix",
         "2012",
         "regular_unleaded",
         "132.0",
         "4.0",
         "automatic",
         "front_wheel_drive",
         "4.0",
         "hatchback",
         "compact",
         "4dr_hatchback",
         "32",
         "25",
         "2031"
        ],
        [
         "2",
         "subaru",
         "impreza",
         "2016",
         "regular_unleaded",
         "148.0",
         "4.0",
         "automatic",
         "all_wheel_drive",
         "4.0",
         "hatchback",
         "compact",
         "4dr_hatchback",
         "37",
         "28",
         "640"
        ],
        [
         "3",
         "volkswagen",
         "vanagon",
         "1991",
         "regular_unleaded",
         "90.0",
         "4.0",
         "manual",
         "rear_wheel_drive",
         "3.0",
         null,
         "large",
         "passenger_minivan",
         "18",
         "16",
         "873"
        ],
        [
         "4",
         "ford",
         "f-150",
         "2017",
         "flex-fuel_(unleaded/e85)",
         "385.0",
         "8.0",
         "automatic",
         "four_wheel_drive",
         "4.0",
         "flex_fuel",
         "large",
         "crew_cab_pickup",
         "21",
         "15",
         "5657"
        ],
        [
         "5",
         "volkswagen",
         "rabbit",
         "2008",
         "regular_unleaded",
         "170.0",
         "5.0",
         "manual",
         "front_wheel_drive",
         "4.0",
         "hatchback",
         "compact",
         "4dr_hatchback",
         "29",
         "22",
         "873"
        ],
        [
         "6",
         "bentley",
         "continental_gtc",
         "2013",
         "premium_unleaded_(required)",
         "500.0",
         "8.0",
         "automatic",
         "all_wheel_drive",
         "2.0",
         "exotic,luxury,high-performance",
         "midsize",
         "convertible",
         "24",
         "14",
         "520"
        ],
        [
         "7",
         "bmw",
         "6_series",
         "2015",
         "premium_unleaded_(required)",
         "315.0",
         "6.0",
         "automatic",
         "rear_wheel_drive",
         "2.0",
         "luxury,performance",
         "midsize",
         "coupe",
         "32",
         "21",
         "3916"
        ],
        [
         "8",
         "maybach",
         "57",
         "2012",
         "premium_unleaded_(required)",
         "543.0",
         "12.0",
         "automatic",
         "rear_wheel_drive",
         "4.0",
         "exotic,luxury",
         "large",
         "sedan",
         "16",
         "10",
         "67"
        ],
        [
         "9",
         "ford",
         "f-150_heritage",
         "2004",
         "regular_unleaded",
         "202.0",
         "6.0",
         "manual",
         "four_wheel_drive",
         "2.0",
         null,
         "large",
         "regular_cab_pickup",
         "18",
         "13",
         "5657"
        ],
        [
         "10",
         "rolls-royce",
         "phantom_drophead_coupe",
         "2015",
         "premium_unleaded_(required)",
         "453.0",
         "12.0",
         "automatic",
         "rear_wheel_drive",
         "2.0",
         "exotic,luxury,performance",
         "large",
         "convertible",
         "19",
         "11",
         "86"
        ],
        [
         "11",
         "chevrolet",
         "equinox",
         "2015",
         "regular_unleaded",
         "182.0",
         "4.0",
         "automatic",
         "all_wheel_drive",
         "4.0",
         "crossover,flex_fuel",
         "compact",
         "4dr_suv",
         "29",
         "20",
         "1385"
        ],
        [
         "12",
         "mitsubishi",
         "eclipse_spyder",
         "2011",
         "regular_unleaded",
         "162.0",
         "4.0",
         "automatic",
         "front_wheel_drive",
         "2.0",
         null,
         "compact",
         "convertible",
         "27",
         "20",
         "436"
        ],
        [
         "13",
         "ferrari",
         "california_t",
         "2015",
         "premium_unleaded_(required)",
         "553.0",
         "8.0",
         "automated_manual",
         "rear_wheel_drive",
         "2.0",
         "exotic,high-performance",
         "compact",
         "convertible",
         "23",
         "16",
         "2774"
        ],
        [
         "14",
         "audi",
         "q5",
         "2017",
         "premium_unleaded_(required)",
         "272.0",
         "6.0",
         "automatic",
         "all_wheel_drive",
         "4.0",
         "crossover,luxury",
         "midsize",
         "4dr_suv",
         "26",
         "18",
         "3105"
        ],
        [
         "15",
         "subaru",
         "xv_crosstrek",
         "2014",
         "regular_unleaded",
         "160.0",
         "4.0",
         "automatic",
         "all_wheel_drive",
         "4.0",
         "crossover,hybrid",
         "compact",
         "4dr_suv",
         "33",
         "29",
         "640"
        ],
        [
         "16",
         "hyundai",
         "genesis_coupe",
         "2016",
         "premium_unleaded_(recommended)",
         "348.0",
         "6.0",
         "manual",
         "rear_wheel_drive",
         "2.0",
         "high-performance",
         "midsize",
         "coupe",
         "24",
         "17",
         "1439"
        ],
        [
         "17",
         "mitsubishi",
         "mighty_max_pickup",
         "1994",
         "regular_unleaded",
         "151.0",
         "4.0",
         "manual",
         "rear_wheel_drive",
         "2.0",
         null,
         "compact",
         "extended_cab_pickup",
         "23",
         "18",
         "436"
        ],
        [
         "18",
         "dodge",
         "dakota",
         "2008",
         "regular_unleaded",
         "210.0",
         "6.0",
         "manual",
         "four_wheel_drive",
         "4.0",
         null,
         "compact",
         "extended_cab_pickup",
         "19",
         "15",
         "1851"
        ],
        [
         "19",
         "ford",
         "probe",
         "1996",
         "regular_unleaded",
         "164.0",
         "6.0",
         "manual",
         "front_wheel_drive",
         "2.0",
         "hatchback,performance",
         "compact",
         "2dr_hatchback",
         "24",
         "18",
         "5657"
        ],
        [
         "20",
         "ford",
         "thunderbird",
         "2005",
         "premium_unleaded_(required)",
         "280.0",
         "8.0",
         "automatic",
         "rear_wheel_drive",
         "2.0",
         "performance",
         "midsize",
         "convertible",
         "22",
         "16",
         "5657"
        ],
        [
         "21",
         "gmc",
         "sierra_1500_classic",
         "2007",
         "flex-fuel_(unleaded/e85)",
         "295.0",
         "8.0",
         "automatic",
         "four_wheel_drive",
         "4.0",
         "flex_fuel",
         "large",
         "extended_cab_pickup",
         "17",
         "13",
         "549"
        ],
        [
         "22",
         "bmw",
         "6_series",
         "2015",
         "premium_unleaded_(required)",
         "315.0",
         "6.0",
         "automatic",
         "all_wheel_drive",
         "2.0",
         "luxury,performance",
         "midsize",
         "coupe",
         "29",
         "20",
         "3916"
        ],
        [
         "23",
         "gmc",
         "canyon",
         "2016",
         "regular_unleaded",
         "305.0",
         "6.0",
         "automatic",
         "four_wheel_drive",
         "4.0",
         "diesel",
         "compact",
         "crew_cab_pickup",
         "24",
         "17",
         "549"
        ],
        [
         "24",
         "volkswagen",
         "beetle_convertible",
         "2014",
         "regular_unleaded",
         "170.0",
         "4.0",
         "automatic",
         "front_wheel_drive",
         "2.0",
         null,
         "compact",
         "convertible",
         "32",
         "24",
         "873"
        ],
        [
         "25",
         "suzuki",
         "esteem",
         "2001",
         "regular_unleaded",
         "122.0",
         "4.0",
         "manual",
         "front_wheel_drive",
         "4.0",
         null,
         "compact",
         "sedan",
         "32",
         "24",
         "481"
        ],
        [
         "26",
         "nissan",
         "juke",
         "2016",
         "premium_unleaded_(recommended)",
         "188.0",
         "4.0",
         "manual",
         "front_wheel_drive",
         "4.0",
         "crossover,hatchback,performance",
         "compact",
         "4dr_hatchback",
         "34",
         "28",
         "2009"
        ],
        [
         "27",
         "suzuki",
         "aerio",
         "2006",
         "regular_unleaded",
         "155.0",
         "4.0",
         "automatic",
         "front_wheel_drive",
         "4.0",
         null,
         "compact",
         "wagon",
         "28",
         "22",
         "481"
        ],
        [
         "28",
         "mitsubishi",
         "mirage",
         "2014",
         "regular_unleaded",
         "74.0",
         "3.0",
         "manual",
         "front_wheel_drive",
         "4.0",
         "hatchback",
         "compact",
         "4dr_hatchback",
         "42",
         "34",
         "436"
        ],
        [
         "29",
         "nissan",
         "rogue",
         "2015",
         "regular_unleaded",
         "170.0",
         "4.0",
         "automatic",
         "front_wheel_drive",
         "4.0",
         "crossover",
         "midsize",
         "4dr_suv",
         "33",
         "26",
         "2009"
        ],
        [
         "30",
         "mercedes-benz",
         "gle-class",
         "2017",
         "premium_unleaded_(required)",
         "302.0",
         "6.0",
         "automatic",
         "rear_wheel_drive",
         "4.0",
         "crossover,luxury",
         "midsize",
         "4dr_suv",
         "23",
         "18",
         "617"
        ],
        [
         "31",
         "ford",
         "escape_hybrid",
         "2011",
         "regular_unleaded",
         "177.0",
         "4.0",
         "automatic",
         "all_wheel_drive",
         "4.0",
         "crossover,hybrid",
         "compact",
         "4dr_suv",
         "27",
         "30",
         "5657"
        ],
        [
         "32",
         "mercedes-benz",
         "300-class",
         "1991",
         "diesel",
         "121.0",
         "5.0",
         "automatic",
         "rear_wheel_drive",
         "4.0",
         "diesel,luxury",
         "midsize",
         "sedan",
         "30",
         "23",
         "617"
        ],
        [
         "33",
         "volkswagen",
         "tiguan",
         "2016",
         "premium_unleaded_(recommended)",
         "200.0",
         "4.0",
         "automatic",
         "all_wheel_drive",
         "4.0",
         "crossover",
         "compact",
         "4dr_suv",
         "26",
         "20",
         "873"
        ],
        [
         "34",
         "porsche",
         "macan",
         "2017",
         "premium_unleaded_(required)",
         "400.0",
         "6.0",
         "automated_manual",
         "all_wheel_drive",
         "4.0",
         "crossover,luxury,performance",
         "midsize",
         "4dr_suv",
         "23",
         "17",
         "1715"
        ],
        [
         "35",
         "chevrolet",
         "captiva_sport",
         "2014",
         "flex-fuel_(unleaded/e85)",
         "180.0",
         "4.0",
         "automatic",
         "front_wheel_drive",
         "4.0",
         "crossover,flex_fuel",
         "midsize",
         "4dr_suv",
         "28",
         "20",
         "1385"
        ],
        [
         "36",
         "nissan",
         "frontier",
         "2016",
         "regular_unleaded",
         "152.0",
         "4.0",
         "manual",
         "rear_wheel_drive",
         "4.0",
         null,
         "compact",
         "extended_cab_pickup",
         "23",
         "19",
         "2009"
        ],
        [
         "37",
         "chevrolet",
         "camaro",
         "2017",
         "premium_unleaded_(recommended)",
         "455.0",
         "8.0",
         "manual",
         "rear_wheel_drive",
         "2.0",
         "high-performance",
         "midsize",
         "coupe",
         "25",
         "16",
         "1385"
        ],
        [
         "38",
         "ford",
         "fusion_hybrid",
         "2017",
         "regular_unleaded",
         "188.0",
         "4.0",
         "automatic",
         "front_wheel_drive",
         "4.0",
         "hybrid",
         "midsize",
         "sedan",
         "41",
         "43",
         "5657"
        ],
        [
         "39",
         "porsche",
         "panamera",
         "2015",
         "premium_unleaded_(required)",
         "310.0",
         "6.0",
         "automated_manual",
         "rear_wheel_drive",
         "4.0",
         "luxury,performance",
         "large",
         "sedan",
         "28",
         "18",
         "1715"
        ],
        [
         "40",
         "nissan",
         "juke",
         "2017",
         "premium_unleaded_(recommended)",
         "188.0",
         "4.0",
         "automatic",
         "all_wheel_drive",
         "4.0",
         "crossover,hatchback",
         "compact",
         "4dr_hatchback",
         "30",
         "26",
         "2009"
        ],
        [
         "41",
         "hyundai",
         "accent",
         "2014",
         "regular_unleaded",
         "138.0",
         "4.0",
         "manual",
         "front_wheel_drive",
         "4.0",
         "hatchback",
         "compact",
         "4dr_hatchback",
         "38",
         "27",
         "1439"
        ],
        [
         "42",
         "suzuki",
         "kizashi",
         "2011",
         "regular_unleaded",
         "180.0",
         "4.0",
         "automatic",
         "front_wheel_drive",
         "4.0",
         null,
         "midsize",
         "sedan",
         "30",
         "23",
         "481"
        ],
        [
         "43",
         "nissan",
         "370z",
         "2016",
         "premium_unleaded_(required)",
         "332.0",
         "6.0",
         "automatic",
         "rear_wheel_drive",
         "2.0",
         "high-performance",
         "compact",
         "coupe",
         "26",
         "19",
         "2009"
        ],
        [
         "44",
         "ferrari",
         "superamerica",
         "2005",
         "premium_unleaded_(required)",
         "532.0",
         "12.0",
         "automated_manual",
         "rear_wheel_drive",
         "2.0",
         "exotic,high-performance",
         "compact",
         "convertible",
         "16",
         "9",
         "2774"
        ],
        [
         "45",
         "bmw",
         "x3",
         "2015",
         "premium_unleaded_(required)",
         "240.0",
         "4.0",
         "automatic",
         "rear_wheel_drive",
         "4.0",
         "crossover,luxury",
         "midsize",
         "4dr_suv",
         "28",
         "21",
         "3916"
        ],
        [
         "46",
         "lexus",
         "rx_450h",
         "2017",
         "premium_unleaded_(recommended)",
         "308.0",
         "6.0",
         "automatic",
         "all_wheel_drive",
         "4.0",
         "crossover,luxury,hybrid",
         "midsize",
         "4dr_suv",
         "28",
         "31",
         "454"
        ],
        [
         "47",
         "maserati",
         "coupe",
         "2006",
         "premium_unleaded_(required)",
         "390.0",
         "8.0",
         "manual",
         "rear_wheel_drive",
         "2.0",
         "exotic,luxury,high-performance",
         "compact",
         "coupe",
         "17",
         "12",
         "238"
        ],
        [
         "48",
         "gmc",
         "envoy_xl",
         "2005",
         "regular_unleaded",
         "275.0",
         "6.0",
         "automatic",
         "four_wheel_drive",
         "4.0",
         null,
         "large",
         "4dr_suv",
         "17",
         "12",
         "549"
        ],
        [
         "49",
         "infiniti",
         "g_coupe",
         "2011",
         "premium_unleaded_(recommended)",
         "330.0",
         "6.0",
         "manual",
         "rear_wheel_drive",
         "2.0",
         "luxury,high-performance",
         "midsize",
         "coupe",
         "25",
         "17",
         "190"
        ]
       ],
       "shape": {
        "columns": 15,
        "rows": 7150
       }
      },
      "text/html": [
       "<div>\n",
       "<style scoped>\n",
       "    .dataframe tbody tr th:only-of-type {\n",
       "        vertical-align: middle;\n",
       "    }\n",
       "\n",
       "    .dataframe tbody tr th {\n",
       "        vertical-align: top;\n",
       "    }\n",
       "\n",
       "    .dataframe thead th {\n",
       "        text-align: right;\n",
       "    }\n",
       "</style>\n",
       "<table border=\"1\" class=\"dataframe\">\n",
       "  <thead>\n",
       "    <tr style=\"text-align: right;\">\n",
       "      <th></th>\n",
       "      <th>make</th>\n",
       "      <th>model</th>\n",
       "      <th>year</th>\n",
       "      <th>engine_fuel_type</th>\n",
       "      <th>engine_hp</th>\n",
       "      <th>engine_cylinders</th>\n",
       "      <th>transmission_type</th>\n",
       "      <th>driven_wheels</th>\n",
       "      <th>number_of_doors</th>\n",
       "      <th>market_category</th>\n",
       "      <th>vehicle_size</th>\n",
       "      <th>vehicle_style</th>\n",
       "      <th>highway_mpg</th>\n",
       "      <th>city_mpg</th>\n",
       "      <th>popularity</th>\n",
       "    </tr>\n",
       "  </thead>\n",
       "  <tbody>\n",
       "    <tr>\n",
       "      <th>0</th>\n",
       "      <td>chevrolet</td>\n",
       "      <td>cobalt</td>\n",
       "      <td>2008</td>\n",
       "      <td>regular_unleaded</td>\n",
       "      <td>148.0</td>\n",
       "      <td>4.0</td>\n",
       "      <td>manual</td>\n",
       "      <td>front_wheel_drive</td>\n",
       "      <td>2.0</td>\n",
       "      <td>NaN</td>\n",
       "      <td>compact</td>\n",
       "      <td>coupe</td>\n",
       "      <td>33</td>\n",
       "      <td>24</td>\n",
       "      <td>1385</td>\n",
       "    </tr>\n",
       "    <tr>\n",
       "      <th>1</th>\n",
       "      <td>toyota</td>\n",
       "      <td>matrix</td>\n",
       "      <td>2012</td>\n",
       "      <td>regular_unleaded</td>\n",
       "      <td>132.0</td>\n",
       "      <td>4.0</td>\n",
       "      <td>automatic</td>\n",
       "      <td>front_wheel_drive</td>\n",
       "      <td>4.0</td>\n",
       "      <td>hatchback</td>\n",
       "      <td>compact</td>\n",
       "      <td>4dr_hatchback</td>\n",
       "      <td>32</td>\n",
       "      <td>25</td>\n",
       "      <td>2031</td>\n",
       "    </tr>\n",
       "    <tr>\n",
       "      <th>2</th>\n",
       "      <td>subaru</td>\n",
       "      <td>impreza</td>\n",
       "      <td>2016</td>\n",
       "      <td>regular_unleaded</td>\n",
       "      <td>148.0</td>\n",
       "      <td>4.0</td>\n",
       "      <td>automatic</td>\n",
       "      <td>all_wheel_drive</td>\n",
       "      <td>4.0</td>\n",
       "      <td>hatchback</td>\n",
       "      <td>compact</td>\n",
       "      <td>4dr_hatchback</td>\n",
       "      <td>37</td>\n",
       "      <td>28</td>\n",
       "      <td>640</td>\n",
       "    </tr>\n",
       "    <tr>\n",
       "      <th>3</th>\n",
       "      <td>volkswagen</td>\n",
       "      <td>vanagon</td>\n",
       "      <td>1991</td>\n",
       "      <td>regular_unleaded</td>\n",
       "      <td>90.0</td>\n",
       "      <td>4.0</td>\n",
       "      <td>manual</td>\n",
       "      <td>rear_wheel_drive</td>\n",
       "      <td>3.0</td>\n",
       "      <td>NaN</td>\n",
       "      <td>large</td>\n",
       "      <td>passenger_minivan</td>\n",
       "      <td>18</td>\n",
       "      <td>16</td>\n",
       "      <td>873</td>\n",
       "    </tr>\n",
       "    <tr>\n",
       "      <th>4</th>\n",
       "      <td>ford</td>\n",
       "      <td>f-150</td>\n",
       "      <td>2017</td>\n",
       "      <td>flex-fuel_(unleaded/e85)</td>\n",
       "      <td>385.0</td>\n",
       "      <td>8.0</td>\n",
       "      <td>automatic</td>\n",
       "      <td>four_wheel_drive</td>\n",
       "      <td>4.0</td>\n",
       "      <td>flex_fuel</td>\n",
       "      <td>large</td>\n",
       "      <td>crew_cab_pickup</td>\n",
       "      <td>21</td>\n",
       "      <td>15</td>\n",
       "      <td>5657</td>\n",
       "    </tr>\n",
       "    <tr>\n",
       "      <th>...</th>\n",
       "      <td>...</td>\n",
       "      <td>...</td>\n",
       "      <td>...</td>\n",
       "      <td>...</td>\n",
       "      <td>...</td>\n",
       "      <td>...</td>\n",
       "      <td>...</td>\n",
       "      <td>...</td>\n",
       "      <td>...</td>\n",
       "      <td>...</td>\n",
       "      <td>...</td>\n",
       "      <td>...</td>\n",
       "      <td>...</td>\n",
       "      <td>...</td>\n",
       "      <td>...</td>\n",
       "    </tr>\n",
       "    <tr>\n",
       "      <th>7145</th>\n",
       "      <td>bmw</td>\n",
       "      <td>4_series</td>\n",
       "      <td>2015</td>\n",
       "      <td>premium_unleaded_(required)</td>\n",
       "      <td>300.0</td>\n",
       "      <td>6.0</td>\n",
       "      <td>automatic</td>\n",
       "      <td>rear_wheel_drive</td>\n",
       "      <td>2.0</td>\n",
       "      <td>luxury,performance</td>\n",
       "      <td>midsize</td>\n",
       "      <td>convertible</td>\n",
       "      <td>31</td>\n",
       "      <td>20</td>\n",
       "      <td>3916</td>\n",
       "    </tr>\n",
       "    <tr>\n",
       "      <th>7146</th>\n",
       "      <td>volkswagen</td>\n",
       "      <td>beetle</td>\n",
       "      <td>2015</td>\n",
       "      <td>premium_unleaded_(recommended)</td>\n",
       "      <td>210.0</td>\n",
       "      <td>4.0</td>\n",
       "      <td>automated_manual</td>\n",
       "      <td>front_wheel_drive</td>\n",
       "      <td>2.0</td>\n",
       "      <td>hatchback,performance</td>\n",
       "      <td>compact</td>\n",
       "      <td>2dr_hatchback</td>\n",
       "      <td>30</td>\n",
       "      <td>24</td>\n",
       "      <td>873</td>\n",
       "    </tr>\n",
       "    <tr>\n",
       "      <th>7147</th>\n",
       "      <td>gmc</td>\n",
       "      <td>sierra_1500</td>\n",
       "      <td>2015</td>\n",
       "      <td>flex-fuel_(unleaded/e85)</td>\n",
       "      <td>285.0</td>\n",
       "      <td>6.0</td>\n",
       "      <td>automatic</td>\n",
       "      <td>four_wheel_drive</td>\n",
       "      <td>4.0</td>\n",
       "      <td>flex_fuel</td>\n",
       "      <td>large</td>\n",
       "      <td>extended_cab_pickup</td>\n",
       "      <td>22</td>\n",
       "      <td>17</td>\n",
       "      <td>549</td>\n",
       "    </tr>\n",
       "    <tr>\n",
       "      <th>7148</th>\n",
       "      <td>rolls-royce</td>\n",
       "      <td>ghost</td>\n",
       "      <td>2014</td>\n",
       "      <td>premium_unleaded_(required)</td>\n",
       "      <td>563.0</td>\n",
       "      <td>12.0</td>\n",
       "      <td>automatic</td>\n",
       "      <td>rear_wheel_drive</td>\n",
       "      <td>4.0</td>\n",
       "      <td>exotic,luxury,performance</td>\n",
       "      <td>large</td>\n",
       "      <td>sedan</td>\n",
       "      <td>21</td>\n",
       "      <td>13</td>\n",
       "      <td>86</td>\n",
       "    </tr>\n",
       "    <tr>\n",
       "      <th>7149</th>\n",
       "      <td>volkswagen</td>\n",
       "      <td>cc</td>\n",
       "      <td>2017</td>\n",
       "      <td>premium_unleaded_(recommended)</td>\n",
       "      <td>200.0</td>\n",
       "      <td>4.0</td>\n",
       "      <td>automated_manual</td>\n",
       "      <td>front_wheel_drive</td>\n",
       "      <td>4.0</td>\n",
       "      <td>performance</td>\n",
       "      <td>midsize</td>\n",
       "      <td>sedan</td>\n",
       "      <td>31</td>\n",
       "      <td>22</td>\n",
       "      <td>873</td>\n",
       "    </tr>\n",
       "  </tbody>\n",
       "</table>\n",
       "<p>7150 rows × 15 columns</p>\n",
       "</div>"
      ],
      "text/plain": [
       "             make        model  year                engine_fuel_type  \\\n",
       "0       chevrolet       cobalt  2008                regular_unleaded   \n",
       "1          toyota       matrix  2012                regular_unleaded   \n",
       "2          subaru      impreza  2016                regular_unleaded   \n",
       "3      volkswagen      vanagon  1991                regular_unleaded   \n",
       "4            ford        f-150  2017        flex-fuel_(unleaded/e85)   \n",
       "...           ...          ...   ...                             ...   \n",
       "7145          bmw     4_series  2015     premium_unleaded_(required)   \n",
       "7146   volkswagen       beetle  2015  premium_unleaded_(recommended)   \n",
       "7147          gmc  sierra_1500  2015        flex-fuel_(unleaded/e85)   \n",
       "7148  rolls-royce        ghost  2014     premium_unleaded_(required)   \n",
       "7149   volkswagen           cc  2017  premium_unleaded_(recommended)   \n",
       "\n",
       "      engine_hp  engine_cylinders transmission_type      driven_wheels  \\\n",
       "0         148.0               4.0            manual  front_wheel_drive   \n",
       "1         132.0               4.0         automatic  front_wheel_drive   \n",
       "2         148.0               4.0         automatic    all_wheel_drive   \n",
       "3          90.0               4.0            manual   rear_wheel_drive   \n",
       "4         385.0               8.0         automatic   four_wheel_drive   \n",
       "...         ...               ...               ...                ...   \n",
       "7145      300.0               6.0         automatic   rear_wheel_drive   \n",
       "7146      210.0               4.0  automated_manual  front_wheel_drive   \n",
       "7147      285.0               6.0         automatic   four_wheel_drive   \n",
       "7148      563.0              12.0         automatic   rear_wheel_drive   \n",
       "7149      200.0               4.0  automated_manual  front_wheel_drive   \n",
       "\n",
       "      number_of_doors            market_category vehicle_size  \\\n",
       "0                 2.0                        NaN      compact   \n",
       "1                 4.0                  hatchback      compact   \n",
       "2                 4.0                  hatchback      compact   \n",
       "3                 3.0                        NaN        large   \n",
       "4                 4.0                  flex_fuel        large   \n",
       "...               ...                        ...          ...   \n",
       "7145              2.0         luxury,performance      midsize   \n",
       "7146              2.0      hatchback,performance      compact   \n",
       "7147              4.0                  flex_fuel        large   \n",
       "7148              4.0  exotic,luxury,performance        large   \n",
       "7149              4.0                performance      midsize   \n",
       "\n",
       "            vehicle_style  highway_mpg  city_mpg  popularity  \n",
       "0                   coupe           33        24        1385  \n",
       "1           4dr_hatchback           32        25        2031  \n",
       "2           4dr_hatchback           37        28         640  \n",
       "3       passenger_minivan           18        16         873  \n",
       "4         crew_cab_pickup           21        15        5657  \n",
       "...                   ...          ...       ...         ...  \n",
       "7145          convertible           31        20        3916  \n",
       "7146        2dr_hatchback           30        24         873  \n",
       "7147  extended_cab_pickup           22        17         549  \n",
       "7148                sedan           21        13          86  \n",
       "7149                sedan           31        22         873  \n",
       "\n",
       "[7150 rows x 15 columns]"
      ]
     },
     "execution_count": 148,
     "metadata": {},
     "output_type": "execute_result"
    }
   ],
   "source": [
    "df_train"
   ]
  },
  {
   "cell_type": "code",
   "execution_count": 154,
   "id": "20f2c929",
   "metadata": {},
   "outputs": [
    {
     "data": {
      "text/plain": [
       "array([ 2.,  4.,  3., nan])"
      ]
     },
     "execution_count": 154,
     "metadata": {},
     "output_type": "execute_result"
    }
   ],
   "source": [
    "df_train.number_of_doors.unique()"
   ]
  },
  {
   "cell_type": "code",
   "execution_count": 168,
   "id": "b6af6cd3",
   "metadata": {},
   "outputs": [
    {
     "data": {
      "text/plain": [
       "['engine_hp', 'engine_cylinders', 'highway_mpg', 'city_mpg', 'popularity']"
      ]
     },
     "execution_count": 168,
     "metadata": {},
     "output_type": "execute_result"
    }
   ],
   "source": [
    "features = base.copy()\n",
    "features"
   ]
  },
  {
   "cell_type": "code",
   "execution_count": 169,
   "id": "acaac669",
   "metadata": {},
   "outputs": [],
   "source": [
    "# categorical column is represented by multiple binary variables\n",
    "# using categorical feature - number of doors\n",
    "base=['engine_hp','engine_cylinders','highway_mpg', 'city_mpg', 'popularity']\n",
    "\n",
    "def prepare_X(df):\n",
    "    df = df.copy() # avoid overwriting df\n",
    "    features = base.copy()\n",
    "\n",
    "    df['age']= 2017 - df.year\n",
    "    features.append('age')\n",
    "    \n",
    "    for v in [2,3,4]:\n",
    "        df['num_doors_%s' % v] = (df.number_of_doors == v).astype(int)\n",
    "        features.append('num_doors_%s' % v) \n",
    "\n",
    "    df_num=df[features]\n",
    "    df_num=df_num.fillna(0)\n",
    "    X=df_num.values\n",
    "    return X"
   ]
  },
  {
   "cell_type": "code",
   "execution_count": 170,
   "id": "0d346b40",
   "metadata": {},
   "outputs": [],
   "source": [
    "def train_linear_regression(X,y):\n",
    "\n",
    "    ones=np.ones(X.shape[0])\n",
    "    X=np.column_stack((ones,X))\n",
    "    # adding bias term to feature matrix\n",
    "\n",
    "    XTX=np.dot(X.T,X)\n",
    "    XTX_inv=np.linalg.inv(XTX)\n",
    "    # w = (X^T X)^(-1) X^T y\n",
    "    # adding bias term to feature matrix\n",
    "\n",
    "    w_full=XTX_inv.dot(X.T).dot(y)\n",
    "    return w_full[0],w_full[1:]"
   ]
  },
  {
   "cell_type": "code",
   "execution_count": null,
   "id": "7d0c9bef",
   "metadata": {},
   "outputs": [
    {
     "data": {
      "text/plain": [
       "np.float64(0.515799564150169)"
      ]
     },
     "execution_count": 171,
     "metadata": {},
     "output_type": "execute_result"
    }
   ],
   "source": [
    "X_train=prepare_X(df_train)\n",
    "w0,w=train_linear_regression(X_train,y_train)\n",
    "\n",
    "X_val=prepare_X(df_val)\n",
    "y_pred= w0+ X_val.dot(w)\n",
    "\n",
    "rmse(y_val,y_pred)\n",
    "\n",
    "# np.float64(0.5172055461058299)\n",
    "# slight improvement "
   ]
  },
  {
   "cell_type": "markdown",
   "id": "a0b4307a",
   "metadata": {},
   "source": [
    "Adding Make feature"
   ]
  },
  {
   "cell_type": "code",
   "execution_count": 175,
   "id": "48b8bd99",
   "metadata": {},
   "outputs": [
    {
     "name": "stdout",
     "output_type": "stream",
     "text": [
      "['chevrolet', 'ford', 'volkswagen', 'toyota', 'dodge']\n"
     ]
    }
   ],
   "source": [
    "base=['engine_hp','engine_cylinders','highway_mpg', 'city_mpg', 'popularity']\n",
    "makes=list(df.make.value_counts().head().index)\n",
    "print(makes)\n",
    "# taking top records of make as more the feature more the cost of model\n",
    "def prepare_X(df):\n",
    "    df = df.copy() # avoid overwriting df\n",
    "    features = base.copy()\n",
    "\n",
    "    df['age']= 2017 - df.year\n",
    "    features.append('age')\n",
    "    \n",
    "    for v in [2,3,4]:\n",
    "        df['num_doors_%s' % v] = (df.number_of_doors == v).astype(int)\n",
    "        features.append('num_doors_%s' % v) \n",
    "    \n",
    "    for v in makes:\n",
    "        df['makes_%s' % v] = (df.make == v).astype(int)\n",
    "        features.append('makes_%s' % v)\n",
    "\n",
    "    df_num=df[features]\n",
    "    df_num=df_num.fillna(0)\n",
    "    X=df_num.values\n",
    "    return X"
   ]
  },
  {
   "cell_type": "code",
   "execution_count": null,
   "id": "5e155066",
   "metadata": {},
   "outputs": [
    {
     "data": {
      "text/plain": [
       "np.float64(0.5076038849556795)"
      ]
     },
     "execution_count": 176,
     "metadata": {},
     "output_type": "execute_result"
    }
   ],
   "source": [
    "X_train=prepare_X(df_train)\n",
    "w0,w=train_linear_regression(X_train,y_train)\n",
    "\n",
    "X_val=prepare_X(df_val)\n",
    "y_pred= w0+ X_val.dot(w)\n",
    "\n",
    "rmse(y_val,y_pred)\n",
    "# previous rmse -> 0.515799564150169"
   ]
  },
  {
   "cell_type": "code",
   "execution_count": 179,
   "id": "45919857",
   "metadata": {},
   "outputs": [
    {
     "data": {
      "text/plain": [
       "{'make': ['chevrolet', 'ford', 'volkswagen', 'toyota', 'dodge'],\n",
       " 'engine_fuel_type': ['regular_unleaded',\n",
       "  'premium_unleaded_(required)',\n",
       "  'premium_unleaded_(recommended)',\n",
       "  'flex-fuel_(unleaded/e85)',\n",
       "  'diesel'],\n",
       " 'transmission_type': ['automatic',\n",
       "  'manual',\n",
       "  'automated_manual',\n",
       "  'direct_drive',\n",
       "  'unknown'],\n",
       " 'driven_wheels': ['front_wheel_drive',\n",
       "  'rear_wheel_drive',\n",
       "  'all_wheel_drive',\n",
       "  'four_wheel_drive'],\n",
       " 'market_category': ['crossover',\n",
       "  'flex_fuel',\n",
       "  'luxury',\n",
       "  'luxury,performance',\n",
       "  'hatchback'],\n",
       " 'vehicle_size': ['compact', 'midsize', 'large'],\n",
       " 'vehicle_style': ['sedan',\n",
       "  '4dr_suv',\n",
       "  'coupe',\n",
       "  'convertible',\n",
       "  '4dr_hatchback']}"
      ]
     },
     "execution_count": 179,
     "metadata": {},
     "output_type": "execute_result"
    }
   ],
   "source": [
    "# add more categories\n",
    "categorical_variables=[\n",
    "'make','engine_fuel_type', 'transmission_type', 'driven_wheels',\n",
    "       'market_category', 'vehicle_size', 'vehicle_style']\n",
    "categories={}\n",
    "for c in categorical_variables:\n",
    "    categories[c]=list(df[c].value_counts().head().index)\n",
    "categories"
   ]
  },
  {
   "cell_type": "code",
   "execution_count": 184,
   "id": "ca53533f",
   "metadata": {},
   "outputs": [
    {
     "name": "stdout",
     "output_type": "stream",
     "text": [
      "['chevrolet', 'ford', 'volkswagen', 'toyota', 'dodge']\n"
     ]
    }
   ],
   "source": [
    "ase=['engine_hp','engine_cylinders','highway_mpg', 'city_mpg', 'popularity']\n",
    "makes=list(df.make.value_counts().head(5).index)\n",
    "print(makes)\n",
    "# taking top records of make as more the feature more the cost of model\n",
    "def prepare_X(df):\n",
    "    df = df.copy() # avoid overwriting df\n",
    "    features = base.copy()\n",
    "\n",
    "    df['age']= 2017 - df.year\n",
    "    features.append('age')\n",
    "    \n",
    "    for v in [2,3,4]:\n",
    "        df['num_doors_%s' % v] = (df.number_of_doors == v).astype(int)\n",
    "        features.append('num_doors_%s' % v) \n",
    "    \n",
    "    for c,values in categories.items():\n",
    "        for v in values:\n",
    "            df['%s_%s' % (c,v)] = (df[c] == v).astype(int)\n",
    "            features.append('%s_%s' % (c,v))\n",
    "\n",
    "    df_num=df[features]\n",
    "    df_num=df_num.fillna(0)\n",
    "    X=df_num.values\n",
    "    return X"
   ]
  },
  {
   "cell_type": "code",
   "execution_count": null,
   "id": "16ce4175",
   "metadata": {},
   "outputs": [
    {
     "data": {
      "text/plain": [
       "np.float64(23.019020704791835)"
      ]
     },
     "execution_count": 185,
     "metadata": {},
     "output_type": "execute_result"
    }
   ],
   "source": [
    "X_train=prepare_X(df_train)\n",
    "w0,w=train_linear_regression(X_train,y_train)\n",
    "\n",
    "X_val=prepare_X(df_val)\n",
    "y_pred= w0+ X_val.dot(w)\n",
    "\n",
    "rmse(y_val,y_pred)\n",
    "\n",
    "# very bad outcome\n",
    "# previous 0.5076038849556795"
   ]
  },
  {
   "cell_type": "markdown",
   "id": "057fe47e",
   "metadata": {},
   "source": [
    " # Regularisation\n",
    "\n",
    "- how to handle singular matrix or categorical values which is close to singular matrix\n",
    "\n",
    "singular matrix (duplicate values) can be inverse -> equation XTX_inv will fail\n",
    "however close to singular wiill be able to generate XTX_inv but value will be large \n"
   ]
  },
  {
   "cell_type": "code",
   "execution_count": 3,
   "id": "bbca6261",
   "metadata": {},
   "outputs": [
    {
     "data": {
      "text/plain": [
       "[[1, 2, 2], [2, 2, 2], [3, 2, 2]]"
      ]
     },
     "execution_count": 3,
     "metadata": {},
     "output_type": "execute_result"
    }
   ],
   "source": [
    "X=[\n",
    "    [1,2,2],\n",
    "    [2,2,2],\n",
    "    [3,2,2]\n",
    "]\n",
    "import numpy as np\n",
    "x=np.array(X)\n",
    "X"
   ]
  },
  {
   "cell_type": "code",
   "execution_count": 6,
   "id": "70aff70b",
   "metadata": {},
   "outputs": [
    {
     "data": {
      "text/plain": [
       "array([[14, 12, 12],\n",
       "       [12, 12, 12],\n",
       "       [12, 12, 12]])"
      ]
     },
     "execution_count": 6,
     "metadata": {},
     "output_type": "execute_result"
    }
   ],
   "source": [
    "XTX=x.T.dot(x)\n",
    "XTX"
   ]
  },
  {
   "cell_type": "code",
   "execution_count": null,
   "id": "830565fc",
   "metadata": {},
   "outputs": [
    {
     "ename": "LinAlgError",
     "evalue": "Singular matrix",
     "output_type": "error",
     "traceback": [
      "\u001b[31m---------------------------------------------------------------------------\u001b[39m",
      "\u001b[31mLinAlgError\u001b[39m                               Traceback (most recent call last)",
      "\u001b[36mCell\u001b[39m\u001b[36m \u001b[39m\u001b[32mIn[8]\u001b[39m\u001b[32m, line 1\u001b[39m\n\u001b[32m----> \u001b[39m\u001b[32m1\u001b[39m \u001b[43mnp\u001b[49m\u001b[43m.\u001b[49m\u001b[43mlinalg\u001b[49m\u001b[43m.\u001b[49m\u001b[43minv\u001b[49m\u001b[43m(\u001b[49m\u001b[43mXTX\u001b[49m\u001b[43m)\u001b[49m\n",
      "\u001b[36mFile \u001b[39m\u001b[32mc:\\Users\\vohrakb\\AppData\\Local\\Programs\\Python\\Python313\\Lib\\site-packages\\numpy\\linalg\\_linalg.py:669\u001b[39m, in \u001b[36minv\u001b[39m\u001b[34m(a)\u001b[39m\n\u001b[32m    666\u001b[39m signature = \u001b[33m'\u001b[39m\u001b[33mD->D\u001b[39m\u001b[33m'\u001b[39m \u001b[38;5;28;01mif\u001b[39;00m isComplexType(t) \u001b[38;5;28;01melse\u001b[39;00m \u001b[33m'\u001b[39m\u001b[33md->d\u001b[39m\u001b[33m'\u001b[39m\n\u001b[32m    667\u001b[39m \u001b[38;5;28;01mwith\u001b[39;00m errstate(call=_raise_linalgerror_singular, invalid=\u001b[33m'\u001b[39m\u001b[33mcall\u001b[39m\u001b[33m'\u001b[39m,\n\u001b[32m    668\u001b[39m               over=\u001b[33m'\u001b[39m\u001b[33mignore\u001b[39m\u001b[33m'\u001b[39m, divide=\u001b[33m'\u001b[39m\u001b[33mignore\u001b[39m\u001b[33m'\u001b[39m, under=\u001b[33m'\u001b[39m\u001b[33mignore\u001b[39m\u001b[33m'\u001b[39m):\n\u001b[32m--> \u001b[39m\u001b[32m669\u001b[39m     ainv = \u001b[43m_umath_linalg\u001b[49m\u001b[43m.\u001b[49m\u001b[43minv\u001b[49m\u001b[43m(\u001b[49m\u001b[43ma\u001b[49m\u001b[43m,\u001b[49m\u001b[43m \u001b[49m\u001b[43msignature\u001b[49m\u001b[43m=\u001b[49m\u001b[43msignature\u001b[49m\u001b[43m)\u001b[49m\n\u001b[32m    670\u001b[39m \u001b[38;5;28;01mreturn\u001b[39;00m wrap(ainv.astype(result_t, copy=\u001b[38;5;28;01mFalse\u001b[39;00m))\n",
      "\u001b[36mFile \u001b[39m\u001b[32mc:\\Users\\vohrakb\\AppData\\Local\\Programs\\Python\\Python313\\Lib\\site-packages\\numpy\\linalg\\_linalg.py:163\u001b[39m, in \u001b[36m_raise_linalgerror_singular\u001b[39m\u001b[34m(err, flag)\u001b[39m\n\u001b[32m    162\u001b[39m \u001b[38;5;28;01mdef\u001b[39;00m\u001b[38;5;250m \u001b[39m\u001b[34m_raise_linalgerror_singular\u001b[39m(err, flag):\n\u001b[32m--> \u001b[39m\u001b[32m163\u001b[39m     \u001b[38;5;28;01mraise\u001b[39;00m LinAlgError(\u001b[33m\"\u001b[39m\u001b[33mSingular matrix\u001b[39m\u001b[33m\"\u001b[39m)\n",
      "\u001b[31mLinAlgError\u001b[39m: Singular matrix"
     ]
    }
   ],
   "source": [
    "np.linalg.inv(XTX)\n",
    "\n",
    "# singular  matrix problem"
   ]
  },
  {
   "cell_type": "code",
   "execution_count": 11,
   "id": "c23992ea",
   "metadata": {},
   "outputs": [
    {
     "data": {
      "text/plain": [
       "array([[1.  , 2.01, 2.02],\n",
       "       [2.  , 2.02, 2.  ],\n",
       "       [3.  , 2.01, 2.01]])"
      ]
     },
     "execution_count": 11,
     "metadata": {},
     "output_type": "execute_result"
    }
   ],
   "source": [
    "X=[\n",
    "    [1.0,2.01,2.02],\n",
    "    [2.0,2.02,2.0],\n",
    "    [3.0,2.01,2.01]\n",
    "]\n",
    "x=np.array(X)\n",
    "x"
   ]
  },
  {
   "cell_type": "code",
   "execution_count": 12,
   "id": "a0a286c5",
   "metadata": {},
   "outputs": [
    {
     "data": {
      "text/plain": [
       "array([[14.    , 12.08  , 12.05  ],\n",
       "       [12.08  , 12.1606, 12.1403],\n",
       "       [12.05  , 12.1403, 12.1205]])"
      ]
     },
     "execution_count": 12,
     "metadata": {},
     "output_type": "execute_result"
    }
   ],
   "source": [
    "XTX=x.T.dot(x)\n",
    "XTX"
   ]
  },
  {
   "cell_type": "code",
   "execution_count": 14,
   "id": "6dccc2d8",
   "metadata": {},
   "outputs": [
    {
     "data": {
      "text/plain": [
       "array([[ 5.57859544e-01, -1.23048351e+01,  1.17703216e+01],\n",
       "       [-1.23048351e+01,  2.40973994e+03, -2.40144322e+03],\n",
       "       [ 1.17703216e+01, -2.40144322e+03,  2.39374685e+03]])"
      ]
     },
     "execution_count": 14,
     "metadata": {},
     "output_type": "execute_result"
    }
   ],
   "source": [
    "XTX_inv=np.linalg.inv(XTX)\n",
    "# inverse worked but as you can see numbers are on high side.\n",
    "XTX_inv"
   ]
  },
  {
   "cell_type": "code",
   "execution_count": 18,
   "id": "b26050ce",
   "metadata": {},
   "outputs": [
    {
     "data": {
      "text/plain": [
       "array([ 1.00000000e+00,  1.12621024e-12, -2.19202434e-12])"
      ]
     },
     "execution_count": 18,
     "metadata": {},
     "output_type": "execute_result"
    }
   ],
   "source": [
    "y=[1,2,3]\n",
    "XTX_inv.dot(x.T).dot(y)"
   ]
  },
  {
   "cell_type": "markdown",
   "id": "4f201101",
   "metadata": {},
   "source": [
    "How to handle this situation of high number on martrix inverse\n",
    "its through regularisation \n",
    "- add a variable to diagnol of the matrix to reduce the weights\n",
    "- larger the number to wait to daignol more the weight are under control"
   ]
  },
  {
   "cell_type": "code",
   "execution_count": 24,
   "id": "169528e6",
   "metadata": {},
   "outputs": [
    {
     "data": {
      "text/plain": [
       "array([[ 1.91255819,  1.4677874 , -2.89267476],\n",
       "       [ 1.4677874 ,  3.31598816, -4.02619981],\n",
       "       [-2.89267476, -4.02619981,  5.92362799]])"
      ]
     },
     "execution_count": 24,
     "metadata": {},
     "output_type": "execute_result"
    }
   ],
   "source": [
    "X=[\n",
    "    [1.0,2.01,2.02],\n",
    "    [2.0,2.0,2.0],\n",
    "    [3.0,2.01,3.0]\n",
    "]\n",
    "x=np.array(X)\n",
    "XTX=x.T.dot(x)\n",
    "np.linalg.inv(XTX)"
   ]
  },
  {
   "cell_type": "code",
   "execution_count": null,
   "id": "544023ee",
   "metadata": {},
   "outputs": [
    {
     "data": {
      "text/plain": [
       "array([[ 2.60948639,  0.58779416, -2.76019946],\n",
       "       [ 0.58779416,  1.35984951, -1.61950419],\n",
       "       [-2.76019946, -1.61950419,  3.78525668]])"
      ]
     },
     "execution_count": 32,
     "metadata": {},
     "output_type": "execute_result"
    }
   ],
   "source": [
    "X=[\n",
    "    [1.2,2.01,2.02],\n",
    "    [2.,2.2,2.0],\n",
    "    [3.0,2.01,3.2]\n",
    "]\n",
    "x=np.array(X)\n",
    "XTX=x.T.dot(x)\n",
    "np.linalg.inv(XTX)\n",
    "# by adding a small value to a diagnol, \n",
    "# it reduce probability to number to get repeated in matrix"
   ]
  },
  {
   "cell_type": "code",
   "execution_count": 35,
   "id": "56be36c0",
   "metadata": {},
   "outputs": [
    {
     "data": {
      "text/plain": [
       "array([[ 0.45144831, -0.09673375, -0.29816315],\n",
       "       [-0.09673375,  0.40295407, -0.2290643 ],\n",
       "       [-0.29816315, -0.2290643 ,  0.47292067]])"
      ]
     },
     "execution_count": 35,
     "metadata": {},
     "output_type": "execute_result"
    }
   ],
   "source": [
    "# TO implement it progamatically\n",
    "XTX= XTX+ 0.1* np.eye(3)\n",
    "np.linalg.inv(XTX)\n",
    "\n",
    "# controling weight so that they dont do rogue "
   ]
  },
  {
   "cell_type": "code",
   "execution_count": 67,
   "id": "493dd7fd",
   "metadata": {},
   "outputs": [],
   "source": [
    "# reading data and cleaning it\n",
    "import pandas as pd\n",
    "import numpy as np\n",
    "\n",
    "df=pd.read_csv('data.csv')\n",
    "# lower all column names and replace space with underscore\n",
    "df.columns=df.columns.str.replace(' ','_').str.lower()\n",
    "strings=list(df.dtypes[df.dtypes == 'object'].index)\n",
    "\n",
    "## lower all column string values and replace space with underscore\n",
    "\n",
    "for col in strings:\n",
    "    df[col]=df[col].str.lower().str.replace(' ','_')\n",
    "\n",
    "# shuffle index so that sequance of records doesnt get alloacted to train data\n",
    "#all difference types of input should be feeded.\n",
    "\n",
    "n=len(df)\n",
    "\n",
    "idx=np.arange(n)\n",
    "np.random.seed(2)\n",
    "np.random.shuffle(idx)\n",
    "\n",
    "# train - 60%, val - 20%, test - 20%\n",
    "#\n",
    "df_train=df.iloc[idx[:n_train]]\n",
    "df_val=df.iloc[idx[n_train:n_train+n_val]]\n",
    "df_test=df.iloc[idx[n_train+n_val:]]\n",
    "\n",
    "# drop index to avoid any confusion \n",
    "\n",
    "df_train=df_train.reset_index(drop=True)\n",
    "df_test=df_test.reset_index(drop=True)\n",
    "df_val=df_val.reset_index(drop=True)\n",
    "\n",
    "# convert target matrix to logrithmic form\n",
    "\n",
    "y_train=np.log1p(df_train.msrp.values)\n",
    "y_val=np.log1p(df_val.msrp.values)\n",
    "y_test=np.log1p(df_test.msrp.values)\n",
    "\n",
    "# remove target from feature matrix\n",
    "\n",
    "del df_train['msrp']\n",
    "del df_test['msrp']\n",
    "del df_val['msrp']"
   ]
  },
  {
   "cell_type": "code",
   "execution_count": 68,
   "id": "042032ec",
   "metadata": {},
   "outputs": [],
   "source": [
    "## linear regression function with regularisation\n",
    "\n",
    "def train_linear_regression_regularised(X,y,r=0.001):\n",
    "\n",
    "    ones=np.ones(X.shape[0])\n",
    "    X=np.column_stack((ones,X))\n",
    "    # adding bias term to feature matrix\n",
    "\n",
    "    XTX=np.dot(X.T,X)\n",
    "\n",
    "    # regularisation step\n",
    "    XTX= XTX+ r * np.eye(XTX.shape[0])\n",
    "\n",
    "    XTX_inv=np.linalg.inv(XTX)\n",
    "    # w = (X^T X)^(-1) X^T y\n",
    "    # adding bias term to feature matrix\n",
    "\n",
    "    w_full=XTX_inv.dot(X.T).dot(y)\n",
    "    \n",
    "    return w_full[0],w_full[1:]"
   ]
  },
  {
   "cell_type": "code",
   "execution_count": 69,
   "id": "8acdf06d",
   "metadata": {},
   "outputs": [
    {
     "data": {
      "text/plain": [
       "{'make': ['chevrolet', 'ford', 'volkswagen', 'toyota', 'dodge'],\n",
       " 'engine_fuel_type': ['regular_unleaded',\n",
       "  'premium_unleaded_(required)',\n",
       "  'premium_unleaded_(recommended)',\n",
       "  'flex-fuel_(unleaded/e85)',\n",
       "  'diesel'],\n",
       " 'transmission_type': ['automatic',\n",
       "  'manual',\n",
       "  'automated_manual',\n",
       "  'direct_drive',\n",
       "  'unknown'],\n",
       " 'driven_wheels': ['front_wheel_drive',\n",
       "  'rear_wheel_drive',\n",
       "  'all_wheel_drive',\n",
       "  'four_wheel_drive'],\n",
       " 'market_category': ['crossover',\n",
       "  'flex_fuel',\n",
       "  'luxury',\n",
       "  'luxury,performance',\n",
       "  'hatchback'],\n",
       " 'vehicle_size': ['compact', 'midsize', 'large'],\n",
       " 'vehicle_style': ['sedan',\n",
       "  '4dr_suv',\n",
       "  'coupe',\n",
       "  'convertible',\n",
       "  '4dr_hatchback']}"
      ]
     },
     "execution_count": 69,
     "metadata": {},
     "output_type": "execute_result"
    }
   ],
   "source": [
    "# categorical columns , \n",
    "# add column to feature metric for selected categorical values\n",
    "\n",
    "categorical_variables=[\n",
    "'make','engine_fuel_type', 'transmission_type', 'driven_wheels',\n",
    "       'market_category', 'vehicle_size', 'vehicle_style']\n",
    "categories={}\n",
    "for c in categorical_variables:\n",
    "    categories[c]=list(df[c].value_counts().head().index)\n",
    "categories"
   ]
  },
  {
   "cell_type": "code",
   "execution_count": 142,
   "id": "8dc3336e",
   "metadata": {},
   "outputs": [
    {
     "name": "stdout",
     "output_type": "stream",
     "text": [
      "['chevrolet', 'ford', 'volkswagen', 'toyota', 'dodge']\n"
     ]
    }
   ],
   "source": [
    "# feature engineering part, adding more features of feature matrix \n",
    "# also cleaning data like replacing null values with 0\n",
    "\n",
    "# numeric and categorical columns in feature matrix\n",
    "# base list of columns are numeric columns..\n",
    "\n",
    "base=['engine_hp','engine_cylinders','highway_mpg', 'city_mpg', 'popularity']\n",
    "makes=list(df.make.value_counts().head(5).index)\n",
    "print(makes)\n",
    "# taking top records of make as more the feature more the cost of model\n",
    "def prepare_X(df):\n",
    "    df = df.copy() # avoid overwriting df\n",
    "    features = base.copy()\n",
    "\n",
    "    df['age']= 2017 - df.year\n",
    "    features.append('age')\n",
    "    \n",
    "    for v in [2,3,4]:\n",
    "        df['num_doors_%s' % v] = (df.number_of_doors == v).astype(int)\n",
    "        features.append('num_doors_%s' % v) \n",
    "        \n",
    "    # Categorical values features addition\n",
    "\n",
    "    for c,values in categories.items():\n",
    "        for v in values:\n",
    "            df['%s_%s' % (c,v)] = (df[c] == v).astype(int)\n",
    "            features.append('%s_%s' % (c,v))\n",
    "\n",
    "    df_num=df[features]\n",
    "    df_num=df_num.fillna(0)\n",
    "    X=df_num.values\n",
    "    return X"
   ]
  },
  {
   "cell_type": "code",
   "execution_count": 71,
   "id": "171d951f",
   "metadata": {},
   "outputs": [],
   "source": [
    "def rmse(y,y_pred):\n",
    "\n",
    "    se=(y - y_pred)**2\n",
    "    mse=se.mean()\n",
    "    return np.sqrt(mse)\n",
    "\n",
    "# rmse(y_train,predictions)"
   ]
  },
  {
   "cell_type": "code",
   "execution_count": 72,
   "id": "6dae0805",
   "metadata": {},
   "outputs": [
    {
     "data": {
      "text/plain": [
       "np.float64(0.45652199012897743)"
      ]
     },
     "execution_count": 72,
     "metadata": {},
     "output_type": "execute_result"
    }
   ],
   "source": [
    "X_train=prepare_X(df_train)\n",
    "w0,w=train_linear_regression_regularised(X_train,y_train,r=0.01)\n",
    "\n",
    "X_val=prepare_X(df_val)\n",
    "y_pred= w0+ X_val.dot(w)\n",
    "\n",
    "rmse(y_val,y_pred)\n",
    "\n",
    "# much better number from previous categorical training "
   ]
  },
  {
   "cell_type": "markdown",
   "id": "17d643c1",
   "metadata": {},
   "source": [
    "# Tuning the model\n",
    "\n",
    "finding what is the right value for regulasitaion variable r"
   ]
  },
  {
   "cell_type": "code",
   "execution_count": 74,
   "id": "d0cee32c",
   "metadata": {},
   "outputs": [
    {
     "name": "stdout",
     "output_type": "stream",
     "text": [
      "0.0 4011091003551887.0 23.019020704791835\n",
      "0.01 6.2766071476973995 0.45652199012897743\n",
      "0.1 6.1912087238544915 0.4565692763007501\n",
      "0.001 6.285636717989048 0.45651750867781377\n",
      "0.0001 6.317246071243372 0.4565170654323052\n",
      "1 5.634896668066369 0.45722043179930605\n",
      "10 4.283980108968471 0.4701456932099909\n"
     ]
    }
   ],
   "source": [
    " \n",
    "for r in [0.0,0.01,0.1,0.001,0.0001,1,10]:\n",
    "    X_train=prepare_X(df_train)\n",
    "    w0,w=train_linear_regression_regularised(X_train,y_train,r=r)\n",
    "\n",
    "    X_val=prepare_X(df_val)\n",
    "    y_pred= w0+ X_val.dot(w)\n",
    "\n",
    "    score=rmse(y_val,y_pred)\n",
    "    print(r,w0,score)"
   ]
  },
  {
   "cell_type": "markdown",
   "id": "a3b1ff90",
   "metadata": {},
   "source": [
    "# Using the Model\n",
    "- Use the regularisation value and predict on test data \n",
    "- to test it, first train the dataset with train + validation feature matrix\n",
    "- once we have the weights convert back to nonform and validate the price"
   ]
  },
  {
   "cell_type": "code",
   "execution_count": 78,
   "id": "98b2f205",
   "metadata": {},
   "outputs": [
    {
     "data": {
      "application/vnd.microsoft.datawrangler.viewer.v0+json": {
       "columns": [
        {
         "name": "index",
         "rawType": "int64",
         "type": "integer"
        },
        {
         "name": "make",
         "rawType": "object",
         "type": "string"
        },
        {
         "name": "model",
         "rawType": "object",
         "type": "string"
        },
        {
         "name": "year",
         "rawType": "int64",
         "type": "integer"
        },
        {
         "name": "engine_fuel_type",
         "rawType": "object",
         "type": "unknown"
        },
        {
         "name": "engine_hp",
         "rawType": "float64",
         "type": "float"
        },
        {
         "name": "engine_cylinders",
         "rawType": "float64",
         "type": "float"
        },
        {
         "name": "transmission_type",
         "rawType": "object",
         "type": "string"
        },
        {
         "name": "driven_wheels",
         "rawType": "object",
         "type": "string"
        },
        {
         "name": "number_of_doors",
         "rawType": "float64",
         "type": "float"
        },
        {
         "name": "market_category",
         "rawType": "object",
         "type": "unknown"
        },
        {
         "name": "vehicle_size",
         "rawType": "object",
         "type": "string"
        },
        {
         "name": "vehicle_style",
         "rawType": "object",
         "type": "string"
        },
        {
         "name": "highway_mpg",
         "rawType": "int64",
         "type": "integer"
        },
        {
         "name": "city_mpg",
         "rawType": "int64",
         "type": "integer"
        },
        {
         "name": "popularity",
         "rawType": "int64",
         "type": "integer"
        }
       ],
       "ref": "e1e3f146-a89e-4d77-94fb-cea2c9dbdf51",
       "rows": [
        [
         "0",
         "chevrolet",
         "cobalt",
         "2008",
         "regular_unleaded",
         "148.0",
         "4.0",
         "manual",
         "front_wheel_drive",
         "2.0",
         null,
         "compact",
         "coupe",
         "33",
         "24",
         "1385"
        ],
        [
         "1",
         "toyota",
         "matrix",
         "2012",
         "regular_unleaded",
         "132.0",
         "4.0",
         "automatic",
         "front_wheel_drive",
         "4.0",
         "hatchback",
         "compact",
         "4dr_hatchback",
         "32",
         "25",
         "2031"
        ],
        [
         "2",
         "subaru",
         "impreza",
         "2016",
         "regular_unleaded",
         "148.0",
         "4.0",
         "automatic",
         "all_wheel_drive",
         "4.0",
         "hatchback",
         "compact",
         "4dr_hatchback",
         "37",
         "28",
         "640"
        ],
        [
         "3",
         "volkswagen",
         "vanagon",
         "1991",
         "regular_unleaded",
         "90.0",
         "4.0",
         "manual",
         "rear_wheel_drive",
         "3.0",
         null,
         "large",
         "passenger_minivan",
         "18",
         "16",
         "873"
        ],
        [
         "4",
         "ford",
         "f-150",
         "2017",
         "flex-fuel_(unleaded/e85)",
         "385.0",
         "8.0",
         "automatic",
         "four_wheel_drive",
         "4.0",
         "flex_fuel",
         "large",
         "crew_cab_pickup",
         "21",
         "15",
         "5657"
        ],
        [
         "5",
         "volkswagen",
         "rabbit",
         "2008",
         "regular_unleaded",
         "170.0",
         "5.0",
         "manual",
         "front_wheel_drive",
         "4.0",
         "hatchback",
         "compact",
         "4dr_hatchback",
         "29",
         "22",
         "873"
        ],
        [
         "6",
         "bentley",
         "continental_gtc",
         "2013",
         "premium_unleaded_(required)",
         "500.0",
         "8.0",
         "automatic",
         "all_wheel_drive",
         "2.0",
         "exotic,luxury,high-performance",
         "midsize",
         "convertible",
         "24",
         "14",
         "520"
        ],
        [
         "7",
         "bmw",
         "6_series",
         "2015",
         "premium_unleaded_(required)",
         "315.0",
         "6.0",
         "automatic",
         "rear_wheel_drive",
         "2.0",
         "luxury,performance",
         "midsize",
         "coupe",
         "32",
         "21",
         "3916"
        ],
        [
         "8",
         "maybach",
         "57",
         "2012",
         "premium_unleaded_(required)",
         "543.0",
         "12.0",
         "automatic",
         "rear_wheel_drive",
         "4.0",
         "exotic,luxury",
         "large",
         "sedan",
         "16",
         "10",
         "67"
        ],
        [
         "9",
         "ford",
         "f-150_heritage",
         "2004",
         "regular_unleaded",
         "202.0",
         "6.0",
         "manual",
         "four_wheel_drive",
         "2.0",
         null,
         "large",
         "regular_cab_pickup",
         "18",
         "13",
         "5657"
        ],
        [
         "10",
         "rolls-royce",
         "phantom_drophead_coupe",
         "2015",
         "premium_unleaded_(required)",
         "453.0",
         "12.0",
         "automatic",
         "rear_wheel_drive",
         "2.0",
         "exotic,luxury,performance",
         "large",
         "convertible",
         "19",
         "11",
         "86"
        ],
        [
         "11",
         "chevrolet",
         "equinox",
         "2015",
         "regular_unleaded",
         "182.0",
         "4.0",
         "automatic",
         "all_wheel_drive",
         "4.0",
         "crossover,flex_fuel",
         "compact",
         "4dr_suv",
         "29",
         "20",
         "1385"
        ],
        [
         "12",
         "mitsubishi",
         "eclipse_spyder",
         "2011",
         "regular_unleaded",
         "162.0",
         "4.0",
         "automatic",
         "front_wheel_drive",
         "2.0",
         null,
         "compact",
         "convertible",
         "27",
         "20",
         "436"
        ],
        [
         "13",
         "ferrari",
         "california_t",
         "2015",
         "premium_unleaded_(required)",
         "553.0",
         "8.0",
         "automated_manual",
         "rear_wheel_drive",
         "2.0",
         "exotic,high-performance",
         "compact",
         "convertible",
         "23",
         "16",
         "2774"
        ],
        [
         "14",
         "audi",
         "q5",
         "2017",
         "premium_unleaded_(required)",
         "272.0",
         "6.0",
         "automatic",
         "all_wheel_drive",
         "4.0",
         "crossover,luxury",
         "midsize",
         "4dr_suv",
         "26",
         "18",
         "3105"
        ],
        [
         "15",
         "subaru",
         "xv_crosstrek",
         "2014",
         "regular_unleaded",
         "160.0",
         "4.0",
         "automatic",
         "all_wheel_drive",
         "4.0",
         "crossover,hybrid",
         "compact",
         "4dr_suv",
         "33",
         "29",
         "640"
        ],
        [
         "16",
         "hyundai",
         "genesis_coupe",
         "2016",
         "premium_unleaded_(recommended)",
         "348.0",
         "6.0",
         "manual",
         "rear_wheel_drive",
         "2.0",
         "high-performance",
         "midsize",
         "coupe",
         "24",
         "17",
         "1439"
        ],
        [
         "17",
         "mitsubishi",
         "mighty_max_pickup",
         "1994",
         "regular_unleaded",
         "151.0",
         "4.0",
         "manual",
         "rear_wheel_drive",
         "2.0",
         null,
         "compact",
         "extended_cab_pickup",
         "23",
         "18",
         "436"
        ],
        [
         "18",
         "dodge",
         "dakota",
         "2008",
         "regular_unleaded",
         "210.0",
         "6.0",
         "manual",
         "four_wheel_drive",
         "4.0",
         null,
         "compact",
         "extended_cab_pickup",
         "19",
         "15",
         "1851"
        ],
        [
         "19",
         "ford",
         "probe",
         "1996",
         "regular_unleaded",
         "164.0",
         "6.0",
         "manual",
         "front_wheel_drive",
         "2.0",
         "hatchback,performance",
         "compact",
         "2dr_hatchback",
         "24",
         "18",
         "5657"
        ],
        [
         "20",
         "ford",
         "thunderbird",
         "2005",
         "premium_unleaded_(required)",
         "280.0",
         "8.0",
         "automatic",
         "rear_wheel_drive",
         "2.0",
         "performance",
         "midsize",
         "convertible",
         "22",
         "16",
         "5657"
        ],
        [
         "21",
         "gmc",
         "sierra_1500_classic",
         "2007",
         "flex-fuel_(unleaded/e85)",
         "295.0",
         "8.0",
         "automatic",
         "four_wheel_drive",
         "4.0",
         "flex_fuel",
         "large",
         "extended_cab_pickup",
         "17",
         "13",
         "549"
        ],
        [
         "22",
         "bmw",
         "6_series",
         "2015",
         "premium_unleaded_(required)",
         "315.0",
         "6.0",
         "automatic",
         "all_wheel_drive",
         "2.0",
         "luxury,performance",
         "midsize",
         "coupe",
         "29",
         "20",
         "3916"
        ],
        [
         "23",
         "gmc",
         "canyon",
         "2016",
         "regular_unleaded",
         "305.0",
         "6.0",
         "automatic",
         "four_wheel_drive",
         "4.0",
         "diesel",
         "compact",
         "crew_cab_pickup",
         "24",
         "17",
         "549"
        ],
        [
         "24",
         "volkswagen",
         "beetle_convertible",
         "2014",
         "regular_unleaded",
         "170.0",
         "4.0",
         "automatic",
         "front_wheel_drive",
         "2.0",
         null,
         "compact",
         "convertible",
         "32",
         "24",
         "873"
        ],
        [
         "25",
         "suzuki",
         "esteem",
         "2001",
         "regular_unleaded",
         "122.0",
         "4.0",
         "manual",
         "front_wheel_drive",
         "4.0",
         null,
         "compact",
         "sedan",
         "32",
         "24",
         "481"
        ],
        [
         "26",
         "nissan",
         "juke",
         "2016",
         "premium_unleaded_(recommended)",
         "188.0",
         "4.0",
         "manual",
         "front_wheel_drive",
         "4.0",
         "crossover,hatchback,performance",
         "compact",
         "4dr_hatchback",
         "34",
         "28",
         "2009"
        ],
        [
         "27",
         "suzuki",
         "aerio",
         "2006",
         "regular_unleaded",
         "155.0",
         "4.0",
         "automatic",
         "front_wheel_drive",
         "4.0",
         null,
         "compact",
         "wagon",
         "28",
         "22",
         "481"
        ],
        [
         "28",
         "mitsubishi",
         "mirage",
         "2014",
         "regular_unleaded",
         "74.0",
         "3.0",
         "manual",
         "front_wheel_drive",
         "4.0",
         "hatchback",
         "compact",
         "4dr_hatchback",
         "42",
         "34",
         "436"
        ],
        [
         "29",
         "nissan",
         "rogue",
         "2015",
         "regular_unleaded",
         "170.0",
         "4.0",
         "automatic",
         "front_wheel_drive",
         "4.0",
         "crossover",
         "midsize",
         "4dr_suv",
         "33",
         "26",
         "2009"
        ],
        [
         "30",
         "mercedes-benz",
         "gle-class",
         "2017",
         "premium_unleaded_(required)",
         "302.0",
         "6.0",
         "automatic",
         "rear_wheel_drive",
         "4.0",
         "crossover,luxury",
         "midsize",
         "4dr_suv",
         "23",
         "18",
         "617"
        ],
        [
         "31",
         "ford",
         "escape_hybrid",
         "2011",
         "regular_unleaded",
         "177.0",
         "4.0",
         "automatic",
         "all_wheel_drive",
         "4.0",
         "crossover,hybrid",
         "compact",
         "4dr_suv",
         "27",
         "30",
         "5657"
        ],
        [
         "32",
         "mercedes-benz",
         "300-class",
         "1991",
         "diesel",
         "121.0",
         "5.0",
         "automatic",
         "rear_wheel_drive",
         "4.0",
         "diesel,luxury",
         "midsize",
         "sedan",
         "30",
         "23",
         "617"
        ],
        [
         "33",
         "volkswagen",
         "tiguan",
         "2016",
         "premium_unleaded_(recommended)",
         "200.0",
         "4.0",
         "automatic",
         "all_wheel_drive",
         "4.0",
         "crossover",
         "compact",
         "4dr_suv",
         "26",
         "20",
         "873"
        ],
        [
         "34",
         "porsche",
         "macan",
         "2017",
         "premium_unleaded_(required)",
         "400.0",
         "6.0",
         "automated_manual",
         "all_wheel_drive",
         "4.0",
         "crossover,luxury,performance",
         "midsize",
         "4dr_suv",
         "23",
         "17",
         "1715"
        ],
        [
         "35",
         "chevrolet",
         "captiva_sport",
         "2014",
         "flex-fuel_(unleaded/e85)",
         "180.0",
         "4.0",
         "automatic",
         "front_wheel_drive",
         "4.0",
         "crossover,flex_fuel",
         "midsize",
         "4dr_suv",
         "28",
         "20",
         "1385"
        ],
        [
         "36",
         "nissan",
         "frontier",
         "2016",
         "regular_unleaded",
         "152.0",
         "4.0",
         "manual",
         "rear_wheel_drive",
         "4.0",
         null,
         "compact",
         "extended_cab_pickup",
         "23",
         "19",
         "2009"
        ],
        [
         "37",
         "chevrolet",
         "camaro",
         "2017",
         "premium_unleaded_(recommended)",
         "455.0",
         "8.0",
         "manual",
         "rear_wheel_drive",
         "2.0",
         "high-performance",
         "midsize",
         "coupe",
         "25",
         "16",
         "1385"
        ],
        [
         "38",
         "ford",
         "fusion_hybrid",
         "2017",
         "regular_unleaded",
         "188.0",
         "4.0",
         "automatic",
         "front_wheel_drive",
         "4.0",
         "hybrid",
         "midsize",
         "sedan",
         "41",
         "43",
         "5657"
        ],
        [
         "39",
         "porsche",
         "panamera",
         "2015",
         "premium_unleaded_(required)",
         "310.0",
         "6.0",
         "automated_manual",
         "rear_wheel_drive",
         "4.0",
         "luxury,performance",
         "large",
         "sedan",
         "28",
         "18",
         "1715"
        ],
        [
         "40",
         "nissan",
         "juke",
         "2017",
         "premium_unleaded_(recommended)",
         "188.0",
         "4.0",
         "automatic",
         "all_wheel_drive",
         "4.0",
         "crossover,hatchback",
         "compact",
         "4dr_hatchback",
         "30",
         "26",
         "2009"
        ],
        [
         "41",
         "hyundai",
         "accent",
         "2014",
         "regular_unleaded",
         "138.0",
         "4.0",
         "manual",
         "front_wheel_drive",
         "4.0",
         "hatchback",
         "compact",
         "4dr_hatchback",
         "38",
         "27",
         "1439"
        ],
        [
         "42",
         "suzuki",
         "kizashi",
         "2011",
         "regular_unleaded",
         "180.0",
         "4.0",
         "automatic",
         "front_wheel_drive",
         "4.0",
         null,
         "midsize",
         "sedan",
         "30",
         "23",
         "481"
        ],
        [
         "43",
         "nissan",
         "370z",
         "2016",
         "premium_unleaded_(required)",
         "332.0",
         "6.0",
         "automatic",
         "rear_wheel_drive",
         "2.0",
         "high-performance",
         "compact",
         "coupe",
         "26",
         "19",
         "2009"
        ],
        [
         "44",
         "ferrari",
         "superamerica",
         "2005",
         "premium_unleaded_(required)",
         "532.0",
         "12.0",
         "automated_manual",
         "rear_wheel_drive",
         "2.0",
         "exotic,high-performance",
         "compact",
         "convertible",
         "16",
         "9",
         "2774"
        ],
        [
         "45",
         "bmw",
         "x3",
         "2015",
         "premium_unleaded_(required)",
         "240.0",
         "4.0",
         "automatic",
         "rear_wheel_drive",
         "4.0",
         "crossover,luxury",
         "midsize",
         "4dr_suv",
         "28",
         "21",
         "3916"
        ],
        [
         "46",
         "lexus",
         "rx_450h",
         "2017",
         "premium_unleaded_(recommended)",
         "308.0",
         "6.0",
         "automatic",
         "all_wheel_drive",
         "4.0",
         "crossover,luxury,hybrid",
         "midsize",
         "4dr_suv",
         "28",
         "31",
         "454"
        ],
        [
         "47",
         "maserati",
         "coupe",
         "2006",
         "premium_unleaded_(required)",
         "390.0",
         "8.0",
         "manual",
         "rear_wheel_drive",
         "2.0",
         "exotic,luxury,high-performance",
         "compact",
         "coupe",
         "17",
         "12",
         "238"
        ],
        [
         "48",
         "gmc",
         "envoy_xl",
         "2005",
         "regular_unleaded",
         "275.0",
         "6.0",
         "automatic",
         "four_wheel_drive",
         "4.0",
         null,
         "large",
         "4dr_suv",
         "17",
         "12",
         "549"
        ],
        [
         "49",
         "infiniti",
         "g_coupe",
         "2011",
         "premium_unleaded_(recommended)",
         "330.0",
         "6.0",
         "manual",
         "rear_wheel_drive",
         "2.0",
         "luxury,high-performance",
         "midsize",
         "coupe",
         "25",
         "17",
         "190"
        ]
       ],
       "shape": {
        "columns": 15,
        "rows": 9532
       }
      },
      "text/html": [
       "<div>\n",
       "<style scoped>\n",
       "    .dataframe tbody tr th:only-of-type {\n",
       "        vertical-align: middle;\n",
       "    }\n",
       "\n",
       "    .dataframe tbody tr th {\n",
       "        vertical-align: top;\n",
       "    }\n",
       "\n",
       "    .dataframe thead th {\n",
       "        text-align: right;\n",
       "    }\n",
       "</style>\n",
       "<table border=\"1\" class=\"dataframe\">\n",
       "  <thead>\n",
       "    <tr style=\"text-align: right;\">\n",
       "      <th></th>\n",
       "      <th>make</th>\n",
       "      <th>model</th>\n",
       "      <th>year</th>\n",
       "      <th>engine_fuel_type</th>\n",
       "      <th>engine_hp</th>\n",
       "      <th>engine_cylinders</th>\n",
       "      <th>transmission_type</th>\n",
       "      <th>driven_wheels</th>\n",
       "      <th>number_of_doors</th>\n",
       "      <th>market_category</th>\n",
       "      <th>vehicle_size</th>\n",
       "      <th>vehicle_style</th>\n",
       "      <th>highway_mpg</th>\n",
       "      <th>city_mpg</th>\n",
       "      <th>popularity</th>\n",
       "    </tr>\n",
       "  </thead>\n",
       "  <tbody>\n",
       "    <tr>\n",
       "      <th>0</th>\n",
       "      <td>chevrolet</td>\n",
       "      <td>cobalt</td>\n",
       "      <td>2008</td>\n",
       "      <td>regular_unleaded</td>\n",
       "      <td>148.0</td>\n",
       "      <td>4.0</td>\n",
       "      <td>manual</td>\n",
       "      <td>front_wheel_drive</td>\n",
       "      <td>2.0</td>\n",
       "      <td>NaN</td>\n",
       "      <td>compact</td>\n",
       "      <td>coupe</td>\n",
       "      <td>33</td>\n",
       "      <td>24</td>\n",
       "      <td>1385</td>\n",
       "    </tr>\n",
       "    <tr>\n",
       "      <th>1</th>\n",
       "      <td>toyota</td>\n",
       "      <td>matrix</td>\n",
       "      <td>2012</td>\n",
       "      <td>regular_unleaded</td>\n",
       "      <td>132.0</td>\n",
       "      <td>4.0</td>\n",
       "      <td>automatic</td>\n",
       "      <td>front_wheel_drive</td>\n",
       "      <td>4.0</td>\n",
       "      <td>hatchback</td>\n",
       "      <td>compact</td>\n",
       "      <td>4dr_hatchback</td>\n",
       "      <td>32</td>\n",
       "      <td>25</td>\n",
       "      <td>2031</td>\n",
       "    </tr>\n",
       "    <tr>\n",
       "      <th>2</th>\n",
       "      <td>subaru</td>\n",
       "      <td>impreza</td>\n",
       "      <td>2016</td>\n",
       "      <td>regular_unleaded</td>\n",
       "      <td>148.0</td>\n",
       "      <td>4.0</td>\n",
       "      <td>automatic</td>\n",
       "      <td>all_wheel_drive</td>\n",
       "      <td>4.0</td>\n",
       "      <td>hatchback</td>\n",
       "      <td>compact</td>\n",
       "      <td>4dr_hatchback</td>\n",
       "      <td>37</td>\n",
       "      <td>28</td>\n",
       "      <td>640</td>\n",
       "    </tr>\n",
       "    <tr>\n",
       "      <th>3</th>\n",
       "      <td>volkswagen</td>\n",
       "      <td>vanagon</td>\n",
       "      <td>1991</td>\n",
       "      <td>regular_unleaded</td>\n",
       "      <td>90.0</td>\n",
       "      <td>4.0</td>\n",
       "      <td>manual</td>\n",
       "      <td>rear_wheel_drive</td>\n",
       "      <td>3.0</td>\n",
       "      <td>NaN</td>\n",
       "      <td>large</td>\n",
       "      <td>passenger_minivan</td>\n",
       "      <td>18</td>\n",
       "      <td>16</td>\n",
       "      <td>873</td>\n",
       "    </tr>\n",
       "    <tr>\n",
       "      <th>4</th>\n",
       "      <td>ford</td>\n",
       "      <td>f-150</td>\n",
       "      <td>2017</td>\n",
       "      <td>flex-fuel_(unleaded/e85)</td>\n",
       "      <td>385.0</td>\n",
       "      <td>8.0</td>\n",
       "      <td>automatic</td>\n",
       "      <td>four_wheel_drive</td>\n",
       "      <td>4.0</td>\n",
       "      <td>flex_fuel</td>\n",
       "      <td>large</td>\n",
       "      <td>crew_cab_pickup</td>\n",
       "      <td>21</td>\n",
       "      <td>15</td>\n",
       "      <td>5657</td>\n",
       "    </tr>\n",
       "    <tr>\n",
       "      <th>...</th>\n",
       "      <td>...</td>\n",
       "      <td>...</td>\n",
       "      <td>...</td>\n",
       "      <td>...</td>\n",
       "      <td>...</td>\n",
       "      <td>...</td>\n",
       "      <td>...</td>\n",
       "      <td>...</td>\n",
       "      <td>...</td>\n",
       "      <td>...</td>\n",
       "      <td>...</td>\n",
       "      <td>...</td>\n",
       "      <td>...</td>\n",
       "      <td>...</td>\n",
       "      <td>...</td>\n",
       "    </tr>\n",
       "    <tr>\n",
       "      <th>2377</th>\n",
       "      <td>volvo</td>\n",
       "      <td>v60</td>\n",
       "      <td>2015</td>\n",
       "      <td>regular_unleaded</td>\n",
       "      <td>240.0</td>\n",
       "      <td>4.0</td>\n",
       "      <td>automatic</td>\n",
       "      <td>front_wheel_drive</td>\n",
       "      <td>4.0</td>\n",
       "      <td>luxury</td>\n",
       "      <td>midsize</td>\n",
       "      <td>wagon</td>\n",
       "      <td>37</td>\n",
       "      <td>25</td>\n",
       "      <td>870</td>\n",
       "    </tr>\n",
       "    <tr>\n",
       "      <th>2378</th>\n",
       "      <td>maserati</td>\n",
       "      <td>granturismo_convertible</td>\n",
       "      <td>2015</td>\n",
       "      <td>premium_unleaded_(required)</td>\n",
       "      <td>444.0</td>\n",
       "      <td>8.0</td>\n",
       "      <td>automatic</td>\n",
       "      <td>rear_wheel_drive</td>\n",
       "      <td>2.0</td>\n",
       "      <td>exotic,luxury,high-performance</td>\n",
       "      <td>midsize</td>\n",
       "      <td>convertible</td>\n",
       "      <td>20</td>\n",
       "      <td>13</td>\n",
       "      <td>238</td>\n",
       "    </tr>\n",
       "    <tr>\n",
       "      <th>2379</th>\n",
       "      <td>cadillac</td>\n",
       "      <td>escalade_hybrid</td>\n",
       "      <td>2013</td>\n",
       "      <td>regular_unleaded</td>\n",
       "      <td>332.0</td>\n",
       "      <td>8.0</td>\n",
       "      <td>automatic</td>\n",
       "      <td>rear_wheel_drive</td>\n",
       "      <td>4.0</td>\n",
       "      <td>luxury,hybrid</td>\n",
       "      <td>large</td>\n",
       "      <td>4dr_suv</td>\n",
       "      <td>23</td>\n",
       "      <td>20</td>\n",
       "      <td>1624</td>\n",
       "    </tr>\n",
       "    <tr>\n",
       "      <th>2380</th>\n",
       "      <td>mitsubishi</td>\n",
       "      <td>lancer</td>\n",
       "      <td>2016</td>\n",
       "      <td>regular_unleaded</td>\n",
       "      <td>148.0</td>\n",
       "      <td>4.0</td>\n",
       "      <td>manual</td>\n",
       "      <td>front_wheel_drive</td>\n",
       "      <td>4.0</td>\n",
       "      <td>NaN</td>\n",
       "      <td>compact</td>\n",
       "      <td>sedan</td>\n",
       "      <td>34</td>\n",
       "      <td>24</td>\n",
       "      <td>436</td>\n",
       "    </tr>\n",
       "    <tr>\n",
       "      <th>2381</th>\n",
       "      <td>kia</td>\n",
       "      <td>sorento</td>\n",
       "      <td>2015</td>\n",
       "      <td>regular_unleaded</td>\n",
       "      <td>290.0</td>\n",
       "      <td>6.0</td>\n",
       "      <td>automatic</td>\n",
       "      <td>front_wheel_drive</td>\n",
       "      <td>4.0</td>\n",
       "      <td>crossover</td>\n",
       "      <td>midsize</td>\n",
       "      <td>4dr_suv</td>\n",
       "      <td>25</td>\n",
       "      <td>18</td>\n",
       "      <td>1720</td>\n",
       "    </tr>\n",
       "  </tbody>\n",
       "</table>\n",
       "<p>9532 rows × 15 columns</p>\n",
       "</div>"
      ],
      "text/plain": [
       "            make                    model  year             engine_fuel_type  \\\n",
       "0      chevrolet                   cobalt  2008             regular_unleaded   \n",
       "1         toyota                   matrix  2012             regular_unleaded   \n",
       "2         subaru                  impreza  2016             regular_unleaded   \n",
       "3     volkswagen                  vanagon  1991             regular_unleaded   \n",
       "4           ford                    f-150  2017     flex-fuel_(unleaded/e85)   \n",
       "...          ...                      ...   ...                          ...   \n",
       "2377       volvo                      v60  2015             regular_unleaded   \n",
       "2378    maserati  granturismo_convertible  2015  premium_unleaded_(required)   \n",
       "2379    cadillac          escalade_hybrid  2013             regular_unleaded   \n",
       "2380  mitsubishi                   lancer  2016             regular_unleaded   \n",
       "2381         kia                  sorento  2015             regular_unleaded   \n",
       "\n",
       "      engine_hp  engine_cylinders transmission_type      driven_wheels  \\\n",
       "0         148.0               4.0            manual  front_wheel_drive   \n",
       "1         132.0               4.0         automatic  front_wheel_drive   \n",
       "2         148.0               4.0         automatic    all_wheel_drive   \n",
       "3          90.0               4.0            manual   rear_wheel_drive   \n",
       "4         385.0               8.0         automatic   four_wheel_drive   \n",
       "...         ...               ...               ...                ...   \n",
       "2377      240.0               4.0         automatic  front_wheel_drive   \n",
       "2378      444.0               8.0         automatic   rear_wheel_drive   \n",
       "2379      332.0               8.0         automatic   rear_wheel_drive   \n",
       "2380      148.0               4.0            manual  front_wheel_drive   \n",
       "2381      290.0               6.0         automatic  front_wheel_drive   \n",
       "\n",
       "      number_of_doors                 market_category vehicle_size  \\\n",
       "0                 2.0                             NaN      compact   \n",
       "1                 4.0                       hatchback      compact   \n",
       "2                 4.0                       hatchback      compact   \n",
       "3                 3.0                             NaN        large   \n",
       "4                 4.0                       flex_fuel        large   \n",
       "...               ...                             ...          ...   \n",
       "2377              4.0                          luxury      midsize   \n",
       "2378              2.0  exotic,luxury,high-performance      midsize   \n",
       "2379              4.0                   luxury,hybrid        large   \n",
       "2380              4.0                             NaN      compact   \n",
       "2381              4.0                       crossover      midsize   \n",
       "\n",
       "          vehicle_style  highway_mpg  city_mpg  popularity  \n",
       "0                 coupe           33        24        1385  \n",
       "1         4dr_hatchback           32        25        2031  \n",
       "2         4dr_hatchback           37        28         640  \n",
       "3     passenger_minivan           18        16         873  \n",
       "4       crew_cab_pickup           21        15        5657  \n",
       "...                 ...          ...       ...         ...  \n",
       "2377              wagon           37        25         870  \n",
       "2378        convertible           20        13         238  \n",
       "2379            4dr_suv           23        20        1624  \n",
       "2380              sedan           34        24         436  \n",
       "2381            4dr_suv           25        18        1720  \n",
       "\n",
       "[9532 rows x 15 columns]"
      ]
     },
     "execution_count": 78,
     "metadata": {},
     "output_type": "execute_result"
    }
   ],
   "source": [
    "# concate dataset of train plus validate\n",
    "df_full_train=pd.concat([df_train,df_val])\n",
    "df_full_train"
   ]
  },
  {
   "cell_type": "code",
   "execution_count": 134,
   "id": "1dbe5e88",
   "metadata": {},
   "outputs": [],
   "source": [
    "def prepare_X(df):\n",
    "    df = df.copy()\n",
    "    features = base.copy()\n",
    "\n",
    "    df['age'] = 2017 - df.year\n",
    "    features.append('age')\n",
    "    \n",
    "    for v in [2, 3, 4]:\n",
    "        feature = 'num_doors_%s' % v\n",
    "        df[feature] = (df['number_of_doors'] == v).astype(int)\n",
    "        features.append(feature)\n",
    "\n",
    "    for v in ['chevrolet', 'ford', 'volkswagen', 'toyota', 'dodge']:\n",
    "        feature = 'is_make_%s' % v\n",
    "        df[feature] = (df['make'] == v).astype(int)\n",
    "        features.append(feature)\n",
    "\n",
    "    for v in ['regular_unleaded', 'premium_unleaded_(required)', \n",
    "              'premium_unleaded_(recommended)', 'flex-fuel_(unleaded/e85)']:\n",
    "        feature = 'is_type_%s' % v\n",
    "        df[feature] = (df['engine_fuel_type'] == v).astype(int)\n",
    "        features.append(feature)\n",
    "\n",
    "    for v in ['automatic', 'manual', 'automated_manual']:\n",
    "        feature = 'is_transmission_%s' % v\n",
    "        df[feature] = (df['transmission_type'] == v).astype(int)\n",
    "        features.append(feature)\n",
    "\n",
    "    for v in ['front_wheel_drive', 'rear_wheel_drive', 'all_wheel_drive', 'four_wheel_drive']:\n",
    "        feature = 'is_driven_wheens_%s' % v\n",
    "        df[feature] = (df['driven_wheels'] == v).astype(int)\n",
    "        features.append(feature)\n",
    "\n",
    "    for v in ['crossover', 'flex_fuel', 'luxury', 'luxury,performance', 'hatchback']:\n",
    "        feature = 'is_mc_%s' % v\n",
    "        df[feature] = (df['market_category'] == v).astype(int)\n",
    "        features.append(feature)\n",
    "\n",
    "    for v in ['compact', 'midsize', 'large']:\n",
    "        feature = 'is_size_%s' % v\n",
    "        df[feature] = (df['vehicle_size'] == v).astype(int)\n",
    "        features.append(feature)\n",
    "\n",
    "    for v in ['sedan', '4dr_suv', 'coupe', 'convertible', '4dr_hatchback']:\n",
    "        feature = 'is_style_%s' % v\n",
    "        df[feature] = (df['vehicle_style'] == v).astype(int)\n",
    "        features.append(feature)\n",
    "\n",
    "    df_num = df[features]\n",
    "    df_num = df_num.fillna(0)\n",
    "    X = df_num.values\n",
    "    return X"
   ]
  },
  {
   "cell_type": "code",
   "execution_count": 135,
   "id": "c12924fb",
   "metadata": {},
   "outputs": [],
   "source": [
    "def train_linear_regression_reg(X, y, r=0.0):\n",
    "    ones = np.ones(X.shape[0])\n",
    "    X = np.column_stack([ones, X])\n",
    "\n",
    "    XTX = X.T.dot(X)\n",
    "    reg = r * np.eye(XTX.shape[0])\n",
    "    XTX = XTX + reg\n",
    "\n",
    "    XTX_inv = np.linalg.inv(XTX)\n",
    "    w = XTX_inv.dot(X.T).dot(y)\n",
    "    \n",
    "    return w[0], w[1:]"
   ]
  },
  {
   "cell_type": "code",
   "execution_count": 143,
   "id": "e6b8055d",
   "metadata": {},
   "outputs": [
    {
     "data": {
      "text/plain": [
       "array([[148.,   4.,  33., ...,   1.,   0.,   0.],\n",
       "       [132.,   4.,  32., ...,   0.,   0.,   1.],\n",
       "       [148.,   4.,  37., ...,   0.,   0.,   1.],\n",
       "       ...,\n",
       "       [332.,   8.,  23., ...,   0.,   0.,   0.],\n",
       "       [148.,   4.,  34., ...,   0.,   0.,   0.],\n",
       "       [290.,   6.,  25., ...,   0.,   0.,   0.]], shape=(9532, 41))"
      ]
     },
     "execution_count": 143,
     "metadata": {},
     "output_type": "execute_result"
    }
   ],
   "source": [
    "#prepare feature matrix\n",
    "X_full_train=prepare_X(df_full_train)\n",
    "X_full_train"
   ]
  },
  {
   "cell_type": "code",
   "execution_count": 144,
   "id": "34a242af",
   "metadata": {},
   "outputs": [
    {
     "data": {
      "text/plain": [
       "array([ 9.57574708,  9.887663  ,  9.89323518, ..., 11.21756062,\n",
       "        9.77542688, 10.1924563 ], shape=(9532,))"
      ]
     },
     "execution_count": 144,
     "metadata": {},
     "output_type": "execute_result"
    }
   ],
   "source": [
    "# concatinate tagret values of train plus vaidate\n",
    "y_full_train=np.concatenate([y_train,y_val])\n",
    "y_full_train\n"
   ]
  },
  {
   "cell_type": "code",
   "execution_count": 145,
   "id": "983be7d4",
   "metadata": {},
   "outputs": [
    {
     "data": {
      "text/plain": [
       "np.float64(0.4517787580982509)"
      ]
     },
     "execution_count": 145,
     "metadata": {},
     "output_type": "execute_result"
    }
   ],
   "source": [
    "\n",
    "w0,w=train_linear_regression_regularised(X_full_train,y_full_train,r=0.01)\n",
    "\n",
    "X_test=prepare_X(df_test)\n",
    "y_pred= w0 + X_test.dot(w)\n",
    "score=rmse(y_test,y_pred)\n",
    "score\n",
    "# 0.45652199012897743"
   ]
  },
  {
   "cell_type": "code",
   "execution_count": 146,
   "id": "e76e16c0",
   "metadata": {},
   "outputs": [],
   "source": [
    "dict=df_test.iloc[20].to_dict()\n",
    "df_small=pd.DataFrame([dict])\n"
   ]
  },
  {
   "cell_type": "code",
   "execution_count": 126,
   "id": "769288c4",
   "metadata": {},
   "outputs": [
    {
     "data": {
      "application/vnd.microsoft.datawrangler.viewer.v0+json": {
       "columns": [
        {
         "name": "index",
         "rawType": "int64",
         "type": "integer"
        },
        {
         "name": "make",
         "rawType": "object",
         "type": "string"
        },
        {
         "name": "model",
         "rawType": "object",
         "type": "string"
        },
        {
         "name": "year",
         "rawType": "int64",
         "type": "integer"
        },
        {
         "name": "engine_fuel_type",
         "rawType": "object",
         "type": "string"
        },
        {
         "name": "engine_hp",
         "rawType": "float64",
         "type": "float"
        },
        {
         "name": "engine_cylinders",
         "rawType": "float64",
         "type": "float"
        },
        {
         "name": "transmission_type",
         "rawType": "object",
         "type": "string"
        },
        {
         "name": "driven_wheels",
         "rawType": "object",
         "type": "string"
        },
        {
         "name": "number_of_doors",
         "rawType": "float64",
         "type": "float"
        },
        {
         "name": "market_category",
         "rawType": "float64",
         "type": "float"
        },
        {
         "name": "vehicle_size",
         "rawType": "object",
         "type": "string"
        },
        {
         "name": "vehicle_style",
         "rawType": "object",
         "type": "string"
        },
        {
         "name": "highway_mpg",
         "rawType": "int64",
         "type": "integer"
        },
        {
         "name": "city_mpg",
         "rawType": "int64",
         "type": "integer"
        },
        {
         "name": "popularity",
         "rawType": "int64",
         "type": "integer"
        }
       ],
       "ref": "34217132-cd01-4a20-86cd-1fcacd410678",
       "rows": [
        [
         "0",
         "toyota",
         "sienna",
         "2015",
         "regular_unleaded",
         "266.0",
         "6.0",
         "automatic",
         "front_wheel_drive",
         "4.0",
         null,
         "large",
         "passenger_minivan",
         "25",
         "18",
         "2031"
        ]
       ],
       "shape": {
        "columns": 15,
        "rows": 1
       }
      },
      "text/html": [
       "<div>\n",
       "<style scoped>\n",
       "    .dataframe tbody tr th:only-of-type {\n",
       "        vertical-align: middle;\n",
       "    }\n",
       "\n",
       "    .dataframe tbody tr th {\n",
       "        vertical-align: top;\n",
       "    }\n",
       "\n",
       "    .dataframe thead th {\n",
       "        text-align: right;\n",
       "    }\n",
       "</style>\n",
       "<table border=\"1\" class=\"dataframe\">\n",
       "  <thead>\n",
       "    <tr style=\"text-align: right;\">\n",
       "      <th></th>\n",
       "      <th>make</th>\n",
       "      <th>model</th>\n",
       "      <th>year</th>\n",
       "      <th>engine_fuel_type</th>\n",
       "      <th>engine_hp</th>\n",
       "      <th>engine_cylinders</th>\n",
       "      <th>transmission_type</th>\n",
       "      <th>driven_wheels</th>\n",
       "      <th>number_of_doors</th>\n",
       "      <th>market_category</th>\n",
       "      <th>vehicle_size</th>\n",
       "      <th>vehicle_style</th>\n",
       "      <th>highway_mpg</th>\n",
       "      <th>city_mpg</th>\n",
       "      <th>popularity</th>\n",
       "    </tr>\n",
       "  </thead>\n",
       "  <tbody>\n",
       "    <tr>\n",
       "      <th>0</th>\n",
       "      <td>toyota</td>\n",
       "      <td>sienna</td>\n",
       "      <td>2015</td>\n",
       "      <td>regular_unleaded</td>\n",
       "      <td>266.0</td>\n",
       "      <td>6.0</td>\n",
       "      <td>automatic</td>\n",
       "      <td>front_wheel_drive</td>\n",
       "      <td>4.0</td>\n",
       "      <td>NaN</td>\n",
       "      <td>large</td>\n",
       "      <td>passenger_minivan</td>\n",
       "      <td>25</td>\n",
       "      <td>18</td>\n",
       "      <td>2031</td>\n",
       "    </tr>\n",
       "  </tbody>\n",
       "</table>\n",
       "</div>"
      ],
      "text/plain": [
       "     make   model  year  engine_fuel_type  engine_hp  engine_cylinders  \\\n",
       "0  toyota  sienna  2015  regular_unleaded      266.0               6.0   \n",
       "\n",
       "  transmission_type      driven_wheels  number_of_doors  market_category  \\\n",
       "0         automatic  front_wheel_drive              4.0              NaN   \n",
       "\n",
       "  vehicle_size      vehicle_style  highway_mpg  city_mpg  popularity  \n",
       "0        large  passenger_minivan           25        18        2031  "
      ]
     },
     "execution_count": 126,
     "metadata": {},
     "output_type": "execute_result"
    }
   ],
   "source": [
    "df_small"
   ]
  },
  {
   "cell_type": "code",
   "execution_count": 127,
   "id": "f463e1af",
   "metadata": {},
   "outputs": [
    {
     "data": {
      "text/plain": [
       "np.float64(10.429208251071048)"
      ]
     },
     "execution_count": 127,
     "metadata": {},
     "output_type": "execute_result"
    }
   ],
   "source": [
    "\n",
    "X_test=prepare_X(df_small)\n",
    "y_pred= w0 + X_test.dot(w)\n",
    "y_pred=y_pred[0]\n",
    "y_pred"
   ]
  },
  {
   "cell_type": "code",
   "execution_count": 128,
   "id": "6db28e69",
   "metadata": {},
   "outputs": [
    {
     "data": {
      "text/plain": [
       "np.float64(33832.55197434998)"
      ]
     },
     "execution_count": 128,
     "metadata": {},
     "output_type": "execute_result"
    }
   ],
   "source": [
    "np.expm1(y_pred)\n"
   ]
  },
  {
   "cell_type": "code",
   "execution_count": 129,
   "id": "d157854b",
   "metadata": {},
   "outputs": [
    {
     "data": {
      "text/plain": [
       "np.float64(35000.00000000001)"
      ]
     },
     "execution_count": 129,
     "metadata": {},
     "output_type": "execute_result"
    }
   ],
   "source": [
    "np.expm1(y_test[20])"
   ]
  },
  {
   "cell_type": "code",
   "execution_count": 147,
   "id": "6faa4fe0",
   "metadata": {},
   "outputs": [
    {
     "name": "stdout",
     "output_type": "stream",
     "text": [
      "index 20\n",
      "P value 34980.54272737918\n",
      "T value 35000.00000000001\n",
      "*******************************************************\n",
      "index 10\n",
      "P value 23486.40773772875\n",
      "T value 17844.999999999993\n",
      "*******************************************************\n",
      "index 2\n",
      "P value 29003.04974906978\n",
      "T value 31119.999999999985\n",
      "*******************************************************\n",
      "index 40\n",
      "P value 57936.8898142432\n",
      "T value 41719.99999999998\n",
      "*******************************************************\n",
      "index 100\n",
      "P value 17595.282467957237\n",
      "T value 20370.00000000001\n",
      "*******************************************************\n",
      "index 2000\n",
      "P value 44332.96221059883\n",
      "T value 32069.999999999985\n",
      "*******************************************************\n"
     ]
    }
   ],
   "source": [
    "def test_model(index_id):\n",
    "    dict=df_test.iloc[index_id].to_dict()\n",
    "    df_small=pd.DataFrame([dict])\n",
    "    X_test=prepare_X(df_small)\n",
    "    y_pred= w0 + X_test.dot(w)\n",
    "    y_pred=y_pred[0]\n",
    "    print(\"index %s\" % index_id)\n",
    "    print(\"P value %s\" % np.expm1(y_pred))\n",
    "    print(\"T value %s\" % np.expm1(y_test[index_id]))\n",
    "    print(\"***********\"* 5)\n",
    "\n",
    "for i in [20,10,2,40,100,2000]:\n",
    "    test_model(i)"
   ]
  }
 ],
 "metadata": {
  "kernelspec": {
   "display_name": "Python 3",
   "language": "python",
   "name": "python3"
  },
  "language_info": {
   "codemirror_mode": {
    "name": "ipython",
    "version": 3
   },
   "file_extension": ".py",
   "mimetype": "text/x-python",
   "name": "python",
   "nbconvert_exporter": "python",
   "pygments_lexer": "ipython3",
   "version": "3.13.7"
  }
 },
 "nbformat": 4,
 "nbformat_minor": 5
}

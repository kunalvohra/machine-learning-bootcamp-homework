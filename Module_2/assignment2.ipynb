{
 "cells": [
  {
   "cell_type": "markdown",
   "id": "f5494148",
   "metadata": {},
   "source": [
    "# Module 2 - assignment\n",
    " The goal of this homework is to create a regression model for predicting the car fuel efficiency (column 'fuel_efficiency_mpg')."
   ]
  },
  {
   "cell_type": "code",
   "execution_count": 5,
   "id": "624c0796",
   "metadata": {},
   "outputs": [],
   "source": [
    "import pandas as pd\n",
    "import numpy as np"
   ]
  },
  {
   "cell_type": "code",
   "execution_count": 6,
   "id": "babb514d",
   "metadata": {},
   "outputs": [
    {
     "data": {
      "application/vnd.microsoft.datawrangler.viewer.v0+json": {
       "columns": [
        {
         "name": "index",
         "rawType": "int64",
         "type": "integer"
        },
        {
         "name": "engine_displacement",
         "rawType": "int64",
         "type": "integer"
        },
        {
         "name": "num_cylinders",
         "rawType": "float64",
         "type": "float"
        },
        {
         "name": "horsepower",
         "rawType": "float64",
         "type": "float"
        },
        {
         "name": "vehicle_weight",
         "rawType": "float64",
         "type": "float"
        },
        {
         "name": "acceleration",
         "rawType": "float64",
         "type": "float"
        },
        {
         "name": "model_year",
         "rawType": "int64",
         "type": "integer"
        },
        {
         "name": "origin",
         "rawType": "object",
         "type": "string"
        },
        {
         "name": "fuel_type",
         "rawType": "object",
         "type": "string"
        },
        {
         "name": "drivetrain",
         "rawType": "object",
         "type": "string"
        },
        {
         "name": "num_doors",
         "rawType": "float64",
         "type": "float"
        },
        {
         "name": "fuel_efficiency_mpg",
         "rawType": "float64",
         "type": "float"
        }
       ],
       "ref": "2d5c8428-28b0-4167-914b-c5b68bc4ba2a",
       "rows": [
        [
         "0",
         "170",
         "3.0",
         "159.0",
         "3413.433758606219",
         "17.7",
         "2003",
         "Europe",
         "Gasoline",
         "All-wheel drive",
         "0.0",
         "13.231728906241411"
        ],
        [
         "1",
         "130",
         "5.0",
         "97.0",
         "3149.664934220036",
         "17.8",
         "2007",
         "USA",
         "Gasoline",
         "Front-wheel drive",
         "0.0",
         "13.688217435463793"
        ],
        [
         "2",
         "170",
         null,
         "78.0",
         "3079.03899736884",
         "15.1",
         "2018",
         "Europe",
         "Gasoline",
         "Front-wheel drive",
         "0.0",
         "14.246340998160866"
        ],
        [
         "3",
         "220",
         "4.0",
         null,
         "2542.392401828378",
         "20.2",
         "2009",
         "USA",
         "Diesel",
         "All-wheel drive",
         "2.0",
         "16.91273559598635"
        ],
        [
         "4",
         "210",
         "1.0",
         "140.0",
         "3460.870989989018",
         "14.4",
         "2009",
         "Europe",
         "Gasoline",
         "All-wheel drive",
         "2.0",
         "12.488369121964562"
        ]
       ],
       "shape": {
        "columns": 11,
        "rows": 5
       }
      },
      "text/html": [
       "<div>\n",
       "<style scoped>\n",
       "    .dataframe tbody tr th:only-of-type {\n",
       "        vertical-align: middle;\n",
       "    }\n",
       "\n",
       "    .dataframe tbody tr th {\n",
       "        vertical-align: top;\n",
       "    }\n",
       "\n",
       "    .dataframe thead th {\n",
       "        text-align: right;\n",
       "    }\n",
       "</style>\n",
       "<table border=\"1\" class=\"dataframe\">\n",
       "  <thead>\n",
       "    <tr style=\"text-align: right;\">\n",
       "      <th></th>\n",
       "      <th>engine_displacement</th>\n",
       "      <th>num_cylinders</th>\n",
       "      <th>horsepower</th>\n",
       "      <th>vehicle_weight</th>\n",
       "      <th>acceleration</th>\n",
       "      <th>model_year</th>\n",
       "      <th>origin</th>\n",
       "      <th>fuel_type</th>\n",
       "      <th>drivetrain</th>\n",
       "      <th>num_doors</th>\n",
       "      <th>fuel_efficiency_mpg</th>\n",
       "    </tr>\n",
       "  </thead>\n",
       "  <tbody>\n",
       "    <tr>\n",
       "      <th>0</th>\n",
       "      <td>170</td>\n",
       "      <td>3.0</td>\n",
       "      <td>159.0</td>\n",
       "      <td>3413.433759</td>\n",
       "      <td>17.7</td>\n",
       "      <td>2003</td>\n",
       "      <td>Europe</td>\n",
       "      <td>Gasoline</td>\n",
       "      <td>All-wheel drive</td>\n",
       "      <td>0.0</td>\n",
       "      <td>13.231729</td>\n",
       "    </tr>\n",
       "    <tr>\n",
       "      <th>1</th>\n",
       "      <td>130</td>\n",
       "      <td>5.0</td>\n",
       "      <td>97.0</td>\n",
       "      <td>3149.664934</td>\n",
       "      <td>17.8</td>\n",
       "      <td>2007</td>\n",
       "      <td>USA</td>\n",
       "      <td>Gasoline</td>\n",
       "      <td>Front-wheel drive</td>\n",
       "      <td>0.0</td>\n",
       "      <td>13.688217</td>\n",
       "    </tr>\n",
       "    <tr>\n",
       "      <th>2</th>\n",
       "      <td>170</td>\n",
       "      <td>NaN</td>\n",
       "      <td>78.0</td>\n",
       "      <td>3079.038997</td>\n",
       "      <td>15.1</td>\n",
       "      <td>2018</td>\n",
       "      <td>Europe</td>\n",
       "      <td>Gasoline</td>\n",
       "      <td>Front-wheel drive</td>\n",
       "      <td>0.0</td>\n",
       "      <td>14.246341</td>\n",
       "    </tr>\n",
       "    <tr>\n",
       "      <th>3</th>\n",
       "      <td>220</td>\n",
       "      <td>4.0</td>\n",
       "      <td>NaN</td>\n",
       "      <td>2542.392402</td>\n",
       "      <td>20.2</td>\n",
       "      <td>2009</td>\n",
       "      <td>USA</td>\n",
       "      <td>Diesel</td>\n",
       "      <td>All-wheel drive</td>\n",
       "      <td>2.0</td>\n",
       "      <td>16.912736</td>\n",
       "    </tr>\n",
       "    <tr>\n",
       "      <th>4</th>\n",
       "      <td>210</td>\n",
       "      <td>1.0</td>\n",
       "      <td>140.0</td>\n",
       "      <td>3460.870990</td>\n",
       "      <td>14.4</td>\n",
       "      <td>2009</td>\n",
       "      <td>Europe</td>\n",
       "      <td>Gasoline</td>\n",
       "      <td>All-wheel drive</td>\n",
       "      <td>2.0</td>\n",
       "      <td>12.488369</td>\n",
       "    </tr>\n",
       "  </tbody>\n",
       "</table>\n",
       "</div>"
      ],
      "text/plain": [
       "   engine_displacement  num_cylinders  horsepower  vehicle_weight  \\\n",
       "0                  170            3.0       159.0     3413.433759   \n",
       "1                  130            5.0        97.0     3149.664934   \n",
       "2                  170            NaN        78.0     3079.038997   \n",
       "3                  220            4.0         NaN     2542.392402   \n",
       "4                  210            1.0       140.0     3460.870990   \n",
       "\n",
       "   acceleration  model_year  origin fuel_type         drivetrain  num_doors  \\\n",
       "0          17.7        2003  Europe  Gasoline    All-wheel drive        0.0   \n",
       "1          17.8        2007     USA  Gasoline  Front-wheel drive        0.0   \n",
       "2          15.1        2018  Europe  Gasoline  Front-wheel drive        0.0   \n",
       "3          20.2        2009     USA    Diesel    All-wheel drive        2.0   \n",
       "4          14.4        2009  Europe  Gasoline    All-wheel drive        2.0   \n",
       "\n",
       "   fuel_efficiency_mpg  \n",
       "0            13.231729  \n",
       "1            13.688217  \n",
       "2            14.246341  \n",
       "3            16.912736  \n",
       "4            12.488369  "
      ]
     },
     "execution_count": 6,
     "metadata": {},
     "output_type": "execute_result"
    }
   ],
   "source": [
    "df=pd.read_csv(\"car_fuel_efficiency.csv\")\n",
    "df.head()"
   ]
  },
  {
   "cell_type": "code",
   "execution_count": 5,
   "id": "63f66f0e",
   "metadata": {},
   "outputs": [
    {
     "data": {
      "text/plain": [
       "Index(['engine_displacement', 'num_cylinders', 'horsepower', 'vehicle_weight',\n",
       "       'acceleration', 'model_year', 'origin', 'fuel_type', 'drivetrain',\n",
       "       'num_doors', 'fuel_efficiency_mpg'],\n",
       "      dtype='object')"
      ]
     },
     "execution_count": 5,
     "metadata": {},
     "output_type": "execute_result"
    }
   ],
   "source": [
    "df.columns"
   ]
  },
  {
   "cell_type": "code",
   "execution_count": 56,
   "id": "014980c9",
   "metadata": {},
   "outputs": [
    {
     "data": {
      "application/vnd.microsoft.datawrangler.viewer.v0+json": {
       "columns": [
        {
         "name": "index",
         "rawType": "int64",
         "type": "integer"
        },
        {
         "name": "engine_displacement",
         "rawType": "int64",
         "type": "integer"
        },
        {
         "name": "horsepower",
         "rawType": "float64",
         "type": "float"
        },
        {
         "name": "vehicle_weight",
         "rawType": "float64",
         "type": "float"
        },
        {
         "name": "model_year",
         "rawType": "int64",
         "type": "integer"
        },
        {
         "name": "fuel_efficiency_mpg",
         "rawType": "float64",
         "type": "float"
        }
       ],
       "ref": "8d07917d-ec73-4b4f-88a2-6126e7c58b02",
       "rows": [
        [
         "0",
         "170",
         "159.0",
         "3413.433758606219",
         "2003",
         "13.231728906241411"
        ],
        [
         "1",
         "130",
         "97.0",
         "3149.664934220036",
         "2007",
         "13.688217435463793"
        ],
        [
         "2",
         "170",
         "78.0",
         "3079.03899736884",
         "2018",
         "14.246340998160866"
        ],
        [
         "3",
         "220",
         null,
         "2542.392401828378",
         "2009",
         "16.91273559598635"
        ],
        [
         "4",
         "210",
         "140.0",
         "3460.870989989018",
         "2009",
         "12.488369121964562"
        ],
        [
         "5",
         "190",
         null,
         "2484.883986036068",
         "2008",
         "17.271818372724237"
        ],
        [
         "6",
         "240",
         "127.0",
         "3006.5422872171457",
         "2012",
         "13.210412112385608"
        ],
        [
         "7",
         "150",
         "239.0",
         "3638.6577802809",
         "2020",
         "12.848883861524026"
        ],
        [
         "8",
         "250",
         "174.0",
         "2714.219309645285",
         "2016",
         "16.823553726916543"
        ],
        [
         "9",
         "150",
         "123.0",
         "3509.036569100613",
         "2005",
         "12.298354983681604"
        ],
        [
         "10",
         "230",
         "100.0",
         "3111.810181389172",
         "2014",
         "13.386605047290962"
        ],
        [
         "11",
         "150",
         null,
         "1967.2004212521003",
         "2014",
         "20.50444671989053"
        ],
        [
         "12",
         "320",
         "145.0",
         "2783.8689742437728",
         "2010",
         "16.17581958009284"
        ],
        [
         "13",
         "170",
         "193.0",
         "2274.7351905647565",
         "2000",
         "18.792742345719034"
        ],
        [
         "14",
         "200",
         "160.0",
         "3582.687367715132",
         "2007",
         "11.871091010445811"
        ],
        [
         "15",
         "220",
         "179.0",
         "2631.0652035914763",
         "2006",
         "16.756081170464494"
        ],
        [
         "16",
         "160",
         "180.0",
         "2673.5529409560954",
         "2013",
         "17.516175727210882"
        ],
        [
         "17",
         "190",
         "132.0",
         "2427.3118562098525",
         "2011",
         "17.65868533963579"
        ],
        [
         "18",
         "250",
         "110.0",
         "2971.2145745989487",
         "2003",
         "14.735962194497768"
        ],
        [
         "19",
         "180",
         "126.0",
         "2986.958657420011",
         "2004",
         "15.097137105104313"
        ],
        [
         "20",
         "150",
         "197.0",
         "2231.8081416029345",
         "2011",
         "18.88908257097108"
        ],
        [
         "21",
         "160",
         "133.0",
         "2659.431450757995",
         "2016",
         "16.077730214491176"
        ],
        [
         "22",
         "190",
         "144.0",
         "2438.842125555246",
         "2016",
         "17.08040493384839"
        ],
        [
         "23",
         "230",
         "160.0",
         "3342.6060274901347",
         "2009",
         "13.7383805846665"
        ],
        [
         "24",
         "260",
         "156.0",
         "4267.390497388771",
         "2004",
         "7.853194329416397"
        ],
        [
         "25",
         "210",
         "157.0",
         "2860.206191293806",
         "2013",
         "15.906421807842523"
        ],
        [
         "26",
         "180",
         "160.0",
         "3080.170161717871",
         "2002",
         "15.089880004688071"
        ],
        [
         "27",
         "120",
         "206.0",
         "3467.355490131792",
         "2016",
         "13.04899290040456"
        ],
        [
         "28",
         "220",
         "154.0",
         "3335.0681874881448",
         "2005",
         "13.411265956371402"
        ],
        [
         "29",
         "230",
         "132.0",
         "2479.7829741497544",
         "2014",
         "17.34901126810939"
        ],
        [
         "30",
         "280",
         "140.0",
         "2598.598215530185",
         "2022",
         "16.852517863788954"
        ],
        [
         "31",
         "160",
         "153.0",
         "3106.306111675653",
         "2000",
         "14.04564452468013"
        ],
        [
         "32",
         "40",
         "136.0",
         "3619.370730176663",
         "2017",
         "11.02937073424243"
        ],
        [
         "33",
         "200",
         "168.0",
         "2946.9791685788814",
         "2001",
         "15.76758556294088"
        ],
        [
         "34",
         "150",
         "149.0",
         "2844.2275338857653",
         "2014",
         "15.353788201522017"
        ],
        [
         "35",
         "160",
         "127.0",
         "2961.158679125447",
         "2004",
         "14.671771671571785"
        ],
        [
         "36",
         "200",
         "143.0",
         "3040.2365213942894",
         "2006",
         "15.01132504011616"
        ],
        [
         "37",
         "80",
         "132.0",
         "3444.8921095893515",
         "2023",
         "11.704658142342613"
        ],
        [
         "38",
         "190",
         "158.0",
         "3761.9940381922206",
         "2019",
         "11.645724047561528"
        ],
        [
         "39",
         "240",
         "176.0",
         "2676.886843633655",
         "2002",
         "17.322851581349216"
        ],
        [
         "40",
         "110",
         "108.0",
         "2292.675257052191",
         "2015",
         "18.63000885913826"
        ],
        [
         "41",
         "230",
         "125.0",
         "2563.9027023821623",
         "2008",
         "16.890273538222665"
        ],
        [
         "42",
         "240",
         "123.0",
         "2612.0154112627533",
         "2013",
         "16.416020840488873"
        ],
        [
         "43",
         "170",
         "123.0",
         "2957.6811098887447",
         "2012",
         "15.039796931634644"
        ],
        [
         "44",
         "240",
         "142.0",
         "2544.516801769428",
         "2016",
         "17.600327865900464"
        ],
        [
         "45",
         "380",
         "139.0",
         "1833.1964030710933",
         "2022",
         "20.728616942029674"
        ],
        [
         "46",
         "190",
         "170.0",
         "2607.6950038058926",
         "2019",
         "15.932777017483826"
        ],
        [
         "47",
         "270",
         "135.0",
         "3858.9146336751146",
         "2006",
         "10.0898180828745"
        ],
        [
         "48",
         "190",
         "202.0",
         "2531.185247040718",
         "2016",
         "17.983505227568678"
        ],
        [
         "49",
         "140",
         "99.0",
         "3602.664482911108",
         "2015",
         "11.25726765887053"
        ]
       ],
       "shape": {
        "columns": 5,
        "rows": 9704
       }
      },
      "text/html": [
       "<div>\n",
       "<style scoped>\n",
       "    .dataframe tbody tr th:only-of-type {\n",
       "        vertical-align: middle;\n",
       "    }\n",
       "\n",
       "    .dataframe tbody tr th {\n",
       "        vertical-align: top;\n",
       "    }\n",
       "\n",
       "    .dataframe thead th {\n",
       "        text-align: right;\n",
       "    }\n",
       "</style>\n",
       "<table border=\"1\" class=\"dataframe\">\n",
       "  <thead>\n",
       "    <tr style=\"text-align: right;\">\n",
       "      <th></th>\n",
       "      <th>engine_displacement</th>\n",
       "      <th>horsepower</th>\n",
       "      <th>vehicle_weight</th>\n",
       "      <th>model_year</th>\n",
       "      <th>fuel_efficiency_mpg</th>\n",
       "    </tr>\n",
       "  </thead>\n",
       "  <tbody>\n",
       "    <tr>\n",
       "      <th>0</th>\n",
       "      <td>170</td>\n",
       "      <td>159.0</td>\n",
       "      <td>3413.433759</td>\n",
       "      <td>2003</td>\n",
       "      <td>13.231729</td>\n",
       "    </tr>\n",
       "    <tr>\n",
       "      <th>1</th>\n",
       "      <td>130</td>\n",
       "      <td>97.0</td>\n",
       "      <td>3149.664934</td>\n",
       "      <td>2007</td>\n",
       "      <td>13.688217</td>\n",
       "    </tr>\n",
       "    <tr>\n",
       "      <th>2</th>\n",
       "      <td>170</td>\n",
       "      <td>78.0</td>\n",
       "      <td>3079.038997</td>\n",
       "      <td>2018</td>\n",
       "      <td>14.246341</td>\n",
       "    </tr>\n",
       "    <tr>\n",
       "      <th>3</th>\n",
       "      <td>220</td>\n",
       "      <td>NaN</td>\n",
       "      <td>2542.392402</td>\n",
       "      <td>2009</td>\n",
       "      <td>16.912736</td>\n",
       "    </tr>\n",
       "    <tr>\n",
       "      <th>4</th>\n",
       "      <td>210</td>\n",
       "      <td>140.0</td>\n",
       "      <td>3460.870990</td>\n",
       "      <td>2009</td>\n",
       "      <td>12.488369</td>\n",
       "    </tr>\n",
       "    <tr>\n",
       "      <th>...</th>\n",
       "      <td>...</td>\n",
       "      <td>...</td>\n",
       "      <td>...</td>\n",
       "      <td>...</td>\n",
       "      <td>...</td>\n",
       "    </tr>\n",
       "    <tr>\n",
       "      <th>9699</th>\n",
       "      <td>140</td>\n",
       "      <td>164.0</td>\n",
       "      <td>2981.107371</td>\n",
       "      <td>2013</td>\n",
       "      <td>15.101802</td>\n",
       "    </tr>\n",
       "    <tr>\n",
       "      <th>9700</th>\n",
       "      <td>180</td>\n",
       "      <td>154.0</td>\n",
       "      <td>2439.525729</td>\n",
       "      <td>2004</td>\n",
       "      <td>17.962326</td>\n",
       "    </tr>\n",
       "    <tr>\n",
       "      <th>9701</th>\n",
       "      <td>220</td>\n",
       "      <td>138.0</td>\n",
       "      <td>2583.471318</td>\n",
       "      <td>2008</td>\n",
       "      <td>17.186587</td>\n",
       "    </tr>\n",
       "    <tr>\n",
       "      <th>9702</th>\n",
       "      <td>230</td>\n",
       "      <td>177.0</td>\n",
       "      <td>2905.527390</td>\n",
       "      <td>2011</td>\n",
       "      <td>15.331551</td>\n",
       "    </tr>\n",
       "    <tr>\n",
       "      <th>9703</th>\n",
       "      <td>270</td>\n",
       "      <td>140.0</td>\n",
       "      <td>2908.043477</td>\n",
       "      <td>2005</td>\n",
       "      <td>14.884467</td>\n",
       "    </tr>\n",
       "  </tbody>\n",
       "</table>\n",
       "<p>9704 rows × 5 columns</p>\n",
       "</div>"
      ],
      "text/plain": [
       "      engine_displacement  horsepower  vehicle_weight  model_year  \\\n",
       "0                     170       159.0     3413.433759        2003   \n",
       "1                     130        97.0     3149.664934        2007   \n",
       "2                     170        78.0     3079.038997        2018   \n",
       "3                     220         NaN     2542.392402        2009   \n",
       "4                     210       140.0     3460.870990        2009   \n",
       "...                   ...         ...             ...         ...   \n",
       "9699                  140       164.0     2981.107371        2013   \n",
       "9700                  180       154.0     2439.525729        2004   \n",
       "9701                  220       138.0     2583.471318        2008   \n",
       "9702                  230       177.0     2905.527390        2011   \n",
       "9703                  270       140.0     2908.043477        2005   \n",
       "\n",
       "      fuel_efficiency_mpg  \n",
       "0               13.231729  \n",
       "1               13.688217  \n",
       "2               14.246341  \n",
       "3               16.912736  \n",
       "4               12.488369  \n",
       "...                   ...  \n",
       "9699            15.101802  \n",
       "9700            17.962326  \n",
       "9701            17.186587  \n",
       "9702            15.331551  \n",
       "9703            14.884467  \n",
       "\n",
       "[9704 rows x 5 columns]"
      ]
     },
     "execution_count": 56,
     "metadata": {},
     "output_type": "execute_result"
    }
   ],
   "source": [
    "column_list=['engine_displacement',\n",
    "'horsepower',\n",
    "'vehicle_weight',\n",
    "'model_year',\n",
    "'fuel_efficiency_mpg']\n",
    "\n",
    "df=df[column_list]\n",
    "df"
   ]
  },
  {
   "cell_type": "code",
   "execution_count": 19,
   "id": "ef7801b6",
   "metadata": {},
   "outputs": [
    {
     "data": {
      "text/plain": [
       "<Axes: xlabel='fuel_efficiency_mpg', ylabel='Count'>"
      ]
     },
     "execution_count": 19,
     "metadata": {},
     "output_type": "execute_result"
    },
    {
     "data": {
      "image/png": "[encoded data removed]",
      "text/plain": [
       "<Figure size 640x480 with 1 Axes>"
      ]
     },
     "metadata": {},
     "output_type": "display_data"
    }
   ],
   "source": [
    "import seaborn as sns\n",
    "sns.histplot(df.fuel_efficiency_mpg,color='red')\n",
    "# no long tail, no need to convert in logrithmic format"
   ]
  },
  {
   "cell_type": "code",
   "execution_count": 57,
   "id": "fd5039e9",
   "metadata": {},
   "outputs": [
    {
     "data": {
      "application/vnd.microsoft.datawrangler.viewer.v0+json": {
       "columns": [
        {
         "name": "index",
         "rawType": "object",
         "type": "string"
        },
        {
         "name": "0",
         "rawType": "int64",
         "type": "integer"
        }
       ],
       "ref": "347e4423-e01d-4608-955b-8f99b9cb0bd9",
       "rows": [
        [
         "engine_displacement",
         "0"
        ],
        [
         "horsepower",
         "708"
        ],
        [
         "vehicle_weight",
         "0"
        ],
        [
         "model_year",
         "0"
        ],
        [
         "fuel_efficiency_mpg",
         "0"
        ]
       ],
       "shape": {
        "columns": 1,
        "rows": 5
       }
      },
      "text/plain": [
       "engine_displacement      0\n",
       "horsepower             708\n",
       "vehicle_weight           0\n",
       "model_year               0\n",
       "fuel_efficiency_mpg      0\n",
       "dtype: int64"
      ]
     },
     "execution_count": 57,
     "metadata": {},
     "output_type": "execute_result"
    }
   ],
   "source": [
    "df.isnull().sum()\n"
   ]
  },
  {
   "cell_type": "code",
   "execution_count": 58,
   "id": "6845d499",
   "metadata": {},
   "outputs": [
    {
     "data": {
      "text/plain": [
       "np.float64(149.0)"
      ]
     },
     "execution_count": 58,
     "metadata": {},
     "output_type": "execute_result"
    }
   ],
   "source": [
    "df.horsepower.median()"
   ]
  },
  {
   "cell_type": "markdown",
   "id": "707f1ad9",
   "metadata": {},
   "source": [
    "# Data prep"
   ]
  },
  {
   "cell_type": "code",
   "execution_count": 7,
   "id": "727307fb",
   "metadata": {},
   "outputs": [],
   "source": [
    "def data_prep(seed_value):\n",
    "    print (seed_value)\n",
    "    np.random.seed(seed_value)\n",
    "\n",
    "    n=len(df)\n",
    "    column_list=['engine_displacement',\n",
    "    'horsepower',\n",
    "    'vehicle_weight',\n",
    "    'model_year',\n",
    "    'fuel_efficiency_mpg']\n",
    "    \n",
    "    df=df[column_list]\n",
    "    # print(\"number of records in df %s\" % n)\n",
    "\n",
    "    idx=np.arange(n)\n",
    "    np.random.shuffle(idx)\n",
    "\n",
    "    # train - 60%, val - 20%, test - 20%\n",
    "    n_val=int(n * 0.2)\n",
    "    n_test=int(n * 0.2)\n",
    "    n_train= n - n_val - n_test\n",
    "\n",
    "    # print(\"Record count for all datasets -\",n_val , n_test , n_train, n_val + n_test + n_train)\n",
    "\n",
    "    df_train=df.iloc[idx[:n_train]]\n",
    "    df_val=df.iloc[idx[n_train:n_train+n_val]]\n",
    "    df_test=df.iloc[idx[n_train+n_val:]]\n",
    "\n",
    "    # drop index to avoid any confusion \n",
    "\n",
    "    df_train=df_train.reset_index(drop=True)\n",
    "    df_test=df_test.reset_index(drop=True)\n",
    "    df_val=df_val.reset_index(drop=True)\n",
    "\n",
    "    # convert target matrix to logrithmic form\n",
    "\n",
    "    # y_train=np.log1p(df_train.fuel_efficiency_mpg.values)\n",
    "    # y_val=np.log1p(df_val.fuel_efficiency_mpg.values)\n",
    "    # y_test=np.log1p(df_test.fuel_efficiency_mpg.values)\n",
    "\n",
    "    y_train=df_train.fuel_efficiency_mpg.values\n",
    "    y_val=df_val.fuel_efficiency_mpg.values\n",
    "    y_test=df_test.fuel_efficiency_mpg.values\n",
    "\n",
    "    # remove target from feature matrix\n",
    "\n",
    "    del df_train['fuel_efficiency_mpg']\n",
    "    del df_test['fuel_efficiency_mpg']\n",
    "    del df_val['fuel_efficiency_mpg']\n",
    "\n",
    "    return df_train,df_val,df_test,y_train,y_val,y_test"
   ]
  },
  {
   "cell_type": "markdown",
   "id": "37aac0b4",
   "metadata": {},
   "source": [
    "# Data Cleaning"
   ]
  },
  {
   "cell_type": "code",
   "execution_count": null,
   "id": "4a69c957",
   "metadata": {},
   "outputs": [],
   "source": [
    "# Replacing missing value with 0\n",
    "\n",
    "# df['horsepower']=df.horsepower.fillna(0)"
   ]
  },
  {
   "cell_type": "code",
   "execution_count": 60,
   "id": "7c4b35c1",
   "metadata": {},
   "outputs": [
    {
     "data": {
      "application/vnd.microsoft.datawrangler.viewer.v0+json": {
       "columns": [
        {
         "name": "index",
         "rawType": "object",
         "type": "string"
        },
        {
         "name": "0",
         "rawType": "int64",
         "type": "integer"
        }
       ],
       "ref": "97600e3e-5f4c-4059-ab03-8da28c053097",
       "rows": [
        [
         "engine_displacement",
         "0"
        ],
        [
         "horsepower",
         "708"
        ],
        [
         "vehicle_weight",
         "0"
        ],
        [
         "model_year",
         "0"
        ],
        [
         "fuel_efficiency_mpg",
         "0"
        ]
       ],
       "shape": {
        "columns": 1,
        "rows": 5
       }
      },
      "text/plain": [
       "engine_displacement      0\n",
       "horsepower             708\n",
       "vehicle_weight           0\n",
       "model_year               0\n",
       "fuel_efficiency_mpg      0\n",
       "dtype: int64"
      ]
     },
     "execution_count": 60,
     "metadata": {},
     "output_type": "execute_result"
    }
   ],
   "source": [
    "df.isnull().sum()"
   ]
  },
  {
   "cell_type": "code",
   "execution_count": 38,
   "id": "61d8edc3",
   "metadata": {},
   "outputs": [],
   "source": [
    "def prepare_withzero__X(df):\n",
    "    df = df.copy() # avoid overwriting df\n",
    "    df['horsepower']=df.horsepower.fillna(0)\n",
    "    X=df.values\n",
    "    return X"
   ]
  },
  {
   "cell_type": "code",
   "execution_count": 41,
   "id": "cb1501e4",
   "metadata": {},
   "outputs": [
    {
     "data": {
      "application/vnd.microsoft.datawrangler.viewer.v0+json": {
       "columns": [
        {
         "name": "index",
         "rawType": "object",
         "type": "string"
        },
        {
         "name": "horsepower",
         "rawType": "float64",
         "type": "float"
        }
       ],
       "ref": "7faee321-2f02-4cb9-9987-df4e4d23cb6e",
       "rows": [
        [
         "count",
         "9704.0"
        ],
        [
         "mean",
         "138.73835531739488"
        ],
        [
         "std",
         "48.40118923604194"
        ],
        [
         "min",
         "0.0"
        ],
        [
         "25%",
         "124.0"
        ],
        [
         "50%",
         "146.0"
        ],
        [
         "75%",
         "168.0"
        ],
        [
         "max",
         "271.0"
        ]
       ],
       "shape": {
        "columns": 1,
        "rows": 8
       }
      },
      "text/plain": [
       "count    9704.000000\n",
       "mean      138.738355\n",
       "std        48.401189\n",
       "min         0.000000\n",
       "25%       124.000000\n",
       "50%       146.000000\n",
       "75%       168.000000\n",
       "max       271.000000\n",
       "Name: horsepower, dtype: float64"
      ]
     },
     "execution_count": 41,
     "metadata": {},
     "output_type": "execute_result"
    }
   ],
   "source": [
    "df.horsepower.describe()"
   ]
  },
  {
   "cell_type": "code",
   "execution_count": 62,
   "id": "bd43664c",
   "metadata": {},
   "outputs": [
    {
     "data": {
      "text/plain": [
       "np.float64(149.65729212983547)"
      ]
     },
     "execution_count": 62,
     "metadata": {},
     "output_type": "execute_result"
    }
   ],
   "source": [
    "df.horsepower.mean()"
   ]
  },
  {
   "cell_type": "code",
   "execution_count": 4,
   "id": "c0475e48",
   "metadata": {},
   "outputs": [],
   "source": [
    "def prepare_X(df,mean):\n",
    "    df_new = df.copy() # avoid overwriting df\n",
    "\n",
    "    if mean:\n",
    "        # print(\"Replacing null values with mean\")\n",
    "        fvalue=df_new.horsepower.mean()\n",
    "    else:\n",
    "        # print(\"Replacing null values with 0\")\n",
    "        fvalue=0\n",
    "    # print(\"fvalue\", fvalue)\n",
    "    df_new['horsepower']=df_new.horsepower.fillna(fvalue)\n",
    "    X=df_new.values\n",
    "    return X"
   ]
  },
  {
   "cell_type": "code",
   "execution_count": 5,
   "id": "0ac5d257",
   "metadata": {},
   "outputs": [],
   "source": [
    "def train_linear_regression(X,y):\n",
    "\n",
    "    ones=np.ones(X.shape[0])\n",
    "    X=np.column_stack((ones,X))\n",
    "    # adding bias term to feature matrix\n",
    "\n",
    "    XTX=np.dot(X.T,X)\n",
    "    XTX_inv=np.linalg.inv(XTX)\n",
    "    # w = (X^T X)^(-1) X^T y\n",
    "    # adding bias term to feature matrix\n",
    "\n",
    "    w_full=XTX_inv.dot(X.T).dot(y)\n",
    "    return w_full[0],w_full[1:]"
   ]
  },
  {
   "cell_type": "code",
   "execution_count": null,
   "id": "535598a8",
   "metadata": {},
   "outputs": [],
   "source": []
  },
  {
   "cell_type": "code",
   "execution_count": 75,
   "id": "a238b458",
   "metadata": {},
   "outputs": [
    {
     "name": "stdout",
     "output_type": "stream",
     "text": [
      "Replacing null values with 0\n",
      "fvalue 0\n",
      "28.827365474598718\n"
     ]
    },
    {
     "data": {
      "text/plain": [
       "array([ 9.93613218e-05,  3.54221891e-03, -5.01328015e-03,  3.42992869e-04])"
      ]
     },
     "execution_count": 75,
     "metadata": {},
     "output_type": "execute_result"
    }
   ],
   "source": [
    "x_train=prepare_X(df=df_train,mean=False)\n",
    "w0,w=train_linear_regression(x_train,y_train)\n",
    "print(w0)\n",
    "w"
   ]
  },
  {
   "cell_type": "code",
   "execution_count": 77,
   "id": "657872f5",
   "metadata": {},
   "outputs": [
    {
     "name": "stdout",
     "output_type": "stream",
     "text": [
      "Replacing null values with mean\n",
      "fvalue 149.54476367006487\n",
      "28.92525995211667\n"
     ]
    },
    {
     "data": {
      "text/plain": [
       "array([ 0.00012093,  0.01030308, -0.00501009, -0.00023463])"
      ]
     },
     "execution_count": 77,
     "metadata": {},
     "output_type": "execute_result"
    }
   ],
   "source": [
    "x_train_mean=prepare_X(df=df_train,mean=True)\n",
    "w0_mean,w_mean=train_linear_regression(x_train_mean,y_train)\n",
    "print(w0_mean)\n",
    "w_mean\n"
   ]
  },
  {
   "cell_type": "code",
   "execution_count": 65,
   "id": "77706f9f",
   "metadata": {},
   "outputs": [],
   "source": [
    "def rmse(y,y_pred):\n",
    "\n",
    "    se=(y - y_pred)**2\n",
    "    mse=se.mean()\n",
    "    return np.sqrt(mse)"
   ]
  },
  {
   "cell_type": "code",
   "execution_count": 88,
   "id": "b74dc7ee",
   "metadata": {},
   "outputs": [
    {
     "name": "stdout",
     "output_type": "stream",
     "text": [
      "Replacing null values with 0\n",
      "fvalue 0\n"
     ]
    },
    {
     "data": {
      "text/plain": [
       "np.float64(0.52)"
      ]
     },
     "execution_count": 88,
     "metadata": {},
     "output_type": "execute_result"
    }
   ],
   "source": [
    "# validation with zero replacement\n",
    "X_val=prepare_X(df_val,0)\n",
    "y_pred= w0+ X_val.dot(w)\n",
    "\n",
    "score=rmse(y_val,y_pred)\n",
    "round(score,2)"
   ]
  },
  {
   "cell_type": "code",
   "execution_count": 89,
   "id": "a78afe6e",
   "metadata": {},
   "outputs": [
    {
     "data": {
      "text/plain": [
       "<Axes: ylabel='Count'>"
      ]
     },
     "execution_count": 89,
     "metadata": {},
     "output_type": "execute_result"
    },
    {
     "data": {
      "image/png": "[encoded data removed]",
      "text/plain": [
       "<Figure size 640x480 with 1 Axes>"
      ]
     },
     "metadata": {},
     "output_type": "display_data"
    }
   ],
   "source": [
    "sns.histplot(y_val,color='red')\n",
    "sns.histplot(y_pred,color='green')"
   ]
  },
  {
   "cell_type": "code",
   "execution_count": 90,
   "id": "8331bce4",
   "metadata": {},
   "outputs": [
    {
     "name": "stdout",
     "output_type": "stream",
     "text": [
      "Replacing null values with mean\n",
      "fvalue 150.03270509977827\n"
     ]
    },
    {
     "data": {
      "text/plain": [
       "np.float64(0.46)"
      ]
     },
     "execution_count": 90,
     "metadata": {},
     "output_type": "execute_result"
    }
   ],
   "source": [
    "# validation with mean replacement\n",
    "\n",
    "X_val=prepare_X(df_val,1)\n",
    "y_pred= w0_mean+ X_val.dot(w_mean)\n",
    "\n",
    "score=rmse(y_val,y_pred)\n",
    "round(score,2)"
   ]
  },
  {
   "cell_type": "code",
   "execution_count": 91,
   "id": "4efdb833",
   "metadata": {},
   "outputs": [
    {
     "data": {
      "text/plain": [
       "<Axes: ylabel='Count'>"
      ]
     },
     "execution_count": 91,
     "metadata": {},
     "output_type": "execute_result"
    },
    {
     "data": {
      "image/png": "[encoded data removed]",
      "text/plain": [
       "<Figure size 640x480 with 1 Axes>"
      ]
     },
     "metadata": {},
     "output_type": "display_data"
    }
   ],
   "source": [
    "sns.histplot(y_val,color='red')\n",
    "sns.histplot(y_pred,color='green')"
   ]
  },
  {
   "cell_type": "code",
   "execution_count": 84,
   "id": "49140fae",
   "metadata": {},
   "outputs": [],
   "source": [
    "# mean rmse np.float64(0.46) is better then zero np.float64(0.52)\n"
   ]
  },
  {
   "cell_type": "code",
   "execution_count": 92,
   "id": "0ea85721",
   "metadata": {},
   "outputs": [],
   "source": [
    "# regularised linear regression\n",
    "def train_linear_regression_regularised(X,y,r=0.001):\n",
    "\n",
    "    ones=np.ones(X.shape[0])\n",
    "    X=np.column_stack((ones,X))\n",
    "    # adding bias term to feature matrix\n",
    "\n",
    "    XTX=np.dot(X.T,X)\n",
    "\n",
    "    # regularisation step\n",
    "    XTX= XTX+ r * np.eye(XTX.shape[0])\n",
    "\n",
    "    XTX_inv=np.linalg.inv(XTX)\n",
    "    # w = (X^T X)^(-1) X^T y\n",
    "    # adding bias term to feature matrix\n",
    "\n",
    "    w_full=XTX_inv.dot(X.T).dot(y)\n",
    "    \n",
    "    return w_full[0],w_full[1:]"
   ]
  },
  {
   "cell_type": "code",
   "execution_count": 96,
   "id": "076e1e55",
   "metadata": {},
   "outputs": [
    {
     "name": "stdout",
     "output_type": "stream",
     "text": [
      "Replacing null values with 0\n",
      "fvalue 0\n",
      "Replacing null values with 0\n",
      "fvalue 0\n",
      "0 0.5173782638841185\n",
      "Replacing null values with 0\n",
      "fvalue 0\n",
      "0.01 0.5171115525775559\n",
      "Replacing null values with 0\n",
      "fvalue 0\n",
      "0.1 0.5187525130701629\n",
      "Replacing null values with 0\n",
      "fvalue 0\n",
      "1 0.5222348802092528\n",
      "Replacing null values with 0\n",
      "fvalue 0\n",
      "5 0.5228916092823455\n",
      "Replacing null values with 0\n",
      "fvalue 0\n",
      "10 0.5229812979636569\n",
      "Replacing null values with 0\n",
      "fvalue 0\n",
      "100 0.5230636233819926\n"
     ]
    }
   ],
   "source": [
    "x_train=prepare_X(df_train,0)\n",
    "\n",
    "for r in [0, 0.01, 0.1, 1, 5, 10, 100]:\n",
    "    w0,w=train_linear_regression_regularised(x_train,y_train,r)\n",
    "    X_val=prepare_X(df_val,0)\n",
    "\n",
    "    y_pred= w0+ X_val.dot(w)\n",
    "\n",
    "    score=rmse(y_val,y_pred)\n",
    "\n",
    "    # score=round(score,2)\n",
    "    print(r, score)\n"
   ]
  },
  {
   "cell_type": "code",
   "execution_count": null,
   "id": "2e852492",
   "metadata": {},
   "outputs": [
    {
     "data": {
      "application/vnd.microsoft.datawrangler.viewer.v0+json": {
       "columns": [
        {
         "name": "index",
         "rawType": "int64",
         "type": "integer"
        },
        {
         "name": "engine_displacement",
         "rawType": "int64",
         "type": "integer"
        },
        {
         "name": "num_cylinders",
         "rawType": "float64",
         "type": "float"
        },
        {
         "name": "horsepower",
         "rawType": "float64",
         "type": "float"
        },
        {
         "name": "vehicle_weight",
         "rawType": "float64",
         "type": "float"
        },
        {
         "name": "acceleration",
         "rawType": "float64",
         "type": "float"
        },
        {
         "name": "model_year",
         "rawType": "int64",
         "type": "integer"
        },
        {
         "name": "origin",
         "rawType": "object",
         "type": "string"
        },
        {
         "name": "fuel_type",
         "rawType": "object",
         "type": "string"
        },
        {
         "name": "drivetrain",
         "rawType": "object",
         "type": "string"
        },
        {
         "name": "num_doors",
         "rawType": "float64",
         "type": "float"
        },
        {
         "name": "fuel_efficiency_mpg",
         "rawType": "float64",
         "type": "float"
        }
       ],
       "ref": "098d2640-1115-4bab-8c74-f8cb5ceac94c",
       "rows": [
        [
         "0",
         "170",
         "3.0",
         "159.0",
         "3413.433758606219",
         "17.7",
         "2003",
         "Europe",
         "Gasoline",
         "All-wheel drive",
         "0.0",
         "13.231728906241411"
        ],
        [
         "1",
         "130",
         "5.0",
         "97.0",
         "3149.664934220036",
         "17.8",
         "2007",
         "USA",
         "Gasoline",
         "Front-wheel drive",
         "0.0",
         "13.688217435463793"
        ],
        [
         "2",
         "170",
         null,
         "78.0",
         "3079.03899736884",
         "15.1",
         "2018",
         "Europe",
         "Gasoline",
         "Front-wheel drive",
         "0.0",
         "14.246340998160866"
        ],
        [
         "3",
         "220",
         "4.0",
         null,
         "2542.392401828378",
         "20.2",
         "2009",
         "USA",
         "Diesel",
         "All-wheel drive",
         "2.0",
         "16.91273559598635"
        ],
        [
         "4",
         "210",
         "1.0",
         "140.0",
         "3460.870989989018",
         "14.4",
         "2009",
         "Europe",
         "Gasoline",
         "All-wheel drive",
         "2.0",
         "12.488369121964562"
        ]
       ],
       "shape": {
        "columns": 11,
        "rows": 5
       }
      },
      "text/html": [
       "<div>\n",
       "<style scoped>\n",
       "    .dataframe tbody tr th:only-of-type {\n",
       "        vertical-align: middle;\n",
       "    }\n",
       "\n",
       "    .dataframe tbody tr th {\n",
       "        vertical-align: top;\n",
       "    }\n",
       "\n",
       "    .dataframe thead th {\n",
       "        text-align: right;\n",
       "    }\n",
       "</style>\n",
       "<table border=\"1\" class=\"dataframe\">\n",
       "  <thead>\n",
       "    <tr style=\"text-align: right;\">\n",
       "      <th></th>\n",
       "      <th>engine_displacement</th>\n",
       "      <th>num_cylinders</th>\n",
       "      <th>horsepower</th>\n",
       "      <th>vehicle_weight</th>\n",
       "      <th>acceleration</th>\n",
       "      <th>model_year</th>\n",
       "      <th>origin</th>\n",
       "      <th>fuel_type</th>\n",
       "      <th>drivetrain</th>\n",
       "      <th>num_doors</th>\n",
       "      <th>fuel_efficiency_mpg</th>\n",
       "    </tr>\n",
       "  </thead>\n",
       "  <tbody>\n",
       "    <tr>\n",
       "      <th>0</th>\n",
       "      <td>170</td>\n",
       "      <td>3.0</td>\n",
       "      <td>159.0</td>\n",
       "      <td>3413.433759</td>\n",
       "      <td>17.7</td>\n",
       "      <td>2003</td>\n",
       "      <td>Europe</td>\n",
       "      <td>Gasoline</td>\n",
       "      <td>All-wheel drive</td>\n",
       "      <td>0.0</td>\n",
       "      <td>13.231729</td>\n",
       "    </tr>\n",
       "    <tr>\n",
       "      <th>1</th>\n",
       "      <td>130</td>\n",
       "      <td>5.0</td>\n",
       "      <td>97.0</td>\n",
       "      <td>3149.664934</td>\n",
       "      <td>17.8</td>\n",
       "      <td>2007</td>\n",
       "      <td>USA</td>\n",
       "      <td>Gasoline</td>\n",
       "      <td>Front-wheel drive</td>\n",
       "      <td>0.0</td>\n",
       "      <td>13.688217</td>\n",
       "    </tr>\n",
       "    <tr>\n",
       "      <th>2</th>\n",
       "      <td>170</td>\n",
       "      <td>NaN</td>\n",
       "      <td>78.0</td>\n",
       "      <td>3079.038997</td>\n",
       "      <td>15.1</td>\n",
       "      <td>2018</td>\n",
       "      <td>Europe</td>\n",
       "      <td>Gasoline</td>\n",
       "      <td>Front-wheel drive</td>\n",
       "      <td>0.0</td>\n",
       "      <td>14.246341</td>\n",
       "    </tr>\n",
       "    <tr>\n",
       "      <th>3</th>\n",
       "      <td>220</td>\n",
       "      <td>4.0</td>\n",
       "      <td>NaN</td>\n",
       "      <td>2542.392402</td>\n",
       "      <td>20.2</td>\n",
       "      <td>2009</td>\n",
       "      <td>USA</td>\n",
       "      <td>Diesel</td>\n",
       "      <td>All-wheel drive</td>\n",
       "      <td>2.0</td>\n",
       "      <td>16.912736</td>\n",
       "    </tr>\n",
       "    <tr>\n",
       "      <th>4</th>\n",
       "      <td>210</td>\n",
       "      <td>1.0</td>\n",
       "      <td>140.0</td>\n",
       "      <td>3460.870990</td>\n",
       "      <td>14.4</td>\n",
       "      <td>2009</td>\n",
       "      <td>Europe</td>\n",
       "      <td>Gasoline</td>\n",
       "      <td>All-wheel drive</td>\n",
       "      <td>2.0</td>\n",
       "      <td>12.488369</td>\n",
       "    </tr>\n",
       "  </tbody>\n",
       "</table>\n",
       "</div>"
      ],
      "text/plain": [
       "   engine_displacement  num_cylinders  horsepower  vehicle_weight  \\\n",
       "0                  170            3.0       159.0     3413.433759   \n",
       "1                  130            5.0        97.0     3149.664934   \n",
       "2                  170            NaN        78.0     3079.038997   \n",
       "3                  220            4.0         NaN     2542.392402   \n",
       "4                  210            1.0       140.0     3460.870990   \n",
       "\n",
       "   acceleration  model_year  origin fuel_type         drivetrain  num_doors  \\\n",
       "0          17.7        2003  Europe  Gasoline    All-wheel drive        0.0   \n",
       "1          17.8        2007     USA  Gasoline  Front-wheel drive        0.0   \n",
       "2          15.1        2018  Europe  Gasoline  Front-wheel drive        0.0   \n",
       "3          20.2        2009     USA    Diesel    All-wheel drive        2.0   \n",
       "4          14.4        2009  Europe  Gasoline    All-wheel drive        2.0   \n",
       "\n",
       "   fuel_efficiency_mpg  \n",
       "0            13.231729  \n",
       "1            13.688217  \n",
       "2            14.246341  \n",
       "3            16.912736  \n",
       "4            12.488369  "
      ]
     },
     "execution_count": 11,
     "metadata": {},
     "output_type": "execute_result"
    }
   ],
   "source": [
    "import pandas as pd\n",
    "import numpy as np\n",
    "df.head()df=pd.read_csv(\"car_fuel_efficiency.csv\")\n"
   ]
  },
  {
   "cell_type": "code",
   "execution_count": 15,
   "id": "11bdc7cc",
   "metadata": {},
   "outputs": [],
   "source": [
    "def data_prep(seed_value):\n",
    "    print (seed_value)\n",
    "    np.random.seed(seed_value)\n",
    "    df=pd.read_csv(\"car_fuel_efficiency.csv\")\n",
    "\n",
    "    column_list=['engine_displacement',\n",
    "    'horsepower',\n",
    "    'vehicle_weight',\n",
    "    'model_year',\n",
    "    'fuel_efficiency_mpg']\n",
    "    \n",
    "    df=df[column_list]\n",
    "    n=len(df)\n",
    "\n",
    "    # print(\"number of records in df %s\" % n)\n",
    "\n",
    "    idx=np.arange(n)\n",
    "    np.random.shuffle(idx)\n",
    "\n",
    "    # train - 60%, val - 20%, test - 20%\n",
    "    n_val=int(n * 0.2)\n",
    "    n_test=int(n * 0.2)\n",
    "    n_train= n - n_val - n_test\n",
    "\n",
    "    # print(\"Record count for all datasets -\",n_val , n_test , n_train, n_val + n_test + n_train)\n",
    "\n",
    "    df_train=df.iloc[idx[:n_train]]\n",
    "    df_val=df.iloc[idx[n_train:n_train+n_val]]\n",
    "    df_test=df.iloc[idx[n_train+n_val:]]\n",
    "\n",
    "    # drop index to avoid any confusion \n",
    "\n",
    "    df_train=df_train.reset_index(drop=True)\n",
    "    df_test=df_test.reset_index(drop=True)\n",
    "    df_val=df_val.reset_index(drop=True)\n",
    "\n",
    "    # convert target matrix to logrithmic form\n",
    "\n",
    "    # y_train=np.log1p(df_train.fuel_efficiency_mpg.values)\n",
    "    # y_val=np.log1p(df_val.fuel_efficiency_mpg.values)\n",
    "    # y_test=np.log1p(df_test.fuel_efficiency_mpg.values)\n",
    "\n",
    "    y_train=df_train.fuel_efficiency_mpg.values\n",
    "    y_val=df_val.fuel_efficiency_mpg.values\n",
    "    y_test=df_test.fuel_efficiency_mpg.values\n",
    "\n",
    "    # remove target from feature matrix\n",
    "\n",
    "    del df_train['fuel_efficiency_mpg']\n",
    "    del df_test['fuel_efficiency_mpg']\n",
    "    del df_val['fuel_efficiency_mpg']\n",
    "\n",
    "    return df_train,df_val,df_test,y_train,y_val,y_test"
   ]
  },
  {
   "cell_type": "code",
   "execution_count": 13,
   "id": "92addeff",
   "metadata": {},
   "outputs": [],
   "source": [
    "def prepare_X(df,mean):\n",
    "    df_new = df.copy() # avoid overwriting df\n",
    "\n",
    "    if mean:\n",
    "        # print(\"Replacing null values with mean\")\n",
    "        fvalue=df_new.horsepower.mean()\n",
    "    else:\n",
    "        # print(\"Replacing null values with 0\")\n",
    "        fvalue=0\n",
    "    # print(\"fvalue\", fvalue)\n",
    "    df_new['horsepower']=df_new.horsepower.fillna(fvalue)\n",
    "    X=df_new.values\n",
    "    return X\n",
    "\n",
    "def train_linear_regression(X,y):\n",
    "\n",
    "    ones=np.ones(X.shape[0])\n",
    "    X=np.column_stack((ones,X))\n",
    "    # adding bias term to feature matrix\n",
    "\n",
    "    XTX=np.dot(X.T,X)\n",
    "    XTX_inv=np.linalg.inv(XTX)\n",
    "    # w = (X^T X)^(-1) X^T y\n",
    "    # adding bias term to feature matrix\n",
    "\n",
    "    w_full=XTX_inv.dot(X.T).dot(y)\n",
    "    return w_full[0],w_full[1:]\n",
    "\n",
    "def rmse(y,y_pred):\n",
    "\n",
    "    se=(y - y_pred)**2\n",
    "    mse=se.mean()\n",
    "    return np.sqrt(mse)"
   ]
  },
  {
   "cell_type": "code",
   "execution_count": 16,
   "id": "2b840da2",
   "metadata": {},
   "outputs": [
    {
     "name": "stdout",
     "output_type": "stream",
     "text": [
      "0\n",
      "1\n",
      "2\n",
      "3\n",
      "4\n",
      "5\n",
      "6\n",
      "7\n",
      "8\n",
      "9\n",
      "0.007\n"
     ]
    }
   ],
   "source": [
    "scores = {}\n",
    "for seed in [0,1,2,3,4,5,6,7,8,9]:\n",
    "    df_train,df_val,df_test,y_train,y_val,y_test = data_prep(seed)\n",
    "    x_train = prepare_X(df=df_train, mean=False)\n",
    "    w0,w = train_linear_regression(x_train, y_train)\n",
    "\n",
    "    X_val = prepare_X(df_val, mean=False)\n",
    "    y_pred = w0 + X_val.dot(w)\n",
    "    score = rmse(y_val, y_pred)\n",
    "    scores[seed] = score\n",
    "\n",
    "std = round(np.std(list(scores.values())), 3)\n",
    "print(std)"
   ]
  },
  {
   "cell_type": "code",
   "execution_count": null,
   "id": "a84f3a3f",
   "metadata": {},
   "outputs": [],
   "source": []
  },
  {
   "cell_type": "code",
   "execution_count": null,
   "id": "33ea4b20",
   "metadata": {},
   "outputs": [],
   "source": []
  },
  {
   "cell_type": "code",
   "execution_count": null,
   "id": "482d9d7a",
   "metadata": {},
   "outputs": [
    {
     "data": {
      "text/plain": [
       "np.float64(0.007)"
      ]
     },
     "execution_count": 121,
     "metadata": {},
     "output_type": "execute_result"
    }
   ],
   "source": [
    "# round(np.std(list(dict.values())),3)"
   ]
  },
  {
   "cell_type": "code",
   "execution_count": null,
   "id": "4574e402",
   "metadata": {},
   "outputs": [],
   "source": []
  }
 ],
 "metadata": {
  "kernelspec": {
   "display_name": "Python 3",
   "language": "python",
   "name": "python3"
  },
  "language_info": {
   "codemirror_mode": {
    "name": "ipython",
    "version": 3
   },
   "file_extension": ".py",
   "mimetype": "text/x-python",
   "name": "python",
   "nbconvert_exporter": "python",
   "pygments_lexer": "ipython3",
   "version": "3.13.7"
  }
 },
 "nbformat": 4,
 "nbformat_minor": 5
}

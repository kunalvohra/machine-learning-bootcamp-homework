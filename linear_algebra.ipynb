{
 "cells": [
  {
   "cell_type": "markdown",
   "id": "8740e4b0",
   "metadata": {},
   "source": [
    "# Topic: Linear Algebra\n",
    "#### covered: vector multiplication,\n",
    "####  matrix multiplication,\n",
    "#### transpose,\n",
    "####  identity matrix,\n",
    "####  inverse of a matrix"
   ]
  },
  {
   "cell_type": "code",
   "execution_count": 1,
   "id": "0e920f5a",
   "metadata": {},
   "outputs": [],
   "source": [
    "import numpy as np  "
   ]
  },
  {
   "cell_type": "markdown",
   "id": "4aed8fae",
   "metadata": {},
   "source": [
    "Vector operation"
   ]
  },
  {
   "cell_type": "code",
   "execution_count": 3,
   "id": "33d48820",
   "metadata": {},
   "outputs": [
    {
     "data": {
      "text/plain": [
       "array([ 4, 10, 18])"
      ]
     },
     "execution_count": 3,
     "metadata": {},
     "output_type": "execute_result"
    }
   ],
   "source": [
    "#vector multiplaction   \n",
    "v1 = np.array([1, 2, 3])\n",
    "v2 = np.array([4, 5, 6])\n",
    "v1 * v2  # element-wise multiplication"
   ]
  },
  {
   "cell_type": "code",
   "execution_count": 5,
   "id": "f8ddd5a1",
   "metadata": {},
   "outputs": [
    {
     "name": "stdout",
     "output_type": "stream",
     "text": [
      "[[1 2 3]\n",
      " [4 5 6]]\n"
     ]
    },
    {
     "data": {
      "text/plain": [
       "array([[1, 4],\n",
       "       [2, 5],\n",
       "       [3, 6]])"
      ]
     },
     "execution_count": 5,
     "metadata": {},
     "output_type": "execute_result"
    }
   ],
   "source": [
    "#transpose of a matrix\n",
    "A = np.array([[1, 2, 3], [4, 5, 6]])\n",
    "print(A)\n",
    "A.T"
   ]
  },
  {
   "cell_type": "code",
   "execution_count": 7,
   "id": "eb96b74a",
   "metadata": {},
   "outputs": [
    {
     "name": "stdout",
     "output_type": "stream",
     "text": [
      "32.0\n"
     ]
    }
   ],
   "source": [
    "#vector vector multiplication\n",
    "v1 = np.array([1, 2, 3])\n",
    "v2 = np.array([4, 5, 6])\n",
    "\n",
    "# element-wise multiplication using a loop\n",
    "if v1.shape[0] != v2.shape[0]:\n",
    "    raise ValueError(\"Vectors must be the same length\")\n",
    "else:\n",
    "    result=0.0\n",
    "    for i in range(len(v1)):\n",
    "        result=result+ v1[i] * v2[i]\n",
    "    print(result)"
   ]
  },
  {
   "cell_type": "code",
   "execution_count": 8,
   "id": "17750820",
   "metadata": {},
   "outputs": [
    {
     "data": {
      "text/plain": [
       "np.int64(32)"
      ]
     },
     "execution_count": 8,
     "metadata": {},
     "output_type": "execute_result"
    }
   ],
   "source": [
    "v1.dot(v2)  # dot product using numpy"
   ]
  },
  {
   "cell_type": "code",
   "execution_count": 20,
   "id": "401f14a9",
   "metadata": {},
   "outputs": [
    {
     "name": "stdout",
     "output_type": "stream",
     "text": [
      "50.0\n",
      "122.0\n"
     ]
    }
   ],
   "source": [
    "#matrix and vector multiplication\n",
    "\n",
    "A = np.array([[1, 2, 3], [4, 5, 6]])\n",
    "v = np.array([7, 8  , 9])\n",
    "\n",
    "for i in range(A.shape[0]):\n",
    "    if A.shape[1] != v.shape[0]:\n",
    "        raise ValueError(\"Number of columns in A must be equal to number of rows in v\")\n",
    "    else:\n",
    "        result=0.0\n",
    "        for j in range(A.shape[1]):\n",
    "            result=result + A[i,j] * v[j]\n",
    "        print(result)\n"
   ]
  },
  {
   "cell_type": "code",
   "execution_count": 19,
   "id": "2d4f6186",
   "metadata": {},
   "outputs": [
    {
     "name": "stdout",
     "output_type": "stream",
     "text": [
      "[[1 2 3]\n",
      " [4 5 6]]\n",
      "[7 8 9]\n",
      "3\n",
      "3\n"
     ]
    },
    {
     "data": {
      "text/plain": [
       "array([ 50, 122])"
      ]
     },
     "execution_count": 19,
     "metadata": {},
     "output_type": "execute_result"
    }
   ],
   "source": [
    "#matrix and vector multiplication\n",
    "A = np.array([[1, 2, 3], [4, 5, 6]])\n",
    "v = np.array([7, 8  , 9])\n",
    "print(A)\n",
    "print(v) \n",
    "print(A.shape[1])\n",
    "print(v.shape[0])   \n",
    "#number of columns of A should be equal to number of rows of v\n",
    "if A.shape[1] != v.shape[0]:\n",
    "    raise ValueError(\"Number of columns of A must be equal to number of rows of v\")\n",
    "A.dot(v)  # matrix-vector multiplication"
   ]
  },
  {
   "cell_type": "code",
   "execution_count": 6,
   "id": "cbee6247",
   "metadata": {},
   "outputs": [
    {
     "data": {
      "text/plain": [
       "array([[ 58,  64],\n",
       "       [139, 154]])"
      ]
     },
     "execution_count": 6,
     "metadata": {},
     "output_type": "execute_result"
    }
   ],
   "source": [
    "#dot product of two matrices\n",
    "# A.T * B\n",
    "B = np.array([[7, 8], [9, 10], [11, 12]])\n",
    "A.dot(B)"
   ]
  },
  {
   "cell_type": "code",
   "execution_count": 11,
   "id": "29794609",
   "metadata": {},
   "outputs": [
    {
     "name": "stdout",
     "output_type": "stream",
     "text": [
      "[[8 8]\n",
      " [6 2]]\n",
      "**************************************************\n",
      "[[8 7]\n",
      " [2 1]]\n"
     ]
    },
    {
     "data": {
      "text/plain": [
       "array([[80, 64],\n",
       "       [52, 44]], dtype=int32)"
      ]
     },
     "execution_count": 11,
     "metadata": {},
     "output_type": "execute_result"
    }
   ],
   "source": [
    "np.random.seed(2)\n",
    "a=np.random.randint(0,10,(2,2))\n",
    "b=np.random.randint(0,10,(2,2))\n",
    "print(a)\n",
    "print(50*\"*\")\n",
    "print(b)\n",
    "a.dot(b)\n",
    "#`matrix multiplication, row of a is multiplied by column of b and summed`\n",
    "# for matrix multiplication number of columns of first matrix should be equal to number of rows of second matrix\n",
    "# 8*8 + 8*2 = 80\n",
    "# 8*7 + 8*1 = 64\n",
    "# 6*8 + 2*2 = 52\n",
    "# 6*7 + 2*1 = 44\n",
    "# output will be 2x2 matrix"
   ]
  },
  {
   "cell_type": "code",
   "execution_count": null,
   "id": "1efcd1a9",
   "metadata": {},
   "outputs": [
    {
     "data": {
      "text/plain": [
       "array([8, 2], dtype=int32)"
      ]
     },
     "execution_count": 26,
     "metadata": {},
     "output_type": "execute_result"
    }
   ],
   "source": [
    "a[0:,1] \n",
    "# second column of a"
   ]
  },
  {
   "cell_type": "code",
   "execution_count": 30,
   "id": "bdb25a40",
   "metadata": {},
   "outputs": [
    {
     "data": {
      "text/plain": [
       "array([[1., 0.],\n",
       "       [0., 1.]])"
      ]
     },
     "execution_count": 30,
     "metadata": {},
     "output_type": "execute_result"
    }
   ],
   "source": [
    "#identity matrix\n",
    "I = np.eye(2)\n",
    "I"
   ]
  },
  {
   "cell_type": "code",
   "execution_count": 31,
   "id": "d67f3f08",
   "metadata": {},
   "outputs": [
    {
     "data": {
      "text/plain": [
       "array([[8., 8.],\n",
       "       [6., 2.]])"
      ]
     },
     "execution_count": 31,
     "metadata": {},
     "output_type": "execute_result"
    }
   ],
   "source": [
    "I.dot(a)"
   ]
  },
  {
   "cell_type": "code",
   "execution_count": 33,
   "id": "820b41e8",
   "metadata": {},
   "outputs": [
    {
     "data": {
      "text/plain": [
       "array([[1., 0.],\n",
       "       [0., 1.]])"
      ]
     },
     "execution_count": 33,
     "metadata": {},
     "output_type": "execute_result"
    }
   ],
   "source": [
    "#matrix inverse\n",
    "#A-1 * A = I\n",
    "np.linalg.inv(a).dot(a)\n",
    "\n",
    "#how is inverse calculated theoretically\n",
    "#for 2x2 matrix\n",
    "det = a[0,0]*a[1,1] - a[0,1]*a[1,0]\n",
    "inv_a = (1/det) * np.array([[a[1,1], -a[0,1]], [-a[1,0], a[0,0]]])\n",
    "inv_a.dot(a)"
   ]
  },
  {
   "cell_type": "code",
   "execution_count": null,
   "id": "d1bba2bc",
   "metadata": {},
   "outputs": [],
   "source": []
  }
 ],
 "metadata": {
  "kernelspec": {
   "display_name": "Python 3",
   "language": "python",
   "name": "python3"
  },
  "language_info": {
   "codemirror_mode": {
    "name": "ipython",
    "version": 3
   },
   "file_extension": ".py",
   "mimetype": "text/x-python",
   "name": "python",
   "nbconvert_exporter": "python",
   "pygments_lexer": "ipython3",
   "version": "3.13.7"
  }
 },
 "nbformat": 4,
 "nbformat_minor": 5
}

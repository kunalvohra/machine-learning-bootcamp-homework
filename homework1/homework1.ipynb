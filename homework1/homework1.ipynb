{
 "cells": [
  {
   "cell_type": "markdown",
   "id": "c3db2ad4",
   "metadata": {},
   "source": [
    "## Homework"
   ]
  },
  {
   "cell_type": "code",
   "execution_count": 43,
   "id": "2259f5f5",
   "metadata": {},
   "outputs": [
    {
     "name": "stdout",
     "output_type": "stream",
     "text": [
      "2.3.2\n"
     ]
    }
   ],
   "source": [
    "import pandas as pd\n",
    "print(pd.__version__)"
   ]
  },
  {
   "cell_type": "code",
   "execution_count": 44,
   "id": "99f91687",
   "metadata": {},
   "outputs": [],
   "source": [
    "df=pd.read_csv('raw.csv')\n",
    "# df.head()"
   ]
  },
  {
   "cell_type": "code",
   "execution_count": 45,
   "id": "d67d8af8",
   "metadata": {},
   "outputs": [
    {
     "data": {
      "text/plain": [
       "(9704, 11)"
      ]
     },
     "execution_count": 45,
     "metadata": {},
     "output_type": "execute_result"
    }
   ],
   "source": [
    "#How many records are in the dataset?\n",
    "df.shape"
   ]
  },
  {
   "cell_type": "code",
   "execution_count": 46,
   "id": "71e76bf8",
   "metadata": {},
   "outputs": [
    {
     "data": {
      "text/plain": [
       "2"
      ]
     },
     "execution_count": 46,
     "metadata": {},
     "output_type": "execute_result"
    }
   ],
   "source": [
    "df.fuel_type.nunique()"
   ]
  },
  {
   "cell_type": "code",
   "execution_count": 47,
   "id": "4f84dbc2",
   "metadata": {},
   "outputs": [
    {
     "data": {
      "application/vnd.microsoft.datawrangler.viewer.v0+json": {
       "columns": [
        {
         "name": "index",
         "rawType": "object",
         "type": "string"
        },
        {
         "name": "0",
         "rawType": "int64",
         "type": "integer"
        }
       ],
       "ref": "d8be662f-cb9f-4fd0-966e-7280e7cec99f",
       "rows": [
        [
         "num_cylinders",
         "482"
        ],
        [
         "horsepower",
         "708"
        ],
        [
         "acceleration",
         "930"
        ],
        [
         "num_doors",
         "502"
        ]
       ],
       "shape": {
        "columns": 1,
        "rows": 4
       }
      },
      "text/plain": [
       "num_cylinders    482\n",
       "horsepower       708\n",
       "acceleration     930\n",
       "num_doors        502\n",
       "dtype: int64"
      ]
     },
     "execution_count": 47,
     "metadata": {},
     "output_type": "execute_result"
    }
   ],
   "source": [
    "df1=df.isnull().sum() \n",
    "df1[df1 > 0]"
   ]
  },
  {
   "cell_type": "code",
   "execution_count": 48,
   "id": "661861a4",
   "metadata": {},
   "outputs": [
    {
     "data": {
      "text/plain": [
       "Index(['engine_displacement', 'num_cylinders', 'horsepower', 'vehicle_weight',\n",
       "       'acceleration', 'model_year', 'origin', 'fuel_type', 'drivetrain',\n",
       "       'num_doors', 'fuel_efficiency_mpg'],\n",
       "      dtype='object')"
      ]
     },
     "execution_count": 48,
     "metadata": {},
     "output_type": "execute_result"
    }
   ],
   "source": [
    "df.columns"
   ]
  },
  {
   "cell_type": "code",
   "execution_count": 49,
   "id": "3cb61be8",
   "metadata": {},
   "outputs": [
    {
     "data": {
      "text/plain": [
       "np.float64(23.759122836520497)"
      ]
     },
     "execution_count": 49,
     "metadata": {},
     "output_type": "execute_result"
    }
   ],
   "source": [
    "df[df['origin']== 'Asia'].fuel_efficiency_mpg.max()"
   ]
  },
  {
   "cell_type": "code",
   "execution_count": 50,
   "id": "3c64578b",
   "metadata": {},
   "outputs": [
    {
     "data": {
      "application/vnd.microsoft.datawrangler.viewer.v0+json": {
       "columns": [
        {
         "name": "origin",
         "rawType": "object",
         "type": "string"
        },
        {
         "name": "fuel_efficiency_mpg",
         "rawType": "float64",
         "type": "float"
        }
       ],
       "ref": "a5bfc8c7-8512-4225-b5c1-c10b8583d172",
       "rows": [
        [
         "Asia",
         "23.759122836520497"
        ],
        [
         "Europe",
         "25.96722204888372"
        ],
        [
         "USA",
         "24.971452356471183"
        ]
       ],
       "shape": {
        "columns": 1,
        "rows": 3
       }
      },
      "text/plain": [
       "origin\n",
       "Asia      23.759123\n",
       "Europe    25.967222\n",
       "USA       24.971452\n",
       "Name: fuel_efficiency_mpg, dtype: float64"
      ]
     },
     "execution_count": 50,
     "metadata": {},
     "output_type": "execute_result"
    }
   ],
   "source": [
    "df.groupby('origin').fuel_efficiency_mpg.max()"
   ]
  },
  {
   "cell_type": "code",
   "execution_count": 51,
   "id": "3e839c75",
   "metadata": {},
   "outputs": [
    {
     "data": {
      "text/plain": [
       "np.float64(149.0)"
      ]
     },
     "execution_count": 51,
     "metadata": {},
     "output_type": "execute_result"
    }
   ],
   "source": [
    "#Find the median value of horsepower column in the dataset.\n",
    "df.horsepower.median()"
   ]
  },
  {
   "cell_type": "code",
   "execution_count": 52,
   "id": "badd202d",
   "metadata": {},
   "outputs": [
    {
     "data": {
      "application/vnd.microsoft.datawrangler.viewer.v0+json": {
       "columns": [
        {
         "name": "horsepower",
         "rawType": "float64",
         "type": "float"
        },
        {
         "name": "count",
         "rawType": "int64",
         "type": "integer"
        }
       ],
       "ref": "54611ded-f225-4a7c-9b31-f66f6d507118",
       "rows": [
        [
         "152.0",
         "142"
        ],
        [
         "145.0",
         "141"
        ],
        [
         "151.0",
         "134"
        ],
        [
         "148.0",
         "130"
        ],
        [
         "141.0",
         "130"
        ],
        [
         "143.0",
         "128"
        ],
        [
         "159.0",
         "126"
        ],
        [
         "149.0",
         "124"
        ],
        [
         "136.0",
         "123"
        ],
        [
         "139.0",
         "123"
        ],
        [
         "164.0",
         "122"
        ],
        [
         "144.0",
         "120"
        ],
        [
         "138.0",
         "120"
        ],
        [
         "156.0",
         "119"
        ],
        [
         "133.0",
         "116"
        ],
        [
         "160.0",
         "116"
        ],
        [
         "155.0",
         "115"
        ],
        [
         "154.0",
         "112"
        ],
        [
         "150.0",
         "111"
        ],
        [
         "146.0",
         "109"
        ],
        [
         "161.0",
         "109"
        ],
        [
         "134.0",
         "109"
        ],
        [
         "163.0",
         "109"
        ],
        [
         "142.0",
         "106"
        ],
        [
         "153.0",
         "106"
        ],
        [
         "130.0",
         "105"
        ],
        [
         "157.0",
         "105"
        ],
        [
         "140.0",
         "105"
        ],
        [
         "169.0",
         "104"
        ],
        [
         "132.0",
         "104"
        ],
        [
         "167.0",
         "104"
        ],
        [
         "147.0",
         "103"
        ],
        [
         "162.0",
         "103"
        ],
        [
         "129.0",
         "102"
        ],
        [
         "128.0",
         "101"
        ],
        [
         "127.0",
         "99"
        ],
        [
         "171.0",
         "96"
        ],
        [
         "125.0",
         "94"
        ],
        [
         "135.0",
         "94"
        ],
        [
         "165.0",
         "93"
        ],
        [
         "123.0",
         "93"
        ],
        [
         "158.0",
         "92"
        ],
        [
         "137.0",
         "91"
        ],
        [
         "166.0",
         "91"
        ],
        [
         "168.0",
         "90"
        ],
        [
         "174.0",
         "89"
        ],
        [
         "126.0",
         "87"
        ],
        [
         "172.0",
         "87"
        ],
        [
         "131.0",
         "87"
        ],
        [
         "173.0",
         "86"
        ]
       ],
       "shape": {
        "columns": 1,
        "rows": 192
       }
      },
      "text/plain": [
       "horsepower\n",
       "152.0    142\n",
       "145.0    141\n",
       "151.0    134\n",
       "148.0    130\n",
       "141.0    130\n",
       "        ... \n",
       "40.0       1\n",
       "57.0       1\n",
       "245.0      1\n",
       "252.0      1\n",
       "61.0       1\n",
       "Name: count, Length: 192, dtype: int64"
      ]
     },
     "execution_count": 52,
     "metadata": {},
     "output_type": "execute_result"
    }
   ],
   "source": [
    "df.horsepower.unique()\n",
    "# frequency of unique values in horsepower column\n",
    "df.horsepower.value_counts().sort_values(ascending=False)"
   ]
  },
  {
   "cell_type": "code",
   "execution_count": 53,
   "id": "c7f47faf",
   "metadata": {},
   "outputs": [
    {
     "data": {
      "text/plain": [
       "np.int64(708)"
      ]
     },
     "execution_count": 53,
     "metadata": {},
     "output_type": "execute_result"
    }
   ],
   "source": [
    "df.horsepower.isnull().sum()"
   ]
  },
  {
   "cell_type": "code",
   "execution_count": 54,
   "id": "d0a87d90",
   "metadata": {},
   "outputs": [
    {
     "data": {
      "text/plain": [
       "np.float64(152.0)"
      ]
     },
     "execution_count": 54,
     "metadata": {},
     "output_type": "execute_result"
    }
   ],
   "source": [
    "df2=df.horsepower.value_counts().sort_values(ascending=False)\n",
    "#df2 first highest value horsepower\n",
    "df2.index[0]"
   ]
  },
  {
   "cell_type": "code",
   "execution_count": 55,
   "id": "5a1cc5aa",
   "metadata": {},
   "outputs": [],
   "source": [
    "#Use fillna method to fill the missing values in horsepower column with the most frequent value from the previous step.\n",
    "df.fillna(df2.index[0],inplace=True)\n"
   ]
  },
  {
   "cell_type": "code",
   "execution_count": 56,
   "id": "646c0e8c",
   "metadata": {},
   "outputs": [
    {
     "data": {
      "text/plain": [
       "np.int64(0)"
      ]
     },
     "execution_count": 56,
     "metadata": {},
     "output_type": "execute_result"
    }
   ],
   "source": [
    "df.horsepower.isnull().sum()"
   ]
  },
  {
   "cell_type": "code",
   "execution_count": 57,
   "id": "d116ac1d",
   "metadata": {},
   "outputs": [
    {
     "data": {
      "text/plain": [
       "np.float64(152.0)"
      ]
     },
     "execution_count": 57,
     "metadata": {},
     "output_type": "execute_result"
    }
   ],
   "source": [
    "df.horsepower.median()"
   ]
  },
  {
   "cell_type": "code",
   "execution_count": 58,
   "id": "8ab80acf",
   "metadata": {},
   "outputs": [
    {
     "data": {
      "application/vnd.microsoft.datawrangler.viewer.v0+json": {
       "columns": [
        {
         "name": "index",
         "rawType": "int64",
         "type": "integer"
        },
        {
         "name": "engine_displacement",
         "rawType": "int64",
         "type": "integer"
        },
        {
         "name": "num_cylinders",
         "rawType": "float64",
         "type": "float"
        },
        {
         "name": "horsepower",
         "rawType": "float64",
         "type": "float"
        },
        {
         "name": "vehicle_weight",
         "rawType": "float64",
         "type": "float"
        },
        {
         "name": "acceleration",
         "rawType": "float64",
         "type": "float"
        },
        {
         "name": "model_year",
         "rawType": "int64",
         "type": "integer"
        },
        {
         "name": "origin",
         "rawType": "object",
         "type": "string"
        },
        {
         "name": "fuel_type",
         "rawType": "object",
         "type": "string"
        },
        {
         "name": "drivetrain",
         "rawType": "object",
         "type": "string"
        },
        {
         "name": "num_doors",
         "rawType": "float64",
         "type": "float"
        },
        {
         "name": "fuel_efficiency_mpg",
         "rawType": "float64",
         "type": "float"
        }
       ],
       "ref": "770207f7-ab91-4c3b-9ec9-b75b1a88120c",
       "rows": [
        [
         "8",
         "250",
         "1.0",
         "174.0",
         "2714.219309645285",
         "10.3",
         "2016",
         "Asia",
         "Diesel",
         "Front-wheel drive",
         "-1.0",
         "16.823553726916543"
        ],
        [
         "12",
         "320",
         "5.0",
         "145.0",
         "2783.8689742437728",
         "15.1",
         "2010",
         "Asia",
         "Diesel",
         "All-wheel drive",
         "1.0",
         "16.17581958009284"
        ],
        [
         "14",
         "200",
         "6.0",
         "160.0",
         "3582.687367715132",
         "14.9",
         "2007",
         "Asia",
         "Diesel",
         "All-wheel drive",
         "0.0",
         "11.871091010445811"
        ],
        [
         "20",
         "150",
         "3.0",
         "197.0",
         "2231.8081416029345",
         "18.7",
         "2011",
         "Asia",
         "Gasoline",
         "Front-wheel drive",
         "1.0",
         "18.88908257097108"
        ],
        [
         "21",
         "160",
         "4.0",
         "133.0",
         "2659.431450757995",
         "152.0",
         "2016",
         "Asia",
         "Gasoline",
         "Front-wheel drive",
         "-1.0",
         "16.077730214491176"
        ],
        [
         "34",
         "150",
         "2.0",
         "149.0",
         "2844.2275338857653",
         "17.3",
         "2014",
         "Asia",
         "Diesel",
         "Front-wheel drive",
         "0.0",
         "15.353788201522017"
        ],
        [
         "38",
         "190",
         "5.0",
         "158.0",
         "3761.9940381922206",
         "152.0",
         "2019",
         "Asia",
         "Gasoline",
         "Front-wheel drive",
         "1.0",
         "11.645724047561528"
        ],
        [
         "43",
         "170",
         "4.0",
         "123.0",
         "2957.6811098887447",
         "14.4",
         "2012",
         "Asia",
         "Diesel",
         "All-wheel drive",
         "-1.0",
         "15.039796931634644"
        ],
        [
         "44",
         "240",
         "2.0",
         "142.0",
         "2544.516801769428",
         "12.9",
         "2016",
         "Asia",
         "Gasoline",
         "All-wheel drive",
         "0.0",
         "17.600327865900464"
        ],
        [
         "48",
         "190",
         "5.0",
         "202.0",
         "2531.185247040718",
         "16.2",
         "2016",
         "Asia",
         "Gasoline",
         "All-wheel drive",
         "0.0",
         "17.983505227568678"
        ],
        [
         "51",
         "270",
         "3.0",
         "152.0",
         "2730.9471044643847",
         "152.0",
         "2015",
         "Asia",
         "Diesel",
         "All-wheel drive",
         "-1.0",
         "15.82098165489468"
        ],
        [
         "57",
         "210",
         "5.0",
         "128.0",
         "3654.1395563912342",
         "17.3",
         "2015",
         "Asia",
         "Gasoline",
         "Front-wheel drive",
         "152.0",
         "11.550323928127572"
        ],
        [
         "60",
         "240",
         "5.0",
         "152.0",
         "2677.52170988898",
         "13.2",
         "2003",
         "Asia",
         "Diesel",
         "Front-wheel drive",
         "0.0",
         "16.31743149857548"
        ],
        [
         "74",
         "160",
         "6.0",
         "196.0",
         "2858.715432560616",
         "16.8",
         "2006",
         "Asia",
         "Gasoline",
         "All-wheel drive",
         "0.0",
         "16.138145622702815"
        ],
        [
         "76",
         "190",
         "4.0",
         "133.0",
         "3925.506911760992",
         "17.1",
         "2000",
         "Asia",
         "Gasoline",
         "Front-wheel drive",
         "0.0",
         "10.236175734106144"
        ],
        [
         "79",
         "210",
         "3.0",
         "152.0",
         "3429.169392019084",
         "16.8",
         "2012",
         "Asia",
         "Gasoline",
         "Front-wheel drive",
         "1.0",
         "12.919793266773633"
        ],
        [
         "87",
         "240",
         "0.0",
         "179.0",
         "2928.390984041444",
         "16.2",
         "2010",
         "Asia",
         "Diesel",
         "Front-wheel drive",
         "1.0",
         "15.1925413931655"
        ],
        [
         "88",
         "240",
         "7.0",
         "166.0",
         "3925.5586878590752",
         "9.8",
         "2010",
         "Asia",
         "Gasoline",
         "Front-wheel drive",
         "0.0",
         "11.781953644467873"
        ],
        [
         "89",
         "180",
         "4.0",
         "101.0",
         "2065.5431253394445",
         "17.7",
         "2005",
         "Asia",
         "Gasoline",
         "All-wheel drive",
         "0.0",
         "19.106654789919126"
        ],
        [
         "102",
         "250",
         "6.0",
         "177.0",
         "2705.632696518827",
         "10.1",
         "2003",
         "Asia",
         "Gasoline",
         "All-wheel drive",
         "2.0",
         "17.36358518579527"
        ],
        [
         "104",
         "140",
         "1.0",
         "166.0",
         "3238.177967641373",
         "14.9",
         "2011",
         "Asia",
         "Gasoline",
         "All-wheel drive",
         "1.0",
         "13.784027898457635"
        ],
        [
         "105",
         "310",
         "152.0",
         "103.0",
         "3514.690129960512",
         "15.7",
         "2011",
         "Asia",
         "Gasoline",
         "Front-wheel drive",
         "0.0",
         "11.745027917789637"
        ],
        [
         "108",
         "290",
         "4.0",
         "184.0",
         "3090.89413681191",
         "16.6",
         "2002",
         "Asia",
         "Gasoline",
         "All-wheel drive",
         "1.0",
         "14.98594049869758"
        ],
        [
         "111",
         "240",
         "6.0",
         "151.0",
         "3444.2532181983206",
         "12.1",
         "2008",
         "Asia",
         "Diesel",
         "Front-wheel drive",
         "152.0",
         "13.190997221220323"
        ],
        [
         "113",
         "200",
         "2.0",
         "163.0",
         "3146.743143565958",
         "13.0",
         "2005",
         "Asia",
         "Gasoline",
         "All-wheel drive",
         "0.0",
         "14.395615578556114"
        ],
        [
         "115",
         "210",
         "3.0",
         "162.0",
         "3642.4980770826874",
         "15.6",
         "2001",
         "Asia",
         "Gasoline",
         "All-wheel drive",
         "0.0",
         "10.963506046167412"
        ],
        [
         "117",
         "280",
         "1.0",
         "104.0",
         "3650.722390412526",
         "13.3",
         "2010",
         "Asia",
         "Gasoline",
         "Front-wheel drive",
         "1.0",
         "11.342614871840736"
        ],
        [
         "119",
         "230",
         "2.0",
         "137.0",
         "2859.270425474493",
         "15.4",
         "2017",
         "Asia",
         "Gasoline",
         "All-wheel drive",
         "-1.0",
         "15.534575330284182"
        ],
        [
         "123",
         "270",
         "6.0",
         "135.0",
         "2435.3611644468947",
         "15.0",
         "2006",
         "Asia",
         "Gasoline",
         "Front-wheel drive",
         "0.0",
         "17.958386086087742"
        ],
        [
         "125",
         "200",
         "3.0",
         "143.0",
         "2950.822121334588",
         "17.1",
         "2013",
         "Asia",
         "Diesel",
         "Front-wheel drive",
         "-1.0",
         "15.331214658436403"
        ],
        [
         "130",
         "180",
         "5.0",
         "164.0",
         "3011.935745333787",
         "13.5",
         "2018",
         "Asia",
         "Gasoline",
         "All-wheel drive",
         "0.0",
         "15.519705640049803"
        ],
        [
         "131",
         "200",
         "4.0",
         "123.0",
         "2842.992310766458",
         "15.7",
         "2010",
         "Asia",
         "Gasoline",
         "Front-wheel drive",
         "3.0",
         "15.172158285749552"
        ],
        [
         "132",
         "110",
         "4.0",
         "149.0",
         "2686.2920420207847",
         "13.9",
         "2011",
         "Asia",
         "Diesel",
         "All-wheel drive",
         "0.0",
         "16.54995387725934"
        ],
        [
         "134",
         "90",
         "1.0",
         "148.0",
         "2528.3479461904435",
         "11.9",
         "2002",
         "Asia",
         "Diesel",
         "Front-wheel drive",
         "1.0",
         "17.540475740681295"
        ],
        [
         "135",
         "170",
         "4.0",
         "153.0",
         "3678.720747386177",
         "15.8",
         "2022",
         "Asia",
         "Gasoline",
         "Front-wheel drive",
         "-1.0",
         "11.353188504588235"
        ],
        [
         "144",
         "260",
         "2.0",
         "200.0",
         "2216.540197957567",
         "15.0",
         "2016",
         "Asia",
         "Gasoline",
         "All-wheel drive",
         "1.0",
         "18.841960135846293"
        ],
        [
         "151",
         "190",
         "2.0",
         "179.0",
         "3953.311649204393",
         "15.6",
         "2003",
         "Asia",
         "Diesel",
         "Front-wheel drive",
         "0.0",
         "10.188722574984988"
        ],
        [
         "153",
         "310",
         "0.0",
         "159.0",
         "2376.284548972947",
         "152.0",
         "2005",
         "Asia",
         "Diesel",
         "All-wheel drive",
         "-1.0",
         "17.863914553778507"
        ],
        [
         "154",
         "140",
         "4.0",
         "172.0",
         "3966.299770850817",
         "14.3",
         "2014",
         "Asia",
         "Gasoline",
         "All-wheel drive",
         "-1.0",
         "9.984908640845251"
        ],
        [
         "156",
         "220",
         "1.0",
         "139.0",
         "2577.120411484481",
         "15.1",
         "2007",
         "Asia",
         "Diesel",
         "Front-wheel drive",
         "0.0",
         "17.390924993136817"
        ],
        [
         "160",
         "140",
         "8.0",
         "130.0",
         "2403.181129982779",
         "15.0",
         "2020",
         "Asia",
         "Diesel",
         "Front-wheel drive",
         "-1.0",
         "17.798755253041886"
        ],
        [
         "161",
         "220",
         "6.0",
         "170.0",
         "2374.4828658875795",
         "16.8",
         "2015",
         "Asia",
         "Diesel",
         "Front-wheel drive",
         "1.0",
         "18.357378387890183"
        ],
        [
         "166",
         "200",
         "5.0",
         "150.0",
         "3965.339213908783",
         "12.0",
         "2018",
         "Asia",
         "Gasoline",
         "All-wheel drive",
         "0.0",
         "10.465232689090865"
        ],
        [
         "167",
         "150",
         "4.0",
         "192.0",
         "2824.478265006889",
         "13.8",
         "2002",
         "Asia",
         "Diesel",
         "All-wheel drive",
         "2.0",
         "16.696031085278673"
        ],
        [
         "171",
         "200",
         "8.0",
         "217.0",
         "2156.3676639373502",
         "16.7",
         "2012",
         "Asia",
         "Gasoline",
         "Front-wheel drive",
         "1.0",
         "19.4424734803092"
        ],
        [
         "172",
         "200",
         "2.0",
         "147.0",
         "4043.595771631228",
         "16.2",
         "2014",
         "Asia",
         "Gasoline",
         "All-wheel drive",
         "1.0",
         "9.957139470311276"
        ],
        [
         "173",
         "230",
         "3.0",
         "172.0",
         "2697.423182331291",
         "16.1",
         "2011",
         "Asia",
         "Diesel",
         "All-wheel drive",
         "2.0",
         "16.75466934147011"
        ],
        [
         "176",
         "240",
         "152.0",
         "120.0",
         "3450.59314322959",
         "14.3",
         "2023",
         "Asia",
         "Diesel",
         "All-wheel drive",
         "1.0",
         "12.895396757676426"
        ],
        [
         "184",
         "140",
         "9.0",
         "83.0",
         "3007.3271482865844",
         "16.6",
         "2022",
         "Asia",
         "Diesel",
         "All-wheel drive",
         "1.0",
         "13.991309283118838"
        ],
        [
         "185",
         "210",
         "6.0",
         "101.0",
         "2725.919222680632",
         "11.6",
         "2015",
         "Asia",
         "Diesel",
         "Front-wheel drive",
         "0.0",
         "16.003261680782987"
        ]
       ],
       "shape": {
        "columns": 11,
        "rows": 3247
       }
      },
      "text/html": [
       "<div>\n",
       "<style scoped>\n",
       "    .dataframe tbody tr th:only-of-type {\n",
       "        vertical-align: middle;\n",
       "    }\n",
       "\n",
       "    .dataframe tbody tr th {\n",
       "        vertical-align: top;\n",
       "    }\n",
       "\n",
       "    .dataframe thead th {\n",
       "        text-align: right;\n",
       "    }\n",
       "</style>\n",
       "<table border=\"1\" class=\"dataframe\">\n",
       "  <thead>\n",
       "    <tr style=\"text-align: right;\">\n",
       "      <th></th>\n",
       "      <th>engine_displacement</th>\n",
       "      <th>num_cylinders</th>\n",
       "      <th>horsepower</th>\n",
       "      <th>vehicle_weight</th>\n",
       "      <th>acceleration</th>\n",
       "      <th>model_year</th>\n",
       "      <th>origin</th>\n",
       "      <th>fuel_type</th>\n",
       "      <th>drivetrain</th>\n",
       "      <th>num_doors</th>\n",
       "      <th>fuel_efficiency_mpg</th>\n",
       "    </tr>\n",
       "  </thead>\n",
       "  <tbody>\n",
       "    <tr>\n",
       "      <th>8</th>\n",
       "      <td>250</td>\n",
       "      <td>1.0</td>\n",
       "      <td>174.0</td>\n",
       "      <td>2714.219310</td>\n",
       "      <td>10.3</td>\n",
       "      <td>2016</td>\n",
       "      <td>Asia</td>\n",
       "      <td>Diesel</td>\n",
       "      <td>Front-wheel drive</td>\n",
       "      <td>-1.0</td>\n",
       "      <td>16.823554</td>\n",
       "    </tr>\n",
       "    <tr>\n",
       "      <th>12</th>\n",
       "      <td>320</td>\n",
       "      <td>5.0</td>\n",
       "      <td>145.0</td>\n",
       "      <td>2783.868974</td>\n",
       "      <td>15.1</td>\n",
       "      <td>2010</td>\n",
       "      <td>Asia</td>\n",
       "      <td>Diesel</td>\n",
       "      <td>All-wheel drive</td>\n",
       "      <td>1.0</td>\n",
       "      <td>16.175820</td>\n",
       "    </tr>\n",
       "    <tr>\n",
       "      <th>14</th>\n",
       "      <td>200</td>\n",
       "      <td>6.0</td>\n",
       "      <td>160.0</td>\n",
       "      <td>3582.687368</td>\n",
       "      <td>14.9</td>\n",
       "      <td>2007</td>\n",
       "      <td>Asia</td>\n",
       "      <td>Diesel</td>\n",
       "      <td>All-wheel drive</td>\n",
       "      <td>0.0</td>\n",
       "      <td>11.871091</td>\n",
       "    </tr>\n",
       "    <tr>\n",
       "      <th>20</th>\n",
       "      <td>150</td>\n",
       "      <td>3.0</td>\n",
       "      <td>197.0</td>\n",
       "      <td>2231.808142</td>\n",
       "      <td>18.7</td>\n",
       "      <td>2011</td>\n",
       "      <td>Asia</td>\n",
       "      <td>Gasoline</td>\n",
       "      <td>Front-wheel drive</td>\n",
       "      <td>1.0</td>\n",
       "      <td>18.889083</td>\n",
       "    </tr>\n",
       "    <tr>\n",
       "      <th>21</th>\n",
       "      <td>160</td>\n",
       "      <td>4.0</td>\n",
       "      <td>133.0</td>\n",
       "      <td>2659.431451</td>\n",
       "      <td>152.0</td>\n",
       "      <td>2016</td>\n",
       "      <td>Asia</td>\n",
       "      <td>Gasoline</td>\n",
       "      <td>Front-wheel drive</td>\n",
       "      <td>-1.0</td>\n",
       "      <td>16.077730</td>\n",
       "    </tr>\n",
       "    <tr>\n",
       "      <th>...</th>\n",
       "      <td>...</td>\n",
       "      <td>...</td>\n",
       "      <td>...</td>\n",
       "      <td>...</td>\n",
       "      <td>...</td>\n",
       "      <td>...</td>\n",
       "      <td>...</td>\n",
       "      <td>...</td>\n",
       "      <td>...</td>\n",
       "      <td>...</td>\n",
       "      <td>...</td>\n",
       "    </tr>\n",
       "    <tr>\n",
       "      <th>9688</th>\n",
       "      <td>260</td>\n",
       "      <td>4.0</td>\n",
       "      <td>152.0</td>\n",
       "      <td>3948.404625</td>\n",
       "      <td>15.5</td>\n",
       "      <td>2018</td>\n",
       "      <td>Asia</td>\n",
       "      <td>Diesel</td>\n",
       "      <td>All-wheel drive</td>\n",
       "      <td>-1.0</td>\n",
       "      <td>11.054830</td>\n",
       "    </tr>\n",
       "    <tr>\n",
       "      <th>9692</th>\n",
       "      <td>180</td>\n",
       "      <td>3.0</td>\n",
       "      <td>188.0</td>\n",
       "      <td>3680.341381</td>\n",
       "      <td>18.0</td>\n",
       "      <td>2016</td>\n",
       "      <td>Asia</td>\n",
       "      <td>Gasoline</td>\n",
       "      <td>Front-wheel drive</td>\n",
       "      <td>1.0</td>\n",
       "      <td>11.711653</td>\n",
       "    </tr>\n",
       "    <tr>\n",
       "      <th>9693</th>\n",
       "      <td>280</td>\n",
       "      <td>2.0</td>\n",
       "      <td>148.0</td>\n",
       "      <td>2545.070139</td>\n",
       "      <td>15.6</td>\n",
       "      <td>2012</td>\n",
       "      <td>Asia</td>\n",
       "      <td>Diesel</td>\n",
       "      <td>All-wheel drive</td>\n",
       "      <td>0.0</td>\n",
       "      <td>17.202782</td>\n",
       "    </tr>\n",
       "    <tr>\n",
       "      <th>9698</th>\n",
       "      <td>180</td>\n",
       "      <td>1.0</td>\n",
       "      <td>131.0</td>\n",
       "      <td>3107.427820</td>\n",
       "      <td>13.2</td>\n",
       "      <td>2005</td>\n",
       "      <td>Asia</td>\n",
       "      <td>Gasoline</td>\n",
       "      <td>Front-wheel drive</td>\n",
       "      <td>-2.0</td>\n",
       "      <td>13.933716</td>\n",
       "    </tr>\n",
       "    <tr>\n",
       "      <th>9703</th>\n",
       "      <td>270</td>\n",
       "      <td>3.0</td>\n",
       "      <td>140.0</td>\n",
       "      <td>2908.043477</td>\n",
       "      <td>14.7</td>\n",
       "      <td>2005</td>\n",
       "      <td>Asia</td>\n",
       "      <td>Diesel</td>\n",
       "      <td>All-wheel drive</td>\n",
       "      <td>-1.0</td>\n",
       "      <td>14.884467</td>\n",
       "    </tr>\n",
       "  </tbody>\n",
       "</table>\n",
       "<p>3247 rows × 11 columns</p>\n",
       "</div>"
      ],
      "text/plain": [
       "      engine_displacement  num_cylinders  horsepower  vehicle_weight  \\\n",
       "8                     250            1.0       174.0     2714.219310   \n",
       "12                    320            5.0       145.0     2783.868974   \n",
       "14                    200            6.0       160.0     3582.687368   \n",
       "20                    150            3.0       197.0     2231.808142   \n",
       "21                    160            4.0       133.0     2659.431451   \n",
       "...                   ...            ...         ...             ...   \n",
       "9688                  260            4.0       152.0     3948.404625   \n",
       "9692                  180            3.0       188.0     3680.341381   \n",
       "9693                  280            2.0       148.0     2545.070139   \n",
       "9698                  180            1.0       131.0     3107.427820   \n",
       "9703                  270            3.0       140.0     2908.043477   \n",
       "\n",
       "      acceleration  model_year origin fuel_type         drivetrain  num_doors  \\\n",
       "8             10.3        2016   Asia    Diesel  Front-wheel drive       -1.0   \n",
       "12            15.1        2010   Asia    Diesel    All-wheel drive        1.0   \n",
       "14            14.9        2007   Asia    Diesel    All-wheel drive        0.0   \n",
       "20            18.7        2011   Asia  Gasoline  Front-wheel drive        1.0   \n",
       "21           152.0        2016   Asia  Gasoline  Front-wheel drive       -1.0   \n",
       "...            ...         ...    ...       ...                ...        ...   \n",
       "9688          15.5        2018   Asia    Diesel    All-wheel drive       -1.0   \n",
       "9692          18.0        2016   Asia  Gasoline  Front-wheel drive        1.0   \n",
       "9693          15.6        2012   Asia    Diesel    All-wheel drive        0.0   \n",
       "9698          13.2        2005   Asia  Gasoline  Front-wheel drive       -2.0   \n",
       "9703          14.7        2005   Asia    Diesel    All-wheel drive       -1.0   \n",
       "\n",
       "      fuel_efficiency_mpg  \n",
       "8               16.823554  \n",
       "12              16.175820  \n",
       "14              11.871091  \n",
       "20              18.889083  \n",
       "21              16.077730  \n",
       "...                   ...  \n",
       "9688            11.054830  \n",
       "9692            11.711653  \n",
       "9693            17.202782  \n",
       "9698            13.933716  \n",
       "9703            14.884467  \n",
       "\n",
       "[3247 rows x 11 columns]"
      ]
     },
     "execution_count": 58,
     "metadata": {},
     "output_type": "execute_result"
    }
   ],
   "source": [
    "# select all cars from Asia\n",
    "df=df[df['origin'] == 'Asia']\n",
    "df"
   ]
  },
  {
   "cell_type": "code",
   "execution_count": 59,
   "id": "6370882a",
   "metadata": {},
   "outputs": [
    {
     "data": {
      "application/vnd.microsoft.datawrangler.viewer.v0+json": {
       "columns": [
        {
         "name": "index",
         "rawType": "int64",
         "type": "integer"
        },
        {
         "name": "vehicle_weight",
         "rawType": "float64",
         "type": "float"
        },
        {
         "name": "model_year",
         "rawType": "int64",
         "type": "integer"
        }
       ],
       "ref": "f716476b-4bcd-4f19-a63b-a72e1e2c5e7b",
       "rows": [
        [
         "8",
         "2714.219309645285",
         "2016"
        ],
        [
         "12",
         "2783.8689742437728",
         "2010"
        ],
        [
         "14",
         "3582.687367715132",
         "2007"
        ],
        [
         "20",
         "2231.8081416029345",
         "2011"
        ],
        [
         "21",
         "2659.431450757995",
         "2016"
        ],
        [
         "34",
         "2844.2275338857653",
         "2014"
        ],
        [
         "38",
         "3761.9940381922206",
         "2019"
        ],
        [
         "43",
         "2957.6811098887447",
         "2012"
        ],
        [
         "44",
         "2544.516801769428",
         "2016"
        ],
        [
         "48",
         "2531.185247040718",
         "2016"
        ],
        [
         "51",
         "2730.9471044643847",
         "2015"
        ],
        [
         "57",
         "3654.1395563912342",
         "2015"
        ],
        [
         "60",
         "2677.52170988898",
         "2003"
        ],
        [
         "74",
         "2858.715432560616",
         "2006"
        ],
        [
         "76",
         "3925.506911760992",
         "2000"
        ],
        [
         "79",
         "3429.169392019084",
         "2012"
        ],
        [
         "87",
         "2928.390984041444",
         "2010"
        ],
        [
         "88",
         "3925.5586878590752",
         "2010"
        ],
        [
         "89",
         "2065.5431253394445",
         "2005"
        ],
        [
         "102",
         "2705.632696518827",
         "2003"
        ],
        [
         "104",
         "3238.177967641373",
         "2011"
        ],
        [
         "105",
         "3514.690129960512",
         "2011"
        ],
        [
         "108",
         "3090.89413681191",
         "2002"
        ],
        [
         "111",
         "3444.2532181983206",
         "2008"
        ],
        [
         "113",
         "3146.743143565958",
         "2005"
        ],
        [
         "115",
         "3642.4980770826874",
         "2001"
        ],
        [
         "117",
         "3650.722390412526",
         "2010"
        ],
        [
         "119",
         "2859.270425474493",
         "2017"
        ],
        [
         "123",
         "2435.3611644468947",
         "2006"
        ],
        [
         "125",
         "2950.822121334588",
         "2013"
        ],
        [
         "130",
         "3011.935745333787",
         "2018"
        ],
        [
         "131",
         "2842.992310766458",
         "2010"
        ],
        [
         "132",
         "2686.2920420207847",
         "2011"
        ],
        [
         "134",
         "2528.3479461904435",
         "2002"
        ],
        [
         "135",
         "3678.720747386177",
         "2022"
        ],
        [
         "144",
         "2216.540197957567",
         "2016"
        ],
        [
         "151",
         "3953.311649204393",
         "2003"
        ],
        [
         "153",
         "2376.284548972947",
         "2005"
        ],
        [
         "154",
         "3966.299770850817",
         "2014"
        ],
        [
         "156",
         "2577.120411484481",
         "2007"
        ],
        [
         "160",
         "2403.181129982779",
         "2020"
        ],
        [
         "161",
         "2374.4828658875795",
         "2015"
        ],
        [
         "166",
         "3965.339213908783",
         "2018"
        ],
        [
         "167",
         "2824.478265006889",
         "2002"
        ],
        [
         "171",
         "2156.3676639373502",
         "2012"
        ],
        [
         "172",
         "4043.595771631228",
         "2014"
        ],
        [
         "173",
         "2697.423182331291",
         "2011"
        ],
        [
         "176",
         "3450.59314322959",
         "2023"
        ],
        [
         "184",
         "3007.3271482865844",
         "2022"
        ],
        [
         "185",
         "2725.919222680632",
         "2015"
        ]
       ],
       "shape": {
        "columns": 2,
        "rows": 3247
       }
      },
      "text/html": [
       "<div>\n",
       "<style scoped>\n",
       "    .dataframe tbody tr th:only-of-type {\n",
       "        vertical-align: middle;\n",
       "    }\n",
       "\n",
       "    .dataframe tbody tr th {\n",
       "        vertical-align: top;\n",
       "    }\n",
       "\n",
       "    .dataframe thead th {\n",
       "        text-align: right;\n",
       "    }\n",
       "</style>\n",
       "<table border=\"1\" class=\"dataframe\">\n",
       "  <thead>\n",
       "    <tr style=\"text-align: right;\">\n",
       "      <th></th>\n",
       "      <th>vehicle_weight</th>\n",
       "      <th>model_year</th>\n",
       "    </tr>\n",
       "  </thead>\n",
       "  <tbody>\n",
       "    <tr>\n",
       "      <th>8</th>\n",
       "      <td>2714.219310</td>\n",
       "      <td>2016</td>\n",
       "    </tr>\n",
       "    <tr>\n",
       "      <th>12</th>\n",
       "      <td>2783.868974</td>\n",
       "      <td>2010</td>\n",
       "    </tr>\n",
       "    <tr>\n",
       "      <th>14</th>\n",
       "      <td>3582.687368</td>\n",
       "      <td>2007</td>\n",
       "    </tr>\n",
       "    <tr>\n",
       "      <th>20</th>\n",
       "      <td>2231.808142</td>\n",
       "      <td>2011</td>\n",
       "    </tr>\n",
       "    <tr>\n",
       "      <th>21</th>\n",
       "      <td>2659.431451</td>\n",
       "      <td>2016</td>\n",
       "    </tr>\n",
       "    <tr>\n",
       "      <th>...</th>\n",
       "      <td>...</td>\n",
       "      <td>...</td>\n",
       "    </tr>\n",
       "    <tr>\n",
       "      <th>9688</th>\n",
       "      <td>3948.404625</td>\n",
       "      <td>2018</td>\n",
       "    </tr>\n",
       "    <tr>\n",
       "      <th>9692</th>\n",
       "      <td>3680.341381</td>\n",
       "      <td>2016</td>\n",
       "    </tr>\n",
       "    <tr>\n",
       "      <th>9693</th>\n",
       "      <td>2545.070139</td>\n",
       "      <td>2012</td>\n",
       "    </tr>\n",
       "    <tr>\n",
       "      <th>9698</th>\n",
       "      <td>3107.427820</td>\n",
       "      <td>2005</td>\n",
       "    </tr>\n",
       "    <tr>\n",
       "      <th>9703</th>\n",
       "      <td>2908.043477</td>\n",
       "      <td>2005</td>\n",
       "    </tr>\n",
       "  </tbody>\n",
       "</table>\n",
       "<p>3247 rows × 2 columns</p>\n",
       "</div>"
      ],
      "text/plain": [
       "      vehicle_weight  model_year\n",
       "8        2714.219310        2016\n",
       "12       2783.868974        2010\n",
       "14       3582.687368        2007\n",
       "20       2231.808142        2011\n",
       "21       2659.431451        2016\n",
       "...              ...         ...\n",
       "9688     3948.404625        2018\n",
       "9692     3680.341381        2016\n",
       "9693     2545.070139        2012\n",
       "9698     3107.427820        2005\n",
       "9703     2908.043477        2005\n",
       "\n",
       "[3247 rows x 2 columns]"
      ]
     },
     "execution_count": 59,
     "metadata": {},
     "output_type": "execute_result"
    }
   ],
   "source": [
    "df[['vehicle_weight', 'model_year']]\n"
   ]
  },
  {
   "cell_type": "code",
   "execution_count": 60,
   "id": "3916f21e",
   "metadata": {},
   "outputs": [
    {
     "data": {
      "application/vnd.microsoft.datawrangler.viewer.v0+json": {
       "columns": [
        {
         "name": "index",
         "rawType": "int64",
         "type": "integer"
        },
        {
         "name": "vehicle_weight",
         "rawType": "float64",
         "type": "float"
        },
        {
         "name": "model_year",
         "rawType": "int64",
         "type": "integer"
        }
       ],
       "ref": "c51a66ad-c764-439e-8be2-fda1656f7aad",
       "rows": [
        [
         "8",
         "2714.219309645285",
         "2016"
        ],
        [
         "12",
         "2783.8689742437728",
         "2010"
        ],
        [
         "14",
         "3582.687367715132",
         "2007"
        ],
        [
         "20",
         "2231.8081416029345",
         "2011"
        ],
        [
         "21",
         "2659.431450757995",
         "2016"
        ],
        [
         "34",
         "2844.2275338857653",
         "2014"
        ],
        [
         "38",
         "3761.9940381922206",
         "2019"
        ]
       ],
       "shape": {
        "columns": 2,
        "rows": 7
       }
      },
      "text/html": [
       "<div>\n",
       "<style scoped>\n",
       "    .dataframe tbody tr th:only-of-type {\n",
       "        vertical-align: middle;\n",
       "    }\n",
       "\n",
       "    .dataframe tbody tr th {\n",
       "        vertical-align: top;\n",
       "    }\n",
       "\n",
       "    .dataframe thead th {\n",
       "        text-align: right;\n",
       "    }\n",
       "</style>\n",
       "<table border=\"1\" class=\"dataframe\">\n",
       "  <thead>\n",
       "    <tr style=\"text-align: right;\">\n",
       "      <th></th>\n",
       "      <th>vehicle_weight</th>\n",
       "      <th>model_year</th>\n",
       "    </tr>\n",
       "  </thead>\n",
       "  <tbody>\n",
       "    <tr>\n",
       "      <th>8</th>\n",
       "      <td>2714.219310</td>\n",
       "      <td>2016</td>\n",
       "    </tr>\n",
       "    <tr>\n",
       "      <th>12</th>\n",
       "      <td>2783.868974</td>\n",
       "      <td>2010</td>\n",
       "    </tr>\n",
       "    <tr>\n",
       "      <th>14</th>\n",
       "      <td>3582.687368</td>\n",
       "      <td>2007</td>\n",
       "    </tr>\n",
       "    <tr>\n",
       "      <th>20</th>\n",
       "      <td>2231.808142</td>\n",
       "      <td>2011</td>\n",
       "    </tr>\n",
       "    <tr>\n",
       "      <th>21</th>\n",
       "      <td>2659.431451</td>\n",
       "      <td>2016</td>\n",
       "    </tr>\n",
       "    <tr>\n",
       "      <th>34</th>\n",
       "      <td>2844.227534</td>\n",
       "      <td>2014</td>\n",
       "    </tr>\n",
       "    <tr>\n",
       "      <th>38</th>\n",
       "      <td>3761.994038</td>\n",
       "      <td>2019</td>\n",
       "    </tr>\n",
       "  </tbody>\n",
       "</table>\n",
       "</div>"
      ],
      "text/plain": [
       "    vehicle_weight  model_year\n",
       "8      2714.219310        2016\n",
       "12     2783.868974        2010\n",
       "14     3582.687368        2007\n",
       "20     2231.808142        2011\n",
       "21     2659.431451        2016\n",
       "34     2844.227534        2014\n",
       "38     3761.994038        2019"
      ]
     },
     "execution_count": 60,
     "metadata": {},
     "output_type": "execute_result"
    }
   ],
   "source": [
    "df[['vehicle_weight', 'model_year']].head(7)"
   ]
  },
  {
   "cell_type": "code",
   "execution_count": 61,
   "id": "24de2e2a",
   "metadata": {},
   "outputs": [
    {
     "data": {
      "text/plain": [
       "array([[2714.21930965, 2016.        ],\n",
       "       [2783.86897424, 2010.        ],\n",
       "       [3582.68736772, 2007.        ],\n",
       "       ...,\n",
       "       [2545.07013932, 2012.        ],\n",
       "       [3107.42781965, 2005.        ],\n",
       "       [2908.04347736, 2005.        ]], shape=(3247, 2))"
      ]
     },
     "execution_count": 61,
     "metadata": {},
     "output_type": "execute_result"
    }
   ],
   "source": [
    "X=df[['vehicle_weight', 'model_year']].values\n",
    "X"
   ]
  },
  {
   "cell_type": "code",
   "execution_count": 62,
   "id": "3da4904b",
   "metadata": {},
   "outputs": [
    {
     "data": {
      "text/plain": [
       "2"
      ]
     },
     "execution_count": 62,
     "metadata": {},
     "output_type": "execute_result"
    }
   ],
   "source": [
    "X.shape[1]"
   ]
  },
  {
   "cell_type": "code",
   "execution_count": 63,
   "id": "ab73fb08",
   "metadata": {},
   "outputs": [
    {
     "data": {
      "text/plain": [
       "2"
      ]
     },
     "execution_count": 63,
     "metadata": {},
     "output_type": "execute_result"
    }
   ],
   "source": [
    "X.T.shape[0]"
   ]
  },
  {
   "cell_type": "code",
   "execution_count": 64,
   "id": "76afe666",
   "metadata": {},
   "outputs": [
    {
     "data": {
      "text/plain": [
       "array([[3.01651358e+10, 1.96349896e+10],\n",
       "       [1.96349896e+10, 1.31377985e+10]])"
      ]
     },
     "execution_count": 64,
     "metadata": {},
     "output_type": "execute_result"
    }
   ],
   "source": [
    "#Compute matrix-matrix multiplication between the transpose of X and X. To get the transpose, use X.T. Let's call the result XTX.\n",
    "X.T.dot(X)"
   ]
  },
  {
   "cell_type": "code",
   "execution_count": 65,
   "id": "b233072c",
   "metadata": {},
   "outputs": [],
   "source": [
    "#Invert XTX.\n",
    "import numpy as np"
   ]
  },
  {
   "cell_type": "code",
   "execution_count": 66,
   "id": "6adfe854",
   "metadata": {},
   "outputs": [],
   "source": [
    "y=[1100, 1300, 800, 900, 1000, 1100, 1200]"
   ]
  },
  {
   "cell_type": "code",
   "execution_count": null,
   "id": "b9758f40",
   "metadata": {},
   "outputs": [
    {
     "name": "stdout",
     "output_type": "stream",
     "text": [
      "0.5187709081074016\n"
     ]
    },
    {
     "ename": "",
     "evalue": "",
     "output_type": "error",
     "traceback": [
      "\u001b[1;31mThe Kernel crashed while executing code in the current cell or a previous cell. \n",
      "\u001b[1;31mPlease review the code in the cell(s) to identify a possible cause of the failure. \n",
      "\u001b[1;31mClick <a href='https://aka.ms/vscodeJupyterKernelCrash'>here</a> for more info. \n",
      "\u001b[1;31mView Jupyter <a href='command:jupyter.viewOutput'>log</a> for further details."
     ]
    }
   ],
   "source": [
    "# Select all the cars from Asia\n",
    "# Select only columns vehicle_weight and model_year\n",
    "# Select the first 7 values\n",
    "# Get the underlying NumPy array. Let's call it X.\n",
    "# Compute matrix-matrix multiplication between the transpose of X and X. To get the transpose, use X.T. Let's call the result XTX.\n",
    "# Invert XTX.\n",
    "# Create an array y with values [1100, 1300, 800, 900, 1000, 1100, 1200].\n",
    "# Multiply the inverse of XTX with the transpose of X, and then multiply the result by y. Call the result w.\n",
    "# What's the sum of all the elements of the result?\n",
    " \n",
    "# Select all the cars from Asia\n",
    "df_asia = df[df['origin'] == 'Asia']\n",
    "\n",
    "# Select only columns vehicle_weight and model_year, first 7 values\n",
    "X = df_asia[['vehicle_weight', 'model_year']].head(7).values\n",
    "\n",
    "# Compute XTX and invert it\n",
    "import numpy as np\n",
    "XTX = X.T.dot(X)\n",
    "XTX_inv = np.linalg.inv(XTX)\n",
    "\n",
    "# Create y\n",
    "y = np.array([1100, 1300, 800, 900, 1000, 1100, 1200])\n",
    "\n",
    "# Calculate w\n",
    "w = XTX_inv.dot(X.T).dot(y)\n",
    "\n",
    "# Sum of all elements of w\n",
    "w_sum = w.sum()\n",
    "print(w_sum)\n",
    "\n",
    "#w = (X^T X)^(-1) X^T y\n"
   ]
  },
  {
   "cell_type": "code",
   "execution_count": null,
   "id": "8c8654b3",
   "metadata": {},
   "outputs": [],
   "source": []
  }
 ],
 "metadata": {
  "kernelspec": {
   "display_name": "Python 3",
   "language": "python",
   "name": "python3"
  },
  "language_info": {
   "codemirror_mode": {
    "name": "ipython",
    "version": 3
   },
   "file_extension": ".py",
   "mimetype": "text/x-python",
   "name": "python",
   "nbconvert_exporter": "python",
   "pygments_lexer": "ipython3",
   "version": "3.13.7"
  }
 },
 "nbformat": 4,
 "nbformat_minor": 5
}

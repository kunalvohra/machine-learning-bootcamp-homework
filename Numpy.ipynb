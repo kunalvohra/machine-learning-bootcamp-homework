{
 "cells": [
  {
   "cell_type": "code",
   "execution_count": 1,
   "id": "dbc4249a",
   "metadata": {},
   "outputs": [
    {
     "name": "stdout",
     "output_type": "stream",
     "text": [
      "2.3.2\n"
     ]
    }
   ],
   "source": [
    "import pandas as pd\n",
    "print(pd.__version__)"
   ]
  },
  {
   "cell_type": "code",
   "execution_count": 2,
   "id": "0f07c6a3",
   "metadata": {},
   "outputs": [
    {
     "name": "stdout",
     "output_type": "stream",
     "text": [
      "2.3.3\n"
     ]
    }
   ],
   "source": [
    "import numpy as np\n",
    "print(np.__version__)"
   ]
  },
  {
   "cell_type": "code",
   "execution_count": null,
   "id": "609b1f65",
   "metadata": {},
   "outputs": [
    {
     "data": {
      "text/plain": [
       "array([0., 0., 0., 0., 0., 0., 0., 0., 0., 0.])"
      ]
     },
     "execution_count": 3,
     "metadata": {},
     "output_type": "execute_result"
    }
   ],
   "source": [
    "np.zeros(10)\n",
    "# array of 10 zeros"
   ]
  },
  {
   "cell_type": "code",
   "execution_count": null,
   "id": "1f150a7e",
   "metadata": {},
   "outputs": [
    {
     "data": {
      "text/plain": [
       "array([5, 5, 5, 5, 5, 5, 5, 5, 5, 5])"
      ]
     },
     "execution_count": 4,
     "metadata": {},
     "output_type": "execute_result"
    }
   ],
   "source": [
    "np.full(10,5)\n",
    "# array of 10 fives"
   ]
  },
  {
   "cell_type": "code",
   "execution_count": 5,
   "id": "683b6648",
   "metadata": {},
   "outputs": [
    {
     "data": {
      "text/plain": [
       "array([1, 2, 3, 4, 5])"
      ]
     },
     "execution_count": 5,
     "metadata": {},
     "output_type": "execute_result"
    }
   ],
   "source": [
    "list_list=[1,2,3,4,5]\n",
    "a=np.array(list_list)\n",
    "a"
   ]
  },
  {
   "cell_type": "code",
   "execution_count": 9,
   "id": "7aede05f",
   "metadata": {},
   "outputs": [
    {
     "name": "stdout",
     "output_type": "stream",
     "text": [
      "3\n",
      "[1 2 3]\n",
      "[ 1  2 10 10  5]\n"
     ]
    }
   ],
   "source": [
    "print(a[2])\n",
    "print( a[0:3])\n",
    "#  similar to python lists  \n",
    "a[2:4]=10\n",
    "print(a)"
   ]
  },
  {
   "cell_type": "markdown",
   "id": "08b0cfb0",
   "metadata": {},
   "source": [
    "Multi dimensional array"
   ]
  },
  {
   "cell_type": "code",
   "execution_count": 10,
   "id": "ce983c4e",
   "metadata": {},
   "outputs": [
    {
     "data": {
      "text/plain": [
       "array([[0., 0., 0., 0.],\n",
       "       [0., 0., 0., 0.],\n",
       "       [0., 0., 0., 0.]])"
      ]
     },
     "execution_count": 10,
     "metadata": {},
     "output_type": "execute_result"
    }
   ],
   "source": [
    "np.zeros((3,4))"
   ]
  },
  {
   "cell_type": "code",
   "execution_count": 12,
   "id": "2652a698",
   "metadata": {},
   "outputs": [
    {
     "name": "stdout",
     "output_type": "stream",
     "text": [
      "[[ 1  2  3  4]\n",
      " [ 5  6  7  8]\n",
      " [ 9 10 11 12]]\n"
     ]
    }
   ],
   "source": [
    "n_2d=np.array([[1,2,3,4],[5,6,7,8],[9,10,11,12]])\n",
    "#list of lists  \n",
    "# 2d array\n",
    "print(n_2d)"
   ]
  },
  {
   "cell_type": "code",
   "execution_count": 15,
   "id": "f93a6ae0",
   "metadata": {},
   "outputs": [
    {
     "name": "stdout",
     "output_type": "stream",
     "text": [
      "7\n",
      "20\n"
     ]
    }
   ],
   "source": [
    "print(n_2d[1,2])\n",
    "#row  1, col 2\n",
    "\n",
    "n_2d[1,2] = 20\n",
    "print(n_2d[1,2])\n",
    "#change value at row 1, col 2\n"
   ]
  },
  {
   "cell_type": "code",
   "execution_count": 19,
   "id": "4cfdd776",
   "metadata": {},
   "outputs": [
    {
     "name": "stdout",
     "output_type": "stream",
     "text": [
      "[[ 1  2  3  4]\n",
      " [ 5  6 20  8]\n",
      " [ 9 10 11 12]]\n"
     ]
    }
   ],
   "source": [
    "#rewrite entire row in 2d array\n",
    "n_2d[2] = [9,10,11,12]\n",
    "print(n_2d)"
   ]
  },
  {
   "cell_type": "code",
   "execution_count": 23,
   "id": "57895e60",
   "metadata": {},
   "outputs": [
    {
     "name": "stdout",
     "output_type": "stream",
     "text": [
      "[1 5 9]\n"
     ]
    }
   ],
   "source": [
    "# fetch all rows first elements\n",
    "print(n_2d[:,0])"
   ]
  },
  {
   "cell_type": "markdown",
   "id": "c61f7017",
   "metadata": {},
   "source": [
    "Randomly distribution"
   ]
  },
  {
   "cell_type": "code",
   "execution_count": null,
   "id": "7d0e0c2f",
   "metadata": {},
   "outputs": [
    {
     "data": {
      "text/plain": [
       "array([[0.67021495, 0.18915976, 0.44016473, 0.49678864],\n",
       "       [0.8900298 , 0.90264993, 0.7397645 , 0.53527372],\n",
       "       [0.91291034, 0.06429699, 0.56729173, 0.95200859]])"
      ]
     },
     "execution_count": 24,
     "metadata": {},
     "output_type": "execute_result"
    }
   ],
   "source": [
    "np.random.rand(3,4)\n",
    "#different random values each time"
   ]
  },
  {
   "cell_type": "code",
   "execution_count": null,
   "id": "033c9290",
   "metadata": {},
   "outputs": [
    {
     "data": {
      "text/plain": [
       "array([[0.4359949 , 0.02592623],\n",
       "       [0.54966248, 0.43532239],\n",
       "       [0.4203678 , 0.33033482],\n",
       "       [0.20464863, 0.61927097],\n",
       "       [0.29965467, 0.26682728]])"
      ]
     },
     "execution_count": 25,
     "metadata": {},
     "output_type": "execute_result"
    }
   ],
   "source": [
    "np.random.seed(2)\n",
    "#same random values each time\n",
    "np.random.rand(5,2)\n"
   ]
  },
  {
   "cell_type": "code",
   "execution_count": 27,
   "id": "4a13c2b7",
   "metadata": {},
   "outputs": [
    {
     "data": {
      "text/plain": [
       "array([[ 53.90583206, -59.61596998],\n",
       "       [ -1.91304965, 117.50012195],\n",
       "       [-74.78709493,   0.9025251 ],\n",
       "       [-87.81078932, -15.64341704]])"
      ]
     },
     "execution_count": 27,
     "metadata": {},
     "output_type": "execute_result"
    }
   ],
   "source": [
    "#random normal distrubt ion \n",
    "100*np.random.randn(4,2)"
   ]
  },
  {
   "cell_type": "code",
   "execution_count": null,
   "id": "904221b8",
   "metadata": {},
   "outputs": [
    {
     "data": {
      "text/plain": [
       "array([[0, 4, 2, 4],\n",
       "       [1, 7, 8, 2],\n",
       "       [9, 8, 7, 1]], dtype=int32)"
      ]
     },
     "execution_count": 28,
     "metadata": {},
     "output_type": "execute_result"
    }
   ],
   "source": [
    "np.random.randint(0,10,(3,4))\n",
    "#random integers between 0 and 10\n",
    "# 10 is exclusive"
   ]
  },
  {
   "cell_type": "markdown",
   "id": "6517b4b6",
   "metadata": {},
   "source": [
    "Element wise operations"
   ]
  },
  {
   "cell_type": "code",
   "execution_count": 33,
   "id": "c224e6ca",
   "metadata": {},
   "outputs": [
    {
     "data": {
      "text/plain": [
       "array([0, 1, 2, 3, 4])"
      ]
     },
     "execution_count": 33,
     "metadata": {},
     "output_type": "execute_result"
    }
   ],
   "source": [
    "n=np.arange(5)\n",
    "n"
   ]
  },
  {
   "cell_type": "code",
   "execution_count": 36,
   "id": "dea138fe",
   "metadata": {},
   "outputs": [
    {
     "name": "stdout",
     "output_type": "stream",
     "text": [
      "[1 2 3 4 5]\n",
      "[0 2 4 6 8]\n",
      "[10.         10.66666667 11.33333333 12.         12.66666667]\n"
     ]
    }
   ],
   "source": [
    "print(n+1)\n",
    "# in python we cannot add a scalar to a list\n",
    "# but in numpy we can add a scalar to an array\n",
    "print(n*2)\n",
    "print(10+ (n*2)/3)\n"
   ]
  },
  {
   "cell_type": "code",
   "execution_count": 37,
   "id": "4c0fd7c1",
   "metadata": {},
   "outputs": [
    {
     "data": {
      "text/plain": [
       "array([10. , 11.5, 13. , 14.5, 16. ])"
      ]
     },
     "execution_count": 37,
     "metadata": {},
     "output_type": "execute_result"
    }
   ],
   "source": [
    "a=10+ (n*2)/4\n",
    "b=n\n",
    "\n",
    "a+b"
   ]
  },
  {
   "cell_type": "markdown",
   "id": "dc7caae5",
   "metadata": {},
   "source": [
    "Comparision operation"
   ]
  },
  {
   "cell_type": "code",
   "execution_count": 43,
   "id": "1d88302f",
   "metadata": {},
   "outputs": [
    {
     "name": "stdout",
     "output_type": "stream",
     "text": [
      "[1.66666667 1.75       1.83333333 1.91666667 2.        ]\n"
     ]
    },
    {
     "data": {
      "text/plain": [
       "array([False, False, False, False,  True])"
      ]
     },
     "execution_count": 43,
     "metadata": {},
     "output_type": "execute_result"
    }
   ],
   "source": [
    "b=a/6\n",
    "print(b)\n",
    "b >= 2\n",
    "#which elements in a are greater than 2"
   ]
  },
  {
   "cell_type": "code",
   "execution_count": null,
   "id": "1ed69813",
   "metadata": {},
   "outputs": [
    {
     "data": {
      "text/plain": [
       "array([ True,  True,  True,  True,  True])"
      ]
     },
     "execution_count": 44,
     "metadata": {},
     "output_type": "execute_result"
    }
   ],
   "source": [
    "a> b\n",
    "#comparision operation of each element of a with each element of b\n",
    "# returns boolean array"
   ]
  },
  {
   "cell_type": "code",
   "execution_count": 48,
   "id": "1242719e",
   "metadata": {},
   "outputs": [
    {
     "data": {
      "text/plain": [
       "array([10. , 10.5, 11. , 11.5, 12. ])"
      ]
     },
     "execution_count": 48,
     "metadata": {},
     "output_type": "execute_result"
    }
   ],
   "source": [
    "a[a> b]\n",
    "#which elements in a are greater than corresponding elements in b\n",
    "# all elements of a where condition is true"
   ]
  },
  {
   "cell_type": "code",
   "execution_count": 51,
   "id": "c036f8be",
   "metadata": {},
   "outputs": [
    {
     "name": "stdout",
     "output_type": "stream",
     "text": [
      "[10.  10.5 11.  11.5 12. ]\n"
     ]
    },
    {
     "data": {
      "text/plain": [
       "np.float64(55.0)"
      ]
     },
     "execution_count": 51,
     "metadata": {},
     "output_type": "execute_result"
    }
   ],
   "source": [
    "# summarizing arrays#\n",
    "print(a)\n",
    "np.sum(a)"
   ]
  },
  {
   "cell_type": "code",
   "execution_count": 52,
   "id": "1c4e0341",
   "metadata": {},
   "outputs": [
    {
     "data": {
      "text/plain": [
       "np.float64(10.0)"
      ]
     },
     "execution_count": 52,
     "metadata": {},
     "output_type": "execute_result"
    }
   ],
   "source": [
    "a.min()"
   ]
  },
  {
   "cell_type": "code",
   "execution_count": 55,
   "id": "c57573aa",
   "metadata": {},
   "outputs": [
    {
     "name": "stdout",
     "output_type": "stream",
     "text": [
      "[10.  10.5 11.  11.5 12. ]\n"
     ]
    }
   ],
   "source": [
    "a.sort()\n",
    "print(a)"
   ]
  },
  {
   "cell_type": "code",
   "execution_count": 65,
   "id": "5506d3a6",
   "metadata": {},
   "outputs": [
    {
     "name": "stdout",
     "output_type": "stream",
     "text": [
      "[[7 4 3 6]\n",
      " [1 4 0 8]\n",
      " [5 4 2 9]]\n",
      "[13 12  5 23]\n",
      "[20 13 20]\n",
      "53\n"
     ]
    }
   ],
   "source": [
    "n2d=np.random.randint(0,10,(3,4))\n",
    "print(n2d)\n",
    "print(n2d.sum(axis=0)) #sum of each column\n",
    "print(n2d.sum(axis=1)) #sum of each row\n",
    "#total sum \n",
    "print( np.sum(n2d))"
   ]
  },
  {
   "cell_type": "code",
   "execution_count": null,
   "id": "11c69572",
   "metadata": {},
   "outputs": [
    {
     "name": "stdout",
     "output_type": "stream",
     "text": [
      "[[8 8]\n",
      " [6 2]]\n",
      "**************************************************\n",
      "[[8 7]\n",
      " [2 1]]\n"
     ]
    },
    {
     "data": {
      "text/plain": [
       "array([[64, 56],\n",
       "       [12,  2]], dtype=int32)"
      ]
     },
     "execution_count": 9,
     "metadata": {},
     "output_type": "execute_result"
    }
   ],
   "source": [
    "np.random.seed(2)\n",
    "a=np.random.randint(0,10,(2,2))\n",
    "b=np.random.randint(0,10,(2,2))\n",
    "print(a)\n",
    "print(50*\"*\")\n",
    "print(b)\n",
    "a*b\n",
    "#`element wise multiplication, each element of a is multiplied by corresponding element of b`\n"
   ]
  },
  {
   "cell_type": "code",
   "execution_count": null,
   "id": "c47e1774",
   "metadata": {},
   "outputs": [
    {
     "data": {
      "text/plain": [
       "array([[80, 64],\n",
       "       [52, 44]], dtype=int32)"
      ]
     },
     "execution_count": 10,
     "metadata": {},
     "output_type": "execute_result"
    }
   ],
   "source": [
    "# topics covered\n",
    "#array multiplication,array addition, array subtraction, matrix multiplication, \n"
   ]
  },
  {
   "cell_type": "code",
   "execution_count": null,
   "id": "2cd160f9",
   "metadata": {},
   "outputs": [],
   "source": []
  }
 ],
 "metadata": {
  "kernelspec": {
   "display_name": "Python 3",
   "language": "python",
   "name": "python3"
  },
  "language_info": {
   "codemirror_mode": {
    "name": "ipython",
    "version": 3
   },
   "file_extension": ".py",
   "mimetype": "text/x-python",
   "name": "python",
   "nbconvert_exporter": "python",
   "pygments_lexer": "ipython3",
   "version": "3.13.7"
  }
 },
 "nbformat": 4,
 "nbformat_minor": 5
}
